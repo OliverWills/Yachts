{
  "cells": [
    {
      "cell_type": "markdown",
      "metadata": {
        "id": "view-in-github",
        "colab_type": "text"
      },
      "source": [
        "<a href=\"https://colab.research.google.com/github/OliverWills/Yachts/blob/main/Yacht_Model_Review.ipynb\" target=\"_parent\"><img src=\"https://colab.research.google.com/assets/colab-badge.svg\" alt=\"Open In Colab\"/></a>"
      ]
    },
    {
      "cell_type": "code",
      "execution_count": null,
      "metadata": {
        "colab": {
          "base_uri": "https://localhost:8080/"
        },
        "id": "4WJs7nEGnswc",
        "outputId": "8f3b5bfd-e8d5-4bc7-9054-454691682f4d"
      },
      "outputs": [
        {
          "name": "stdout",
          "output_type": "stream",
          "text": [
            "Collecting transformers\n",
            "  Downloading transformers-4.33.1-py3-none-any.whl (7.6 MB)\n",
            "\u001b[2K     \u001b[90m━━━━━━━━━━━━━━━━━━━━━━━━━━━━━━━━━━━━━━━━\u001b[0m \u001b[32m7.6/7.6 MB\u001b[0m \u001b[31m29.3 MB/s\u001b[0m eta \u001b[36m0:00:00\u001b[0m\n",
            "\u001b[?25hRequirement already satisfied: filelock in /usr/local/lib/python3.10/dist-packages (from transformers) (3.12.2)\n",
            "Collecting huggingface-hub<1.0,>=0.15.1 (from transformers)\n",
            "  Downloading huggingface_hub-0.17.1-py3-none-any.whl (294 kB)\n",
            "\u001b[2K     \u001b[90m━━━━━━━━━━━━━━━━━━━━━━━━━━━━━━━━━━━━━━\u001b[0m \u001b[32m294.8/294.8 kB\u001b[0m \u001b[31m27.9 MB/s\u001b[0m eta \u001b[36m0:00:00\u001b[0m\n",
            "\u001b[?25hRequirement already satisfied: numpy>=1.17 in /usr/local/lib/python3.10/dist-packages (from transformers) (1.23.5)\n",
            "Requirement already satisfied: packaging>=20.0 in /usr/local/lib/python3.10/dist-packages (from transformers) (23.1)\n",
            "Requirement already satisfied: pyyaml>=5.1 in /usr/local/lib/python3.10/dist-packages (from transformers) (6.0.1)\n",
            "Requirement already satisfied: regex!=2019.12.17 in /usr/local/lib/python3.10/dist-packages (from transformers) (2023.6.3)\n",
            "Requirement already satisfied: requests in /usr/local/lib/python3.10/dist-packages (from transformers) (2.31.0)\n",
            "Collecting tokenizers!=0.11.3,<0.14,>=0.11.1 (from transformers)\n",
            "  Downloading tokenizers-0.13.3-cp310-cp310-manylinux_2_17_x86_64.manylinux2014_x86_64.whl (7.8 MB)\n",
            "\u001b[2K     \u001b[90m━━━━━━━━━━━━━━━━━━━━━━━━━━━━━━━━━━━━━━━━\u001b[0m \u001b[32m7.8/7.8 MB\u001b[0m \u001b[31m52.4 MB/s\u001b[0m eta \u001b[36m0:00:00\u001b[0m\n",
            "\u001b[?25hCollecting safetensors>=0.3.1 (from transformers)\n",
            "  Downloading safetensors-0.3.3-cp310-cp310-manylinux_2_17_x86_64.manylinux2014_x86_64.whl (1.3 MB)\n",
            "\u001b[2K     \u001b[90m━━━━━━━━━━━━━━━━━━━━━━━━━━━━━━━━━━━━━━━━\u001b[0m \u001b[32m1.3/1.3 MB\u001b[0m \u001b[31m54.6 MB/s\u001b[0m eta \u001b[36m0:00:00\u001b[0m\n",
            "\u001b[?25hRequirement already satisfied: tqdm>=4.27 in /usr/local/lib/python3.10/dist-packages (from transformers) (4.66.1)\n",
            "Requirement already satisfied: fsspec in /usr/local/lib/python3.10/dist-packages (from huggingface-hub<1.0,>=0.15.1->transformers) (2023.6.0)\n",
            "Requirement already satisfied: typing-extensions>=3.7.4.3 in /usr/local/lib/python3.10/dist-packages (from huggingface-hub<1.0,>=0.15.1->transformers) (4.5.0)\n",
            "Requirement already satisfied: charset-normalizer<4,>=2 in /usr/local/lib/python3.10/dist-packages (from requests->transformers) (3.2.0)\n",
            "Requirement already satisfied: idna<4,>=2.5 in /usr/local/lib/python3.10/dist-packages (from requests->transformers) (3.4)\n",
            "Requirement already satisfied: urllib3<3,>=1.21.1 in /usr/local/lib/python3.10/dist-packages (from requests->transformers) (2.0.4)\n",
            "Requirement already satisfied: certifi>=2017.4.17 in /usr/local/lib/python3.10/dist-packages (from requests->transformers) (2023.7.22)\n",
            "Installing collected packages: tokenizers, safetensors, huggingface-hub, transformers\n",
            "Successfully installed huggingface-hub-0.17.1 safetensors-0.3.3 tokenizers-0.13.3 transformers-4.33.1\n"
          ]
        }
      ],
      "source": [
        "!pip install transformers"
      ]
    },
    {
      "cell_type": "code",
      "execution_count": null,
      "metadata": {
        "id": "PpD-zkT7nQyQ"
      },
      "outputs": [],
      "source": [
        "import torch\n",
        "import torch.nn as nn\n",
        "from transformers import BertModel\n",
        "from google.colab import drive"
      ]
    },
    {
      "cell_type": "code",
      "execution_count": null,
      "metadata": {
        "colab": {
          "base_uri": "https://localhost:8080/",
          "height": 81,
          "referenced_widgets": [
            "5f4cd13f475e429db88b8ac82416267a",
            "c35a5d92b39148e299202902c6c1f68a",
            "fda75b1669a2432a901e3a5bb0675c34",
            "5e25075dfec84a878843aa129f976286",
            "983ed1969dbd45b7ade6880788ca7f4b",
            "0add89f7bebd4ab4b1679f79873bfd1c",
            "2243342a84d7436dbf5a0bed6254321f",
            "22b345a1b84f46938ede77d643b46294",
            "887c95fb192b47b1a3df78974208e08f",
            "8a5d2b8dd32b4b63b40cca990cf17672",
            "087af77049e7498c991fca5061ea6397",
            "09469acc49104283a475f7638835b57d",
            "033de491befc47d48f2c68701f44221a",
            "81d139888d6244d9a3482b9c823524ca",
            "8d6532d991f442e3ba9d949215068759",
            "f983cc7da7184532bee9a33c5550aa21",
            "379dd5066b45441484ce5746446314cc",
            "ed40f96e1c034662b0b66ff3e0a4e00d",
            "3b6277741ecf4df1a62d7616c52e87b4",
            "c4af5e1bfa3a4440bf56a98427cdb155",
            "9ec6bae00a2a4e6c92473ecaf660fd9d",
            "34d9ca58ffe44226b9d684b80cfd1497"
          ]
        },
        "id": "EPGHaTqKnadF",
        "outputId": "d2cd7834-247d-4a21-e6a1-0ea3338800a4"
      },
      "outputs": [
        {
          "data": {
            "application/vnd.jupyter.widget-view+json": {
              "model_id": "5f4cd13f475e429db88b8ac82416267a",
              "version_major": 2,
              "version_minor": 0
            },
            "text/plain": [
              "Downloading (…)lve/main/config.json:   0%|          | 0.00/570 [00:00<?, ?B/s]"
            ]
          },
          "metadata": {},
          "output_type": "display_data"
        },
        {
          "data": {
            "application/vnd.jupyter.widget-view+json": {
              "model_id": "09469acc49104283a475f7638835b57d",
              "version_major": 2,
              "version_minor": 0
            },
            "text/plain": [
              "Downloading model.safetensors:   0%|          | 0.00/436M [00:00<?, ?B/s]"
            ]
          },
          "metadata": {},
          "output_type": "display_data"
        }
      ],
      "source": [
        "class BertRegressor(nn.Module):\n",
        "\n",
        "    def __init__(self, drop_rate=0.2, freeze_bert=False):\n",
        "\n",
        "        super(BertRegressor, self).__init__()\n",
        "        D_in, D_out = 768, 1\n",
        "\n",
        "        self.bert = \\\n",
        "                   BertModel.from_pretrained('bert-base-cased')\n",
        "        self.regressor = nn.Sequential(\n",
        "            nn.Dropout(drop_rate),\n",
        "            nn.Linear(D_in, D_out))\n",
        "    def forward(self, input_ids, attention_masks):\n",
        "\n",
        "        outputs = self.bert(input_ids, attention_masks)\n",
        "        class_label_output = outputs[1]\n",
        "        outputs = self.regressor(class_label_output)\n",
        "        return outputs\n",
        "\n",
        "model = BertRegressor(drop_rate=0.2)"
      ]
    },
    {
      "cell_type": "code",
      "execution_count": null,
      "metadata": {
        "colab": {
          "background_save": true,
          "base_uri": "https://localhost:8080/"
        },
        "id": "ZRHpT1Ajn6m1",
        "outputId": "62eebe02-c5cd-4076-b4f1-16c924119b05"
      },
      "outputs": [
        {
          "name": "stdout",
          "output_type": "stream",
          "text": [
            "Mounted at /content/drive\n"
          ]
        }
      ],
      "source": [
        "drive.mount('/content/drive')"
      ]
    },
    {
      "cell_type": "code",
      "execution_count": null,
      "metadata": {
        "id": "IUTSdw8NnSDW"
      },
      "outputs": [],
      "source": [
        "path = f\"/content/drive/My Drive/BERT_yacht\"\n",
        "#model.load_state_dict(torch.load(path,map_location=torch.device('cpu')))"
      ]
    },
    {
      "cell_type": "code",
      "execution_count": null,
      "metadata": {
        "id": "YYjkMqixo5KD"
      },
      "outputs": [],
      "source": [
        "link = 'https://rss.apolloduck.com/gb2.rss'"
      ]
    },
    {
      "cell_type": "code",
      "execution_count": null,
      "metadata": {
        "colab": {
          "base_uri": "https://localhost:8080/"
        },
        "id": "kCgK-ZAE4rS-",
        "outputId": "112bd676-d387-439c-987b-3961e4a0d840"
      },
      "outputs": [
        {
          "name": "stdout",
          "output_type": "stream",
          "text": [
            "Collecting feedparser\n",
            "  Downloading feedparser-6.0.10-py3-none-any.whl (81 kB)\n",
            "\u001b[?25l     \u001b[90m━━━━━━━━━━━━━━━━━━━━━━━━━━━━━━━━━━━━━━━━\u001b[0m \u001b[32m0.0/81.1 kB\u001b[0m \u001b[31m?\u001b[0m eta \u001b[36m-:--:--\u001b[0m\r\u001b[2K     \u001b[90m━━━━━━━━━━━━━━━━━━━━━━━━━━━━━━━━━━━━━━━━\u001b[0m \u001b[32m81.1/81.1 kB\u001b[0m \u001b[31m2.1 MB/s\u001b[0m eta \u001b[36m0:00:00\u001b[0m\n",
            "\u001b[?25hCollecting sgmllib3k (from feedparser)\n",
            "  Downloading sgmllib3k-1.0.0.tar.gz (5.8 kB)\n",
            "  Preparing metadata (setup.py) ... \u001b[?25l\u001b[?25hdone\n",
            "Building wheels for collected packages: sgmllib3k\n",
            "  Building wheel for sgmllib3k (setup.py) ... \u001b[?25l\u001b[?25hdone\n",
            "  Created wheel for sgmllib3k: filename=sgmllib3k-1.0.0-py3-none-any.whl size=6047 sha256=d17cd5934c941711f6a803ae3ab33d7ddd45b3b0f736c81c4055472c29f153ee\n",
            "  Stored in directory: /root/.cache/pip/wheels/f0/69/93/a47e9d621be168e9e33c7ce60524393c0b92ae83cf6c6e89c5\n",
            "Successfully built sgmllib3k\n",
            "Installing collected packages: sgmllib3k, feedparser\n",
            "Successfully installed feedparser-6.0.10 sgmllib3k-1.0.0\n"
          ]
        }
      ],
      "source": [
        "!pip install feedparser"
      ]
    },
    {
      "cell_type": "code",
      "execution_count": null,
      "metadata": {
        "id": "ij8IS4on4jkq"
      },
      "outputs": [],
      "source": [
        "import feedparser"
      ]
    },
    {
      "cell_type": "code",
      "execution_count": null,
      "metadata": {
        "id": "UaaWdf6Q4yim"
      },
      "outputs": [],
      "source": [
        "feed = feedparser.parse(link)"
      ]
    },
    {
      "cell_type": "code",
      "execution_count": null,
      "metadata": {
        "colab": {
          "base_uri": "https://localhost:8080/"
        },
        "id": "z4D8hMv744ZR",
        "outputId": "599721bd-bb40-471a-b3e5-ccf520235f52"
      },
      "outputs": [
        {
          "data": {
            "text/plain": [
              "dict_keys(['id', 'title', 'title_detail', 'links', 'link', 'summary', 'summary_detail'])"
            ]
          },
          "execution_count": 12,
          "metadata": {},
          "output_type": "execute_result"
        }
      ],
      "source": [
        "feed.entries[0].keys()"
      ]
    },
    {
      "cell_type": "code",
      "execution_count": null,
      "metadata": {
        "id": "eFWCImZ25MgZ"
      },
      "outputs": [],
      "source": [
        "feed_dict = {'id':[], 'title':[], 'summary':[]}"
      ]
    },
    {
      "cell_type": "code",
      "execution_count": null,
      "metadata": {
        "id": "McOTdjp-8Hq7"
      },
      "outputs": [],
      "source": [
        "import numpy as np"
      ]
    },
    {
      "cell_type": "code",
      "execution_count": null,
      "metadata": {
        "id": "Sye-X5FY6djq"
      },
      "outputs": [],
      "source": [
        "for entry in feed.entries:\n",
        "  feed_dict['id'].append(entry.id if entry.id else np.nan)\n",
        "  feed_dict['title'].append(entry.title if entry.title else np.nan)\n",
        "  feed_dict['summary'].append(entry.summary if entry.summary else np.nan)\n"
      ]
    },
    {
      "cell_type": "code",
      "execution_count": null,
      "metadata": {
        "id": "ahvt8PEZ7JEG"
      },
      "outputs": [],
      "source": [
        "import pandas as pd"
      ]
    },
    {
      "cell_type": "code",
      "execution_count": null,
      "metadata": {
        "id": "PRasgvMF7Cm8"
      },
      "outputs": [],
      "source": [
        "df = pd.DataFrame.from_dict(feed_dict)"
      ]
    },
    {
      "cell_type": "code",
      "execution_count": null,
      "metadata": {
        "colab": {
          "base_uri": "https://localhost:8080/"
        },
        "id": "CgIFxp_A-Lf5",
        "outputId": "10720239-aeb9-4d75-edc2-495cf79ee2e8"
      },
      "outputs": [
        {
          "name": "stdout",
          "output_type": "stream",
          "text": [
            "https://yachts.apolloduck.co.uk/boat.phtml?id=728986\n"
          ]
        }
      ],
      "source": [
        "print(df['id'][0])"
      ]
    },
    {
      "cell_type": "code",
      "execution_count": null,
      "metadata": {
        "colab": {
          "base_uri": "https://localhost:8080/"
        },
        "id": "WMjcWJTonJ-I",
        "outputId": "588fd262-f614-4553-c284-503071190cfd"
      },
      "outputs": [
        {
          "name": "stdout",
          "output_type": "stream",
          "text": [
            "Index(['id', 'title', 'summary'], dtype='object')\n"
          ]
        }
      ],
      "source": [
        "print(df.columns)"
      ]
    },
    {
      "cell_type": "code",
      "execution_count": null,
      "metadata": {
        "colab": {
          "base_uri": "https://localhost:8080/",
          "height": 512
        },
        "id": "5EDEpwnr-bSB",
        "outputId": "2e2225dd-d718-4e22-c28e-4af033403378"
      },
      "outputs": [
        {
          "ename": "KeyError",
          "evalue": "ignored",
          "output_type": "error",
          "traceback": [
            "\u001b[0;31m---------------------------------------------------------------------------\u001b[0m",
            "\u001b[0;31mKeyError\u001b[0m                                  Traceback (most recent call last)",
            "\u001b[0;32m/usr/local/lib/python3.10/dist-packages/pandas/core/indexes/base.py\u001b[0m in \u001b[0;36mget_loc\u001b[0;34m(self, key, method, tolerance)\u001b[0m\n\u001b[1;32m   3801\u001b[0m             \u001b[0;32mtry\u001b[0m\u001b[0;34m:\u001b[0m\u001b[0;34m\u001b[0m\u001b[0;34m\u001b[0m\u001b[0m\n\u001b[0;32m-> 3802\u001b[0;31m                 \u001b[0;32mreturn\u001b[0m \u001b[0mself\u001b[0m\u001b[0;34m.\u001b[0m\u001b[0m_engine\u001b[0m\u001b[0;34m.\u001b[0m\u001b[0mget_loc\u001b[0m\u001b[0;34m(\u001b[0m\u001b[0mcasted_key\u001b[0m\u001b[0;34m)\u001b[0m\u001b[0;34m\u001b[0m\u001b[0;34m\u001b[0m\u001b[0m\n\u001b[0m\u001b[1;32m   3803\u001b[0m             \u001b[0;32mexcept\u001b[0m \u001b[0mKeyError\u001b[0m \u001b[0;32mas\u001b[0m \u001b[0merr\u001b[0m\u001b[0;34m:\u001b[0m\u001b[0;34m\u001b[0m\u001b[0;34m\u001b[0m\u001b[0m\n",
            "\u001b[0;32m/usr/local/lib/python3.10/dist-packages/pandas/_libs/index.pyx\u001b[0m in \u001b[0;36mpandas._libs.index.IndexEngine.get_loc\u001b[0;34m()\u001b[0m\n",
            "\u001b[0;32m/usr/local/lib/python3.10/dist-packages/pandas/_libs/index.pyx\u001b[0m in \u001b[0;36mpandas._libs.index.IndexEngine.get_loc\u001b[0;34m()\u001b[0m\n",
            "\u001b[0;32mpandas/_libs/hashtable_class_helper.pxi\u001b[0m in \u001b[0;36mpandas._libs.hashtable.PyObjectHashTable.get_item\u001b[0;34m()\u001b[0m\n",
            "\u001b[0;32mpandas/_libs/hashtable_class_helper.pxi\u001b[0m in \u001b[0;36mpandas._libs.hashtable.PyObjectHashTable.get_item\u001b[0;34m()\u001b[0m\n",
            "\u001b[0;31mKeyError\u001b[0m: 'Title'",
            "\nThe above exception was the direct cause of the following exception:\n",
            "\u001b[0;31mKeyError\u001b[0m                                  Traceback (most recent call last)",
            "\u001b[0;32m<ipython-input-20-d63bb5cb5f7d>\u001b[0m in \u001b[0;36m<cell line: 1>\u001b[0;34m()\u001b[0m\n\u001b[0;32m----> 1\u001b[0;31m \u001b[0mdf\u001b[0m\u001b[0;34m[\u001b[0m\u001b[0;34m'combined'\u001b[0m\u001b[0;34m]\u001b[0m\u001b[0;34m=\u001b[0m\u001b[0;34m\"This is \"\u001b[0m\u001b[0;34m+\u001b[0m\u001b[0mdf\u001b[0m\u001b[0;34m[\u001b[0m\u001b[0;34m'Title'\u001b[0m\u001b[0;34m]\u001b[0m\u001b[0;34m+\u001b[0m\u001b[0;34m\" yacht. It is located in \"\u001b[0m\u001b[0;34m+\u001b[0m\u001b[0mdf\u001b[0m\u001b[0;34m[\u001b[0m\u001b[0;34m'Location'\u001b[0m\u001b[0;34m]\u001b[0m\u001b[0;34m+\u001b[0m\u001b[0;34m\". Tax status is \"\u001b[0m\u001b[0;34m+\u001b[0m\u001b[0mdf\u001b[0m\u001b[0;34m[\u001b[0m\u001b[0;34m'Tax Status'\u001b[0m\u001b[0;34m]\u001b[0m\u001b[0;34m+\u001b[0m\u001b[0;34m\". It was built in \"\u001b[0m\u001b[0;34m+\u001b[0m\u001b[0mdf\u001b[0m\u001b[0;34m[\u001b[0m\u001b[0;34m'Year'\u001b[0m\u001b[0;34m]\u001b[0m\u001b[0;34m.\u001b[0m\u001b[0mastype\u001b[0m\u001b[0;34m(\u001b[0m\u001b[0mstr\u001b[0m\u001b[0;34m)\u001b[0m\u001b[0;34m+\u001b[0m\u001b[0;34m\". It has a length of \"\u001b[0m\u001b[0;34m+\u001b[0m\u001b[0mdf\u001b[0m\u001b[0;34m[\u001b[0m\u001b[0;34m'Length_combined'\u001b[0m\u001b[0;34m]\u001b[0m\u001b[0;34m.\u001b[0m\u001b[0mastype\u001b[0m\u001b[0;34m(\u001b[0m\u001b[0mstr\u001b[0m\u001b[0;34m)\u001b[0m\u001b[0;34m+\u001b[0m\u001b[0;34m\" meters. \"\u001b[0m\u001b[0;34m+\u001b[0m\u001b[0mdf\u001b[0m\u001b[0;34m[\u001b[0m\u001b[0;34m'Description'\u001b[0m\u001b[0;34m]\u001b[0m\u001b[0;34m\u001b[0m\u001b[0;34m\u001b[0m\u001b[0m\n\u001b[0m\u001b[1;32m      2\u001b[0m \u001b[0mdescriptions\u001b[0m\u001b[0;34m=\u001b[0m\u001b[0mdf\u001b[0m\u001b[0;34m[\u001b[0m\u001b[0;34m'combined'\u001b[0m\u001b[0;34m]\u001b[0m\u001b[0;34m.\u001b[0m\u001b[0mtolist\u001b[0m\u001b[0;34m(\u001b[0m\u001b[0;34m)\u001b[0m\u001b[0;34m\u001b[0m\u001b[0;34m\u001b[0m\u001b[0m\n",
            "\u001b[0;32m/usr/local/lib/python3.10/dist-packages/pandas/core/frame.py\u001b[0m in \u001b[0;36m__getitem__\u001b[0;34m(self, key)\u001b[0m\n\u001b[1;32m   3805\u001b[0m             \u001b[0;32mif\u001b[0m \u001b[0mself\u001b[0m\u001b[0;34m.\u001b[0m\u001b[0mcolumns\u001b[0m\u001b[0;34m.\u001b[0m\u001b[0mnlevels\u001b[0m \u001b[0;34m>\u001b[0m \u001b[0;36m1\u001b[0m\u001b[0;34m:\u001b[0m\u001b[0;34m\u001b[0m\u001b[0;34m\u001b[0m\u001b[0m\n\u001b[1;32m   3806\u001b[0m                 \u001b[0;32mreturn\u001b[0m \u001b[0mself\u001b[0m\u001b[0;34m.\u001b[0m\u001b[0m_getitem_multilevel\u001b[0m\u001b[0;34m(\u001b[0m\u001b[0mkey\u001b[0m\u001b[0;34m)\u001b[0m\u001b[0;34m\u001b[0m\u001b[0;34m\u001b[0m\u001b[0m\n\u001b[0;32m-> 3807\u001b[0;31m             \u001b[0mindexer\u001b[0m \u001b[0;34m=\u001b[0m \u001b[0mself\u001b[0m\u001b[0;34m.\u001b[0m\u001b[0mcolumns\u001b[0m\u001b[0;34m.\u001b[0m\u001b[0mget_loc\u001b[0m\u001b[0;34m(\u001b[0m\u001b[0mkey\u001b[0m\u001b[0;34m)\u001b[0m\u001b[0;34m\u001b[0m\u001b[0;34m\u001b[0m\u001b[0m\n\u001b[0m\u001b[1;32m   3808\u001b[0m             \u001b[0;32mif\u001b[0m \u001b[0mis_integer\u001b[0m\u001b[0;34m(\u001b[0m\u001b[0mindexer\u001b[0m\u001b[0;34m)\u001b[0m\u001b[0;34m:\u001b[0m\u001b[0;34m\u001b[0m\u001b[0;34m\u001b[0m\u001b[0m\n\u001b[1;32m   3809\u001b[0m                 \u001b[0mindexer\u001b[0m \u001b[0;34m=\u001b[0m \u001b[0;34m[\u001b[0m\u001b[0mindexer\u001b[0m\u001b[0;34m]\u001b[0m\u001b[0;34m\u001b[0m\u001b[0;34m\u001b[0m\u001b[0m\n",
            "\u001b[0;32m/usr/local/lib/python3.10/dist-packages/pandas/core/indexes/base.py\u001b[0m in \u001b[0;36mget_loc\u001b[0;34m(self, key, method, tolerance)\u001b[0m\n\u001b[1;32m   3802\u001b[0m                 \u001b[0;32mreturn\u001b[0m \u001b[0mself\u001b[0m\u001b[0;34m.\u001b[0m\u001b[0m_engine\u001b[0m\u001b[0;34m.\u001b[0m\u001b[0mget_loc\u001b[0m\u001b[0;34m(\u001b[0m\u001b[0mcasted_key\u001b[0m\u001b[0;34m)\u001b[0m\u001b[0;34m\u001b[0m\u001b[0;34m\u001b[0m\u001b[0m\n\u001b[1;32m   3803\u001b[0m             \u001b[0;32mexcept\u001b[0m \u001b[0mKeyError\u001b[0m \u001b[0;32mas\u001b[0m \u001b[0merr\u001b[0m\u001b[0;34m:\u001b[0m\u001b[0;34m\u001b[0m\u001b[0;34m\u001b[0m\u001b[0m\n\u001b[0;32m-> 3804\u001b[0;31m                 \u001b[0;32mraise\u001b[0m \u001b[0mKeyError\u001b[0m\u001b[0;34m(\u001b[0m\u001b[0mkey\u001b[0m\u001b[0;34m)\u001b[0m \u001b[0;32mfrom\u001b[0m \u001b[0merr\u001b[0m\u001b[0;34m\u001b[0m\u001b[0;34m\u001b[0m\u001b[0m\n\u001b[0m\u001b[1;32m   3805\u001b[0m             \u001b[0;32mexcept\u001b[0m \u001b[0mTypeError\u001b[0m\u001b[0;34m:\u001b[0m\u001b[0;34m\u001b[0m\u001b[0;34m\u001b[0m\u001b[0m\n\u001b[1;32m   3806\u001b[0m                 \u001b[0;31m# If we have a listlike key, _check_indexing_error will raise\u001b[0m\u001b[0;34m\u001b[0m\u001b[0;34m\u001b[0m\u001b[0m\n",
            "\u001b[0;31mKeyError\u001b[0m: 'Title'"
          ]
        }
      ],
      "source": [
        "df['combined']=\"This is \"+df['Title']+\" yacht. It is located in \"+df['Location']+\". Tax status is \"+df['Tax Status']+\". It was built in \"+df['Year'].astype(str)+\". It has a length of \"+df['Length_combined'].astype(str)+\" meters. \"+df['Description']\n",
        "descriptions=df['combined'].tolist()\n"
      ]
    },
    {
      "cell_type": "code",
      "execution_count": null,
      "metadata": {
        "id": "VfAc3nuDBOxE"
      },
      "outputs": [],
      "source": [
        "import requests\n",
        "from bs4 import BeautifulSoup"
      ]
    },
    {
      "cell_type": "code",
      "execution_count": null,
      "metadata": {
        "id": "Rhkbcxc2B5_b"
      },
      "outputs": [],
      "source": [
        "df['Description_Long'] = np.nan\n",
        "df['Price'] = np.nan\n",
        "df['Status'] = np.nan\n",
        "df['Tax_status'] = np.nan\n",
        "df['Location'] = np.nan\n",
        "df['Year'] = np.nan\n",
        "df['Length'] = np.nan\n",
        "df['Description_Short'] = np.nan\n",
        "df['Keywords'] = np.nan\n"
      ]
    },
    {
      "cell_type": "code",
      "execution_count": null,
      "metadata": {
        "colab": {
          "base_uri": "https://localhost:8080/"
        },
        "id": "EnH_DHHMA0Wd",
        "outputId": "91db471c-657b-4c4a-9bfc-3cd53e8215f0"
      },
      "outputs": [
        {
          "name": "stdout",
          "output_type": "stream",
          "text": [
            "https://yachts.apolloduck.co.uk/boat.phtml?id=727846\n",
            "Sailing Yachts: For Sale: Cornish Shrimper 19 1985 Mk1 Hampshire\n"
          ]
        },
        {
          "name": "stderr",
          "output_type": "stream",
          "text": [
            "<ipython-input-197-52e0465421a0>:9: DeprecationWarning: The 'text' argument to find()-type methods is deprecated. Use 'string' instead.\n",
            "  df.loc[i,'Status'] = soup.find('td', class_=\"_pclLabel\", text=re.compile('Status:')).parent.find_all('td')[1].get_text()\n",
            "<ipython-input-197-52e0465421a0>:10: DeprecationWarning: The 'text' argument to find()-type methods is deprecated. Use 'string' instead.\n",
            "  df.loc[i,'Tax_status'] = soup.find('td', class_=\"_pclLabel\", text=re.compile('Tax Status:')).parent.find_all('td')[1].get_text() if soup.find('td', class_=\"_pclLabel\", text=re.compile('Tax Status:')) else ''\n",
            "<ipython-input-197-52e0465421a0>:11: DeprecationWarning: The 'text' argument to find()-type methods is deprecated. Use 'string' instead.\n",
            "  df.loc[i,'Location'] = soup.find('td', class_=\"_pclLabel\", text=re.compile('Location:')).parent.find_all('td')[1].get_text()\n",
            "<ipython-input-197-52e0465421a0>:13: DeprecationWarning: The 'text' argument to find()-type methods is deprecated. Use 'string' instead.\n",
            "  df.loc[i,'Length'] = soup.find('td', class_=\"featureSpecLabel\", text=re.compile('Length over all:')).parent.find_all('td')[1].get_text() if soup.find('td', class_=\"featureSpecLabel\", text=re.compile('Length over all:')) else ''\n"
          ]
        },
        {
          "name": "stdout",
          "output_type": "stream",
          "text": [
            "https://yachts.apolloduck.co.uk/boat.phtml?id=727844\n",
            "Sailing Yachts: For Sale: Stag 28 Waldringfield Boatyard Suffolk\n",
            "https://yachts.apolloduck.co.uk/boat.phtml?id=725187\n",
            "Sailing Yachts: For Sale: Westerly Fulmar  Lifting Keel model Ashore Hayling Island Hampshire\n",
            "https://yachts.apolloduck.co.uk/boat.phtml?id=642843\n",
            "Sailing Yachts: For Sale: Nicholson 32  sold  Kent\n",
            "https://yachts.apolloduck.co.uk/boat.phtml?id=725178\n",
            "Sailing Yachts: For Sale: ARCADIA Surrey\n",
            "https://yachts.apolloduck.co.uk/boat.phtml?id=716632\n",
            "Sailing Yachts: For Sale: 2018 Jeanneau Sun Odyssey 440 Brighton and Hove\n",
            "https://yachts.apolloduck.co.uk/boat.phtml?id=687715\n",
            "Sailing Yachts: For Sale: Evolution 22 Nairn Highland\n",
            "https://yachts.apolloduck.co.uk/boat.phtml?id=730709\n",
            "Sailing Yachts: For Sale: 28 foot Taipan 28 Newell design Truro Cornwall\n",
            "https://yachts.apolloduck.co.uk/boat.phtml?id=730708\n",
            "Sailing Yachts: For Sale: Sadler 25\n",
            "https://yachts.apolloduck.co.uk/boat.phtml?id=730684\n",
            "Sailing Yachts: For Sale: 2004 Beneteau Oceanis 411 Celebration Clyde Inverclyde\n",
            "https://yachts.apolloduck.co.uk/boat.phtml?id=730682\n",
            "Sailing Yachts: For Sale: 2005 Bavaria 30 Cruiser Dartmouth Area\n",
            "https://yachts.apolloduck.co.uk/boat.phtml?id=728854\n",
            "Sailing Yachts: For Sale: UFO34 England Devon\n",
            "https://yachts.apolloduck.co.uk/boat.phtml?id=698002\n",
            "Sailing Yachts: For Sale: Heavy Duty Motor Sailor Kishorn  Highland\n",
            "https://yachts.apolloduck.co.uk/boat.phtml?id=687186\n",
            "Sailing Yachts: For Sale: C  amp  C 40   C amp C40 River Exe  Devon\n",
            "https://yachts.apolloduck.co.uk/boat.phtml?id=617310\n",
            "Sailing Yachts: For Sale: 45ft  HISTORIC LOOE LUGGER    Devon\n"
          ]
        }
      ],
      "source": [
        "i=0\n",
        "for id in df['id'].tolist():\n",
        "  page = requests.get(id, headers=headers)\n",
        "  soup = BeautifulSoup(page.content, \"html.parser\")\n",
        "  print(id)\n",
        "  print(soup.find('meta', attrs={\"name\": \"Description\"})['content'])\n",
        "  df.loc[i,'Description_Long'] = soup.find('div', class_=\"_featureSection cp\").get_text()\n",
        "  df.loc[i,'Price'] = soup.find('div', class_=\"_boatAdvertPrice\").get_text()\n",
        "  df.loc[i,'Status'] = soup.find('td', class_=\"_pclLabel\", text=re.compile('Status:')).parent.find_all('td')[1].get_text()\n",
        "  df.loc[i,'Tax_status'] = soup.find('td', class_=\"_pclLabel\", text=re.compile('Tax Status:')).parent.find_all('td')[1].get_text() if soup.find('td', class_=\"_pclLabel\", text=re.compile('Tax Status:')) else ''\n",
        "  df.loc[i,'Location'] = soup.find('td', class_=\"_pclLabel\", text=re.compile('Location:')).parent.find_all('td')[1].get_text()\n",
        "  df.loc[i,'Year'] = ''\n",
        "  df.loc[i,'Length'] = soup.find('td', class_=\"featureSpecLabel\", text=re.compile('Length over all:')).parent.find_all('td')[1].get_text() if soup.find('td', class_=\"featureSpecLabel\", text=re.compile('Length over all:')) else ''\n",
        "  df.loc[i, 'Description_Short'] = soup.find('meta', attrs={\"name\": \"Description\"})['content']\n",
        "  df.loc[i, 'Keywords'] = soup.find('meta', attrs={\"name\": \"Keywords\"})['content']\n",
        "  i=i+1"
      ]
    },
    {
      "cell_type": "code",
      "execution_count": null,
      "metadata": {
        "id": "feUzHBucCq5T"
      },
      "outputs": [],
      "source": [
        "ad_link = 'https://yachts.apolloduck.co.uk/boat.phtml?id=716638'\n",
        "headers = {\"User-Agent\": \"Mozilla/5.0 (X11; Linux x86_64) AppleWebKit/537.36 (KHTML, like Gecko) Chrome/88.0.4324.96 Safari/537.36\"}\n",
        "page = requests.get(ad_link, headers=headers)\n",
        "soup = BeautifulSoup(page.content, \"html.parser\")"
      ]
    },
    {
      "cell_type": "code",
      "execution_count": null,
      "metadata": {
        "id": "8UxGPHJwDLcq"
      },
      "outputs": [],
      "source": [
        "import re"
      ]
    },
    {
      "cell_type": "code",
      "execution_count": null,
      "metadata": {
        "colab": {
          "base_uri": "https://localhost:8080/",
          "height": 315
        },
        "id": "PR0VrST0C-vV",
        "outputId": "0d44c728-da46-4f72-d04d-42e47b25070a"
      },
      "outputs": [
        {
          "ename": "NameError",
          "evalue": "ignored",
          "output_type": "error",
          "traceback": [
            "\u001b[0;31m---------------------------------------------------------------------------\u001b[0m",
            "\u001b[0;31mNameError\u001b[0m                                 Traceback (most recent call last)",
            "\u001b[0;32m<ipython-input-25-cac86c9e36fa>\u001b[0m in \u001b[0;36m<cell line: 1>\u001b[0;34m()\u001b[0m\n\u001b[0;32m----> 1\u001b[0;31m \u001b[0msoup\u001b[0m\u001b[0;34m.\u001b[0m\u001b[0mfind\u001b[0m\u001b[0;34m(\u001b[0m\u001b[0;34m'meta'\u001b[0m\u001b[0;34m,\u001b[0m \u001b[0mname_\u001b[0m\u001b[0;34m=\u001b[0m\u001b[0;34m'Desription'\u001b[0m\u001b[0;34m,\u001b[0m \u001b[0mtext\u001b[0m\u001b[0;34m=\u001b[0m\u001b[0mre\u001b[0m\u001b[0;34m.\u001b[0m\u001b[0mcompile\u001b[0m\u001b[0;34m(\u001b[0m\u001b[0;34m'content'\u001b[0m\u001b[0;34m)\u001b[0m\u001b[0;34m)\u001b[0m\u001b[0;34m\u001b[0m\u001b[0;34m\u001b[0m\u001b[0m\n\u001b[0m",
            "\u001b[0;31mNameError\u001b[0m: name 'soup' is not defined"
          ]
        }
      ],
      "source": [
        "soup.find('meta', name_='Desription', text=re.compile('content'))"
      ]
    },
    {
      "cell_type": "code",
      "execution_count": null,
      "metadata": {
        "colab": {
          "base_uri": "https://localhost:8080/"
        },
        "id": "1-8-aqaNDkkT",
        "outputId": "d9a48686-e70b-4a88-f9e4-3b661a3c0944"
      },
      "outputs": [
        {
          "name": "stderr",
          "output_type": "stream",
          "text": [
            "<ipython-input-133-cc17f0d756b7>:1: DeprecationWarning: The 'text' argument to find()-type methods is deprecated. Use 'string' instead.\n",
            "  status = soup.find('td', class_=\"_pclLabel\", text=re.compile('Status:')).string\n"
          ]
        }
      ],
      "source": [
        "status = soup.find('td', class_=\"_pclLabel\", text=re.compile('Location:')).string"
      ]
    },
    {
      "cell_type": "code",
      "execution_count": null,
      "metadata": {
        "colab": {
          "base_uri": "https://localhost:8080/"
        },
        "id": "vTWk3kTgF-9B",
        "outputId": "fb0dad95-3d17-4694-8ef4-45bcfabe31a2"
      },
      "outputs": [
        {
          "name": "stdout",
          "output_type": "stream",
          "text": [
            "Status:\n"
          ]
        }
      ],
      "source": [
        "print(status)"
      ]
    },
    {
      "cell_type": "code",
      "execution_count": null,
      "metadata": {
        "colab": {
          "base_uri": "https://localhost:8080/",
          "height": 35
        },
        "id": "edjfpXejG1Pg",
        "outputId": "ed376e2b-ca70-4923-c37f-5016c84255a3"
      },
      "outputs": [
        {
          "data": {
            "application/vnd.google.colaboratory.intrinsic+json": {
              "type": "string"
            },
            "text/plain": [
              "'Sailing Yachts: For Sale: 1992 Mascot 35DS Ardrossan North Ayrshire'"
            ]
          },
          "execution_count": 180,
          "metadata": {},
          "output_type": "execute_result"
        }
      ],
      "source": [
        "soup.find('meta', attrs={\"name\": \"Description\"})['content']"
      ]
    },
    {
      "cell_type": "code",
      "execution_count": null,
      "metadata": {
        "colab": {
          "base_uri": "https://localhost:8080/",
          "height": 139
        },
        "id": "bcwHhNezWRcl",
        "outputId": "c1c3e9fa-ca9a-4c06-cc7d-0ad87d2a2fa5"
      },
      "outputs": [
        {
          "data": {
            "application/vnd.google.colaboratory.intrinsic+json": {
              "type": "string"
            },
            "text/plain": [
              "'<!DOCTYPE html>\\n<html lang=\"en\">\\n <head>\\n  <title>\\n   Mascot 35 DS for sale UK, Mascot boats for sale, Mascot used boat sales, Mascot Sailing Yachts For Sale 1992 Mascot 35DS - Apollo Duck\\n  </title>\\n  <meta charset=\"utf-8\"/>\\n  <link as=\"style\" href=\"/cache/apolloduck.min.css?220920011\" rel=\"preload\" type=\"text/css\"/>\\n  <link as=\"style\" href=\"/cache/css/499.min.css?220920011\" rel=\"preload\" type=\"text/css\"/>\\n  <link as=\"style\" href=\"/cache/css/699.min.css?220920011\" rel=\"preload\" type=\"text/css\"/>\\n  <link as=\"style\" href=\"/cache/css/999.min.css?220920011\" rel=\"preload\" type=\"text/css\"/>\\n  <link as=\"style\" href=\"/cache/css/999plus.min.css?220920011\" rel=\"preload\" type=\"text/css\"/>\\n  <link as=\"style\" href=\"/cache/cookies/light-bottom.css\" rel=\"preload\" text=\"text/css\">\\n   <link as=\"script\" href=\"/cache/js/jquery-3.5.1.min.min.js\" rel=\"preload\"/>\\n   <link as=\"script\" href=\"https://cache.apolloduck.com/jquery-ui-1.12.1.custom/jquery-ui.min.js\" rel=\"preload\"/>\\n   <link as=\"style\" href=\"https://cache.apolloduck.com/jquery-ui-1.12.1.custom/jquery-ui.theme.min.css\" rel=\"preload\"/>\\n   <link as=\"script\" href=\"https://translate.google.com/translate_a/element.js?cb=googleTranslateElementInit\" rel=\"preload\">\\n    <meta content=\"Sailing Yachts: For Sale: 1992 Mascot 35DS Ardrossan North Ayrshire\" name=\"Description\"/>\\n    <meta content=\"Sailing Yachts, For Sale, 1992 Mascot 35DS, Mascot, 35DS, length 11 metres, beam 3 metres, 1 engines, Diesel fuel, Other, Other, year 1992, Ardrossan, North Ayrshire, UK\" name=\"Keywords\"/>\\n    <link href=\"/apple-touch-icon.png\" rel=\"apple-touch-icon\"/>\\n    <link href=\"/apple-touch-icon-76x76.png\" rel=\"apple-touch-icon\" sizes=\"76x76\"/>\\n    <link href=\"/apple-touch-icon-120x120.png\" rel=\"apple-touch-icon\" sizes=\"120x120\"/>\\n    <link href=\"/apple-touch-icon-152x152.png\" rel=\"apple-touch-icon\" sizes=\"152x152\"/>\\n    <link href=\"/apple-touch-icon-180x180.png\" rel=\"apple-touch-icon\" sizes=\"180x180\"/>\\n    <meta content=\"width=device-width, initial-scale=1.0\" name=\"viewport\"/>\\n    <meta content=\"ci3PeNbhChQNJrL85BJevxMgqyzY9iVSzlq7RfBFGuo\" name=\"google-site-verification\">\\n     <meta content=\"e59c1a633b4f85fb-5d561ec06447bf77-g59d26871d62a3568-12\" name=\"google-translate-customization\"/>\\n     <link href=\"/cache/apolloduck.min.css?220920011\" rel=\"stylesheet\" type=\"text/css\">\\n      <link href=\"/cache/css/499.min.css?220920011\" media=\"screen and (max-width: 499px)\" rel=\"stylesheet\" type=\"text/css\">\\n       <link href=\"/cache/css/699.min.css?220920011\" media=\"screen and (min-width: 500px) and (max-width: 699px)\" rel=\"stylesheet\" type=\"text/css\">\\n        <link href=\"/cache/css/999.min.css?220920011\" media=\"screen and (min-width: 700px) and (max-width: 999px)\" rel=\"stylesheet\" type=\"text/css\">\\n         <link href=\"/cache/css/999plus.min.css?220920011\" media=\"screen and (min-width: 1000px)\" rel=\"stylesheet\" type=\"text/css\">\\n          <link href=\"https://rss.apolloduck.com/gb2.rss\" rel=\"alternate\" title=\"Apollo Duck Sailing Yachts Latest Listings\" type=\"application/rss+xml\">\\n           <script src=\"/cache/js/jquery-3.5.1.min.min.js\">\\n           </script>\\n           <script src=\"https://cache.apolloduck.com/jquery-ui-1.12.1.custom/jquery-ui.min.js\">\\n           </script>\\n           <link href=\"https://cache.apolloduck.com/jquery-ui-1.12.1.custom/jquery-ui.theme.min.css\" rel=\"stylesheet\" type=\"text/css\"/>\\n           <link href=\"https://yachts.apolloduck.co.uk/boat/mascot-35-ds-for-sale/716638\" rel=\"canonical\">\\n            <link href=\"/cache/css/_boat.min.css?21062104\" rel=\"stylesheet\" type=\"text/css\">\\n             <link href=\"/cache/css/swiper.min.css\" rel=\"stylesheet\" type=\"text/css\">\\n              <link href=\"/cache/css/spin.min.css\" rel=\"stylesheet\" type=\"text/css\">\\n               <script src=\"/cache/js/fresco.min.js\" type=\"text/javascript\">\\n               </script>\\n               <link href=\"/cache/css/fresco.min.css\" rel=\"stylesheet\" type=\"text/css\">\\n                <script src=\"/cache/js/swiper.min.js\" type=\"text/javascript\">\\n                </script>\\n                <script src=\"/cache/js/spin.min.js\" type=\"text/javascript\">\\n                </script>\\n               </link>\\n              </link>\\n             </link>\\n            </link>\\n           </link>\\n          </link>\\n         </link>\\n        </link>\\n       </link>\\n      </link>\\n     </link>\\n    </meta>\\n   </link>\\n  </link>\\n </head>\\n <body onload=\"if (self !== top) top.location = self.location;\">\\n  <script type=\"text/javascript\">\\n   function watch(aid) {url = \"https://members.apolloduck.com/members/watch.phtml?id=\" + aid;window.open(url, \"mywindow\", \"menubar=0, scrollbars=0, resizable=0, width=400, height=300\");}\\n    function adalert(id) {aurl = \"https://members.apolloduck.com/members/alert.phtml?target=b&id=\" + id;window.open(aurl, \"adalert\", \"menubar=0, scrollbars=0, resizeable=0, width=500, height=400\");}\\n    function saveSearch(search) {surl = \"https://members.apolloduck.com/members/saveSearch.phtml?s=\" + search;window.open(surl, \"swin\", \"menubar=0, scrollbars=0, resizeable=0, width=400, height=300\");}\\n    function ea(aid) {eurl = \"https://members.apolloduck.com/enquire.phtml?eid=\" + aid;window.open(eurl, \"ea\", \"menubar=0, scrollbars=1, resizeable=1, width=800, height=800\");}\\n  </script>\\n  <div id=\"_Global\">\\n   <div id=\"_fixedHeader\">\\n    <div id=\"_topWidthBar\">\\n     <div id=\"_networkThread\">\\n      <a class=\"networkheader\" href=\"https://www.apolloduck.com/\">\\n       Boats for sale\\n      </a>\\n      :\\n      <a class=\"networkheader\" href=\"https://www.apolloduck.com/\">\\n       International\\n      </a>\\n      &gt;\\n      <a class=\"networkheader\" href=\"https://www.apolloduck.eu/\">\\n       Europe\\n      </a>\\n      &gt;\\n      <a class=\"networkheader\" href=\"http://www.apolloduck.co.uk/\">\\n       UK\\n      </a>\\n      &gt;\\n      <a class=\"networkheader\" href=\"/\">\\n       Sailing Yachts\\n      </a>\\n     </div>\\n     <div id=\"_geoDetected\">\\n      <a class=\"networkheader\" href=\"https://www.apolloduck.us/\">\\n       View 3811 boats for sale in the United States\\n      </a>\\n     </div>\\n    </div>\\n    <div id=\"blueWidthBar\">\\n     <div id=\"_bannerlogo\">\\n      <a href=\"/\" target=\"_top\">\\n       <img alt=\"Boats, boats for sale, boat sales, new and used boats for sale in UK\" height=\"90\" src=\"/graphics/AD-11-6-15.gif\" width=\"190\"/>\\n      </a>\\n     </div>\\n     <div class=\"cp\" id=\"_smallSearchBar\">\\n      <form action=\"/search.phtml#result\" method=\"get\">\\n       <input class=\"search\" id=\"_searchbox\" maxlength=\"50\" name=\"search\" ondrop=\"return false;\" onpaste=\"return false;\" placeholder=\"Search\" title=\"Boat Search\" type=\"search\"/>\\n       <em>\\n        <a href=\"/search.phtml?exact=1&amp;x=1\">\\n         Advanced Search\\n        </a>\\n       </em>\\n       <input name=\"exact\" type=\"hidden\" value=\"1\"/>\\n       <input name=\"sr\" type=\"hidden\" value=\"1\"/>\\n       <input name=\"q\" type=\"hidden\" value=\"1\"/>\\n       <input name=\"x\" type=\"hidden\" value=\"0\"/>\\n      </form>\\n     </div>\\n    </div>\\n    <div id=\"_redWidthBar\">\\n     <div id=\"_site\">\\n      <a class=\"header\" href=\"/\">\\n       Sailing Yachts\\n      </a>\\n     </div>\\n     <div id=\"_burger\">\\n      <a class=\"nav\" href=\"#\" id=\"_openmenu\">\\n       ☰\\n      </a>\\n     </div>\\n     <div id=\"_smallnavigation\">\\n      <a class=\"header\" href=\"https://members.apolloduck.com/submissions/index.phtml\">\\n       Place an Advert\\n      </a>\\n      |\\n      <a class=\"header\" href=\"https://members.apolloduck.com/members/home.phtml\">\\n       My Account\\n      </a>\\n      |\\n      <a class=\"header\" href=\"https://members.apolloduck.com/members/register.phtml\">\\n       Register\\n      </a>\\n     </div>\\n     <div id=\"_Translate\">\\n      <div id=\"google_translate_element\">\\n      </div>\\n      <script type=\"text/javascript\">\\n       function googleTranslateElementInit() {new google.translate.TranslateElement({pageLanguage: \\'en\\', layout: google.translate.TranslateElement.InlineLayout.SIMPLE, multilanguagePage: true}, \\'google_translate_element\\');}\\n      </script>\\n      <script async=\"\" src=\"https://translate.google.com/translate_a/element.js?cb=googleTranslateElementInit\" type=\"text/javascript\">\\n      </script>\\n     </div>\\n    </div>\\n   </div>\\n   <div id=\"contentWrapper\">\\n    <div id=\"_leftSidebar\">\\n     <a href=\"#\" id=\"_closemenu\">\\n      ×\\n     </a>\\n     <div class=\"navbg5\">\\n      <ul class=\"menu\">\\n       <li class=\"menuitem\">\\n        <a href=\"/boats-for-sale\">\\n         All Boats For Sale\\n        </a>\\n       </li>\\n       <li class=\"menuitem\">\\n        <a href=\"/private-boats-for-sale\">\\n         Private Boats For Sale\\n        </a>\\n       </li>\\n       <li class=\"menuitem\">\\n        <a href=\"/brokerage-boats-for-sale\">\\n         Trade Boats For Sale\\n        </a>\\n       </li>\\n       <li class=\"menuitem\">\\n        <a href=\"/brands.phtml\">\\n         Popular Boat Brands\\n        </a>\\n       </li>\\n       <li class=\"menuitem\">\\n        <a href=\"/new/index.phtml\">\\n         New Boat Ranges\\n        </a>\\n       </li>\\n       <li class=\"menuitem\">\\n        <a href=\"/archive/\">\\n         Boat Archive\\n        </a>\\n       </li>\\n       <li class=\"menuitem\">\\n        <a href=\"/boats-for-auction\">\\n         Boat Auctions\\n        </a>\\n       </li>\\n       <li class=\"menuitem\">\\n        <a href=\"/directory.phtml\">\\n         Yacht Broker Directory\\n        </a>\\n       </li>\\n       <li class=\"menuitem\">\\n        <a href=\"/regions.phtml\">\\n         Regional Boats For Sale\\n        </a>\\n       </li>\\n      </ul>\\n     </div>\\n     <div class=\"navbg5\">\\n      <ul class=\"menu\">\\n       <li class=\"menuitem\">\\n        <a href=\"/boats-for-sale/sailing-yachts/catamaran\">\\n         Catamaran\\n        </a>\\n        <span class=\"greytext\">\\n         15\\n        </span>\\n       </li>\\n       <li class=\"menuitem\">\\n        <a href=\"/boats-for-sale/sailing-yachts/classic-yacht\">\\n         Classic Yacht\\n        </a>\\n        <span class=\"greytext\">\\n         86\\n        </span>\\n       </li>\\n       <li class=\"menuitem\">\\n        <a href=\"/boats-for-sale/sailing-yachts/cruiser-racer\">\\n         Cruiser Racer\\n        </a>\\n        <span class=\"greytext\">\\n         97\\n        </span>\\n       </li>\\n       <li class=\"menuitem\">\\n        <a href=\"/boats-for-sale/sailing-yachts/cruising-yacht\">\\n         Cruising Yacht\\n        </a>\\n        <span class=\"greytext\">\\n         789\\n        </span>\\n       </li>\\n       <li class=\"menuitem\">\\n        <a href=\"/boats-for-sale/sailing-yachts/day-sailer\">\\n         Day Sailer\\n        </a>\\n        <span class=\"greytext\">\\n         72\\n        </span>\\n       </li>\\n       <li class=\"menuitem\">\\n        <a href=\"/boats-for-sale/sailing-yachts/motor-sailer\">\\n         Motor Sailer\\n        </a>\\n        <span class=\"greytext\">\\n         77\\n        </span>\\n       </li>\\n       <li class=\"menuitem\">\\n        <a href=\"/boats-for-sale/sailing-yachts/racing-yacht\">\\n         Racing Yacht\\n        </a>\\n        <span class=\"greytext\">\\n         41\\n        </span>\\n       </li>\\n       <li class=\"menuitem\">\\n        <a href=\"/boats-for-sale/sailing-yachts/shares\">\\n         Shares\\n        </a>\\n        <span class=\"greytext\">\\n         1\\n        </span>\\n       </li>\\n       <li class=\"menuitem\">\\n        <a href=\"/boats-for-sale/sailing-yachts/trailer-sailer\">\\n         Trailer Sailer\\n        </a>\\n        <span class=\"greytext\">\\n         62\\n        </span>\\n       </li>\\n       <li class=\"menuitem\">\\n        <a href=\"/boats-for-sale/sailing-yachts/trimaran\">\\n         Trimaran\\n        </a>\\n        <span class=\"greytext\">\\n         4\\n        </span>\\n       </li>\\n      </ul>\\n     </div>\\n     <div class=\"navbg5\">\\n      <p class=\"menulabel\">\\n       <strong>\\n        <a href=\"/brands.phtml\">\\n         Popular Brands\\n        </a>\\n       </strong>\\n      </p>\\n      <ul class=\"menu\">\\n       <li class=\"menuitem\">\\n        <a href=\"/boats/bavaria-yachts\">\\n         Bavaria Yachts\\n        </a>\\n        <span class=\"greytext\">\\n         17\\n        </span>\\n       </li>\\n       <li class=\"menuitem\">\\n        <a href=\"/boats/beneteau\">\\n         Beneteau\\n        </a>\\n        <span class=\"greytext\">\\n         52\\n        </span>\\n       </li>\\n       <li class=\"menuitem\">\\n        <a href=\"/boats/colvic\">\\n         Colvic\\n        </a>\\n        <span class=\"greytext\">\\n         29\\n        </span>\\n       </li>\\n       <li class=\"menuitem\">\\n        <a href=\"/boats/contessa\">\\n         Contessa\\n        </a>\\n        <span class=\"greytext\">\\n         13\\n        </span>\\n       </li>\\n       <li class=\"menuitem\">\\n        <a href=\"/boats/cornish-crabbers\">\\n         Cornish Crabbers\\n        </a>\\n        <span class=\"greytext\">\\n         28\\n        </span>\\n       </li>\\n       <li class=\"menuitem\">\\n        <a href=\"/boats/drascombe\">\\n         Drascombe\\n        </a>\\n        <span class=\"greytext\">\\n         10\\n        </span>\\n       </li>\\n       <li class=\"menuitem\">\\n        <a href=\"/boats/dufour\">\\n         Dufour\\n        </a>\\n        <span class=\"greytext\">\\n         17\\n        </span>\\n       </li>\\n       <li class=\"menuitem\">\\n        <a href=\"/boats/fisher\">\\n         Fisher\\n        </a>\\n        <span class=\"greytext\">\\n         10\\n        </span>\\n       </li>\\n       <li class=\"menuitem\">\\n        <a href=\"/boats/gib-sea\">\\n         Gib Sea\\n        </a>\\n        <span class=\"greytext\">\\n         15\\n        </span>\\n       </li>\\n       <li class=\"menuitem\">\\n        <a href=\"/boats/hunter-boats\">\\n         Hunter Boats\\n        </a>\\n        <span class=\"greytext\">\\n         45\\n        </span>\\n       </li>\\n       <li class=\"menuitem\">\\n        <a href=\"/boats/hurley\">\\n         Hurley\\n        </a>\\n        <span class=\"greytext\">\\n         11\\n        </span>\\n       </li>\\n       <li class=\"menuitem\">\\n        <a href=\"/boats/jaguar\">\\n         Jaguar\\n        </a>\\n        <span class=\"greytext\">\\n         10\\n        </span>\\n       </li>\\n       <li class=\"menuitem\">\\n        <a href=\"/boats/jeanneau\">\\n         Jeanneau\\n        </a>\\n        <span class=\"greytext\">\\n         58\\n        </span>\\n       </li>\\n       <li class=\"menuitem\">\\n        <a href=\"/boats/moody\">\\n         Moody\\n        </a>\\n        <span class=\"greytext\">\\n         35\\n        </span>\\n       </li>\\n       <li class=\"menuitem\">\\n        <a href=\"/boats/newbridge\">\\n         Newbridge\\n        </a>\\n        <span class=\"greytext\">\\n         13\\n        </span>\\n       </li>\\n       <li class=\"menuitem\">\\n        <a href=\"/boats/nicholson\">\\n         Nicholson\\n        </a>\\n        <span class=\"greytext\">\\n         23\\n        </span>\\n       </li>\\n       <li class=\"menuitem\">\\n        <a href=\"/boats/parker-boats\">\\n         Parker Boats\\n        </a>\\n        <span class=\"greytext\">\\n         12\\n        </span>\\n       </li>\\n       <li class=\"menuitem\">\\n        <a href=\"/boats/sadler\">\\n         Sadler\\n        </a>\\n        <span class=\"greytext\">\\n         20\\n        </span>\\n       </li>\\n       <li class=\"menuitem\">\\n        <a href=\"/boats/westerly\">\\n         Westerly\\n        </a>\\n        <span class=\"greytext\">\\n         96\\n        </span>\\n       </li>\\n      </ul>\\n      <p class=\"menulabel\">\\n       <strong>\\n        <a href=\"/brands.phtml\">\\n         More Brands...\\n        </a>\\n       </strong>\\n      </p>\\n     </div>\\n     <div class=\"navbg5\">\\n      <p class=\"menulabel\">\\n       Featured Companies\\n      </p>\\n      <ul class=\"menu\">\\n       <li class=\"eastitem\">\\n        <a href=\"/dealer.phtml?bid=860\" title=\"Aquavista Ltd, UK\">\\n         Aquavista Ltd\\n        </a>\\n       </li>\\n       <li class=\"eastitem\">\\n        <a href=\"/dealer.phtml?bid=364\" title=\"Blue Sea Brokers, Spain\">\\n         Blue Sea Brokers\\n        </a>\\n       </li>\\n       <li class=\"eastitem\">\\n        <a href=\"/dealer.phtml?bid=457\" title=\"Boatcare Trading Ltd., Malta\">\\n         Boatcare Trading Ltd.\\n        </a>\\n       </li>\\n       <li class=\"eastitem\">\\n        <a href=\"/dealer.phtml?bid=878\" title=\"boatpoint  Ltd, UK\">\\n         boatpoint  Ltd\\n        </a>\\n       </li>\\n       <li class=\"eastitem\">\\n        <a href=\"/dealer.phtml?bid=833\" title=\"Boats Ltd, UK\">\\n         Boats Ltd\\n        </a>\\n       </li>\\n       <li class=\"eastitem\">\\n        <a href=\"/dealer.phtml?bid=323\" title=\"Boatshed, UK\">\\n         Boatshed\\n        </a>\\n       </li>\\n       <li class=\"eastitem\">\\n        <a href=\"/dealer.phtml?bid=285\" title=\"BST Dintelsas BV, Netherlands\">\\n         BST Dintelsas BV\\n        </a>\\n       </li>\\n       <li class=\"eastitem\">\\n        <a href=\"/dealer.phtml?bid=616\" title=\"Caley Marina, UK\">\\n         Caley Marina\\n        </a>\\n       </li>\\n       <li class=\"eastitem\">\\n        <a href=\"/dealer.phtml?bid=765\" title=\"Clarke &amp; Carter Interyacht Ltd, UK\">\\n         Clarke &amp; Carter Interyacht Ltd\\n        </a>\\n       </li>\\n       <li class=\"eastitem\">\\n        <a href=\"/dealer.phtml?bid=602\" title=\"Classic Yacht Brokerage, UK\">\\n         Classic Yacht Brokerage\\n        </a>\\n       </li>\\n       <li class=\"eastitem\">\\n        <a href=\"/dealer.phtml?bid=229\" title=\"Cove Yacht Brokerage, UK\">\\n         Cove Yacht Brokerage\\n        </a>\\n       </li>\\n       <li class=\"eastitem\">\\n        <a href=\"/dealer.phtml?bid=305\" title=\"David Morris Yacht Brokerage, UK\">\\n         David Morris Yacht Brokerage\\n        </a>\\n       </li>\\n       <li class=\"eastitem\">\\n        <a href=\"/dealer.phtml?bid=789\" title=\"De Valk Group B.V., Netherlands\">\\n         De Valk Group B.V.\\n        </a>\\n       </li>\\n       <li class=\"eastitem\">\\n        <a href=\"/dealer.phtml?bid=352\" title=\"Denison Yacht Sales, USA\">\\n         Denison Yacht Sales\\n        </a>\\n       </li>\\n       <li class=\"eastitem\">\\n        <a href=\"/dealer.phtml?bid=286\" title=\"Doeve Brokers, Netherlands\">\\n         Doeve Brokers\\n        </a>\\n       </li>\\n       <li class=\"eastitem\">\\n        <a href=\"/dealer.phtml?bid=642\" title=\"H2O, France\">\\n         H2O\\n        </a>\\n       </li>\\n       <li class=\"eastitem\">\\n        <a href=\"/dealer.phtml?bid=493\" title=\"Highway Marine Ltd., UK\">\\n         Highway Marine Ltd.\\n        </a>\\n       </li>\\n       <li class=\"eastitem\">\\n        <a href=\"/dealer.phtml?bid=474\" title=\"Lakeland Leisure Boat Sales, UK\">\\n         Lakeland Leisure Boat Sales\\n        </a>\\n       </li>\\n       <li class=\"eastitem\">\\n        <a href=\"/dealer.phtml?bid=517\" title=\"Luke Brown Yachts, USA\">\\n         Luke Brown Yachts\\n        </a>\\n       </li>\\n       <li class=\"eastitem\">\\n        <a href=\"/dealer.phtml?bid=329\" title=\"Marine Brokers Australia, Australia\">\\n         Marine Brokers Australia\\n        </a>\\n       </li>\\n       <li class=\"eastitem\">\\n        <a href=\"/dealer.phtml?bid=469\" title=\"Mertrade, Netherlands\">\\n         Mertrade\\n        </a>\\n       </li>\\n       <li class=\"eastitem\">\\n        <a href=\"/dealer.phtml?bid=144\" title=\"MGM Boats, Ireland\">\\n         MGM Boats\\n        </a>\\n       </li>\\n       <li class=\"eastitem\">\\n        <a href=\"/dealer.phtml?bid=675\" title=\"MJLewis Boatsales Ltd, UK\">\\n         MJLewis Boatsales Ltd\\n        </a>\\n       </li>\\n       <li class=\"eastitem\">\\n        <a href=\"/dealer.phtml?bid=583\" title=\"Morgan Marine, UK\">\\n         Morgan Marine\\n        </a>\\n       </li>\\n       <li class=\"eastitem\">\\n        <a href=\"/dealer.phtml?bid=220\" title=\"MOTIF Marine, Turkey\">\\n         MOTIF Marine\\n        </a>\\n       </li>\\n       <li class=\"eastitem\">\\n        <a href=\"/dealer.phtml?bid=263\" title=\"Multiships Brokerage, Netherlands\">\\n         Multiships Brokerage\\n        </a>\\n       </li>\\n       <li class=\"eastitem\">\\n        <a href=\"/dealer.phtml?bid=584\" title=\"Network Yacht Brokers, UK\">\\n         Network Yacht Brokers\\n        </a>\\n       </li>\\n       <li class=\"eastitem\">\\n        <a href=\"/dealer.phtml?bid=293\" title=\"Nicolle Associates, UK\">\\n         Nicolle Associates\\n        </a>\\n       </li>\\n       <li class=\"eastitem\">\\n        <a href=\"/dealer.phtml?bid=335\" title=\"POP Yachts, USA\">\\n         POP Yachts\\n        </a>\\n       </li>\\n       <li class=\"eastitem\">\\n        <a href=\"/dealer.phtml?bid=313\" title=\"RBS Marine , UK\">\\n         RBS Marine\\n        </a>\\n       </li>\\n       <li class=\"eastitem\">\\n        <a href=\"/dealer.phtml?bid=826\" title=\"Rick Obey Yacht Sales, USA\">\\n         Rick Obey Yacht Sales\\n        </a>\\n       </li>\\n       <li class=\"eastitem\">\\n        <a href=\"/dealer.phtml?bid=270\" title=\"Scheepsmakelaardij Fikkers, Netherlands\">\\n         Scheepsmakelaardij Fikkers\\n        </a>\\n       </li>\\n       <li class=\"eastitem\">\\n        <a href=\"/dealer.phtml?bid=348\" title=\"Schepenkring Yachtbrokers, Netherlands\">\\n         Schepenkring Yachtbrokers\\n        </a>\\n       </li>\\n       <li class=\"eastitem\">\\n        <a href=\"/dealer.phtml?bid=397\" title=\"SeaBoats, Australia\">\\n         SeaBoats\\n        </a>\\n       </li>\\n       <li class=\"eastitem\">\\n        <a href=\"/dealer.phtml?bid=870\" title=\"Siroco Yacht Brokers, Portugal\">\\n         Siroco Yacht Brokers\\n        </a>\\n       </li>\\n       <li class=\"eastitem\">\\n        <a href=\"/dealer.phtml?bid=823\" title=\"Sunbird International Yacht Sales, UK\">\\n         Sunbird International Yacht Sales\\n        </a>\\n       </li>\\n       <li class=\"eastitem\">\\n        <a href=\"/dealer.phtml?bid=721\" title=\"Sunsail Brokerage, France\">\\n         Sunsail Brokerage\\n        </a>\\n       </li>\\n       <li class=\"eastitem\">\\n        <a href=\"/dealer.phtml?bid=350\" title=\"Waterside Boat Sales, UK\">\\n         Waterside Boat Sales\\n        </a>\\n       </li>\\n       <li class=\"eastitem\">\\n        <a href=\"/dealer.phtml?bid=200\" title=\"Williams &amp; Smithells Ltd, UK\">\\n         Williams &amp; Smithells Ltd\\n        </a>\\n       </li>\\n       <li class=\"eastitem\">\\n        <a href=\"/dealer.phtml?bid=893\" title=\"XBOAT, France\">\\n         XBOAT\\n        </a>\\n       </li>\\n      </ul>\\n     </div>\\n     <br/>\\n     <div class=\"center\">\\n      <script async=\"\" src=\"https://pagead2.googlesyndication.com/pagead/js/adsbygoogle.js\">\\n      </script>\\n      <!-- SubLHSText -->\\n      <ins class=\"adsbygoogle\" data-ad-client=\"ca-pub-0772979757688407\" data-ad-region=\"test\" data-ad-slot=\"9398173458\" style=\"display:inline-block;width:160px;height:600px\">\\n      </ins>\\n      <script>\\n       (adsbygoogle = window.adsbygoogle || []).push({});\\n      </script>\\n     </div>\\n     <div class=\"navbg5\">\\n      <ul class=\"menu\">\\n       <li class=\"menuitem\">\\n        <a href=\"/rss.phtml\" title=\"View all RSS Feeds\">\\n         RSS Feeds\\n        </a>\\n       </li>\\n       <li class=\"menuitem\">\\n        <a href=\"https://www.apolloduck.com/service/index.phtml\">\\n         Customer Service\\n        </a>\\n       </li>\\n       <li class=\"menuitem\">\\n        <a href=\"/apollo.duck.phtml\">\\n         About Apollo Duck\\n        </a>\\n       </li>\\n       <li class=\"menuitem\">\\n        <a href=\"/faq.phtml\">\\n         FAQ\\n        </a>\\n       </li>\\n       <li class=\"menuitem\">\\n        <a href=\"/legal/index.phtml\" title=\"View User Agreement\">\\n         User Agreement\\n        </a>\\n       </li>\\n       <li class=\"menuitem\">\\n        <a href=\"/legal/copyright.phtml\" title=\"View Copyright Notice\">\\n         Copyright Notice\\n        </a>\\n       </li>\\n       <li class=\"menuitem\">\\n        <a href=\"/legal/privacy.phtml\" title=\"View Privacy Policy\">\\n         Privacy Policy\\n        </a>\\n       </li>\\n      </ul>\\n     </div>\\n     <div class=\"menucaption center\">\\n      © 1998 - 2023\\n      <br/>\\n      Apollo Duck Media Ltd\\n      <br/>\\n      ALL RIGHTS RESERVED\\n      <br/>\\n     </div>\\n    </div>\\n    <div id=\"_contentArea\">\\n     <div class=\"advert\">\\n      <div class=\"_advertTopBar\">\\n       <div class=\"_boatAdvertTitle\">\\n        For Sale: 1992 Mascot 35DS\\n       </div>\\n       <div class=\"_boatAdvertPrice\">\\n        £54,995\\n       </div>\\n       <div class=\"advertWidgets\">\\n       </div>\\n      </div>\\n      <div class=\"_advertToolBar\">\\n       <div class=\"_advertPathWide\">\\n        UK\\n        <a href=\"/\">\\n         Sailing Yachts\\n        </a>\\n        &gt;\\n        <a href=\"/boats-for-sale/sailing-yachts/cruising-yacht\">\\n         Cruising Yacht\\n        </a>\\n        For Sale\\n       </div>\\n      </div>\\n      <div class=\"_advertToolBar\">\\n       <div class=\"_advertPathWide\">\\n        <a href=\"/boats/mascot\">\\n         Mascot\\n        </a>\\n        <a href=\"/boats/mascot/35-ds\">\\n         35 DS\\n        </a>\\n        For Sale UK\\n       </div>\\n      </div>\\n      <div class=\"_advertToolBar\">\\n       <div class=\"_advertPath\">\\n       </div>\\n       <div class=\"_advertTools\">\\n        <a href=\"javascript:adalert(\\'716638\\');\">\\n         Alerts\\n        </a>\\n        |\\n        <a href=\"javascript:watch(\\'716638\\')\">\\n         Watch this Advert\\n        </a>\\n        |\\n        <a href=\"/print.phtml?id=716638\">\\n         Printer-friendly version\\n        </a>\\n       </div>\\n      </div>\\n      <div class=\"_advertToolBar\">\\n       <div class=\"advertToolsWide\">\\n       </div>\\n      </div>\\n      <br/>\\n      <div class=\"_dealerContactSection\">\\n       <div class=\"_dealerContactGraphic\">\\n        <img alt=\"Sunbird International Yacht Sales\" height=\"67\" src=\"https://cache.apolloduck.com/logos/office_1015.png\" width=\"200\"/>\\n       </div>\\n       <div class=\"_dealerContactDetails\">\\n        <table class=\"_dealerContactTable\">\\n         <tr>\\n          <td class=\"_dealerContactLabel\" colspan=\"2\">\\n           Sunbird International Yacht Sales\\n          </td>\\n         </tr>\\n         <tr>\\n          <td class=\"_dealerContactLabel\" colspan=\"2\">\\n           Clyde Marina, The Harbour, Ardrossan, Ayrshire, KA22 8DB, UK\\n          </td>\\n         </tr>\\n         <tr>\\n          <td class=\"_dealerContactLabel\">\\n           Contact:\\n          </td>\\n          <td class=\"_dealerContactData\">\\n           Mrs Andrea Martin\\n          </td>\\n         </tr>\\n         <tr>\\n          <td class=\"_dealerContactLabel cp\">\\n           Telephone:\\n          </td>\\n          <td class=\"_dealerContactData cp\">\\n           <span id=\"iP2\">\\n            <a href=\"javascript:void(0);\" id=\"rP2\">\\n             Reveal Telephone Number\\n            </a>\\n           </span>\\n          </td>\\n         </tr>\\n         <tr>\\n          <td class=\"_dealerContactLabel\">\\n           Website:\\n          </td>\\n          <td class=\"_dealerContactData\">\\n           <a href=\"https://www.apolloduck.com/u/823/1015\" target=\"_blank\">\\n            Visit Company Website\\n           </a>\\n          </td>\\n         </tr>\\n         <tr>\\n          <td class=\"cp\">\\n          </td>\\n          <td class=\"_dealerContactData\">\\n           <a href=\"/dealer.phtml?bid=823&amp;oid=1015\">\\n            View All Sunbird International Yacht Sales Listings\\n           </a>\\n          </td>\\n         </tr>\\n        </table>\\n       </div>\\n      </div>\\n      <div class=\"swiper-container\">\\n       <div class=\"swiper-wrapper\">\\n        <div class=\"swiper-slide\">\\n         <a class=\"fresco\" data-fresco-group=\"id716638\" data-fresco-group-options=\"thumbnails: false\" href=\"https://cache.apolloduck.com/image_bin/x/7297786.jpg\">\\n          <img class=\"swiper-lazy\" data-src=\"https://ics.apolloduck.com/GG7mxM2p4m9tX4_pESx7_M7ToZw=/733x550/irs/image_bin/x/7297786.jpg\" height=\"550\" width=\"733\"/>\\n         </a>\\n         <div class=\"swiper-lazy-preloader\">\\n         </div>\\n        </div>\\n        <div class=\"swiper-slide\">\\n         <a class=\"fresco\" data-fresco-group=\"id716638\" data-fresco-group-options=\"thumbnails: false\" href=\"https://cache.apolloduck.com/image_bin/x/7297769.jpg\">\\n          <img class=\"swiper-lazy\" data-src=\"https://ics.apolloduck.com/lPwdnzt2lv3jLcbE_w80OklJxMw=/733x550/irs/image_bin/x/7297769.jpg\" height=\"550\" width=\"733\"/>\\n         </a>\\n         <div class=\"swiper-lazy-preloader\">\\n         </div>\\n        </div>\\n        <div class=\"swiper-slide\">\\n         <a class=\"fresco\" data-fresco-group=\"id716638\" data-fresco-group-options=\"thumbnails: false\" href=\"https://cache.apolloduck.com/image_bin/x/7297770.jpg\">\\n          <img class=\"swiper-lazy\" data-src=\"https://ics.apolloduck.com/Dh9uR4LbebqxDbTNy2ZK_3g1C1Y=/733x550/irs/image_bin/x/7297770.jpg\" height=\"550\" width=\"733\"/>\\n         </a>\\n         <div class=\"swiper-lazy-preloader\">\\n         </div>\\n        </div>\\n        <div class=\"swiper-slide\">\\n         <a class=\"fresco\" data-fresco-group=\"id716638\" data-fresco-group-options=\"thumbnails: false\" href=\"https://cache.apolloduck.com/image_bin/x/7297771.jpg\">\\n          <img class=\"swiper-lazy\" data-src=\"https://ics.apolloduck.com/VVNTg-Y31Ul23Of7_pZ9bpU9IB0=/733x550/irs/image_bin/x/7297771.jpg\" height=\"550\" width=\"733\"/>\\n         </a>\\n         <div class=\"swiper-lazy-preloader\">\\n         </div>\\n        </div>\\n        <div class=\"swiper-slide\">\\n         <a class=\"fresco\" data-fresco-group=\"id716638\" data-fresco-group-options=\"thumbnails: false\" href=\"https://cache.apolloduck.com/image_bin/x/7297772.jpg\">\\n          <img class=\"swiper-lazy\" data-src=\"https://ics.apolloduck.com/2ypr_6x0IF3ZETambHUK_YUN1SE=/733x550/irs/image_bin/x/7297772.jpg\" height=\"550\" width=\"733\"/>\\n         </a>\\n         <div class=\"swiper-lazy-preloader\">\\n         </div>\\n        </div>\\n        <div class=\"swiper-slide\">\\n         <a class=\"fresco\" data-fresco-group=\"id716638\" data-fresco-group-options=\"thumbnails: false\" href=\"https://cache.apolloduck.com/image_bin/x/7297773.jpg\">\\n          <img class=\"swiper-lazy\" data-src=\"https://ics.apolloduck.com/yyE9_xlGudui20BRZ8gxBIMRq4M=/733x550/irs/image_bin/x/7297773.jpg\" height=\"550\" width=\"733\"/>\\n         </a>\\n         <div class=\"swiper-lazy-preloader\">\\n         </div>\\n        </div>\\n        <div class=\"swiper-slide\">\\n         <a class=\"fresco\" data-fresco-group=\"id716638\" data-fresco-group-options=\"thumbnails: false\" href=\"https://cache.apolloduck.com/image_bin/x/7297774.jpg\">\\n          <img class=\"swiper-lazy\" data-src=\"https://ics.apolloduck.com/pUotfj4S3b4J8PdzUK1U86s-eZw=/733x550/irs/image_bin/x/7297774.jpg\" height=\"550\" width=\"733\"/>\\n         </a>\\n         <div class=\"swiper-lazy-preloader\">\\n         </div>\\n        </div>\\n        <div class=\"swiper-slide\">\\n         <a class=\"fresco\" data-fresco-group=\"id716638\" data-fresco-group-options=\"thumbnails: false\" href=\"https://cache.apolloduck.com/image_bin/x/7297775.jpg\">\\n          <img class=\"swiper-lazy\" data-src=\"https://ics.apolloduck.com/VFxLADl8gRbJ_MwiKd1v7zOIL-M=/733x550/irs/image_bin/x/7297775.jpg\" height=\"550\" width=\"733\"/>\\n         </a>\\n         <div class=\"swiper-lazy-preloader\">\\n         </div>\\n        </div>\\n        <div class=\"swiper-slide\">\\n         <a class=\"fresco\" data-fresco-group=\"id716638\" data-fresco-group-options=\"thumbnails: false\" href=\"https://cache.apolloduck.com/image_bin/x/7297776.jpg\">\\n          <img class=\"swiper-lazy\" data-src=\"https://ics.apolloduck.com/Wef68i45RyO6sWhQ3rwURAf1w_k=/733x550/irs/image_bin/x/7297776.jpg\" height=\"550\" width=\"733\"/>\\n         </a>\\n         <div class=\"swiper-lazy-preloader\">\\n         </div>\\n        </div>\\n        <div class=\"swiper-slide\">\\n         <a class=\"fresco\" data-fresco-group=\"id716638\" data-fresco-group-options=\"thumbnails: false\" href=\"https://cache.apolloduck.com/image_bin/x/7297777.jpg\">\\n          <img class=\"swiper-lazy\" data-src=\"https://ics.apolloduck.com/DhtlNe5YOc2GOjb8uxt5l8A_-v8=/733x550/irs/image_bin/x/7297777.jpg\" height=\"550\" width=\"733\"/>\\n         </a>\\n         <div class=\"swiper-lazy-preloader\">\\n         </div>\\n        </div>\\n        <div class=\"swiper-slide\">\\n         <a class=\"fresco\" data-fresco-group=\"id716638\" data-fresco-group-options=\"thumbnails: false\" href=\"https://cache.apolloduck.com/image_bin/x/7297778.jpg\">\\n          <img class=\"swiper-lazy\" data-src=\"https://ics.apolloduck.com/3uLnrw4igtrjHNqRGKIK8WX0xlc=/733x550/irs/image_bin/x/7297778.jpg\" height=\"550\" width=\"733\"/>\\n         </a>\\n         <div class=\"swiper-lazy-preloader\">\\n         </div>\\n        </div>\\n        <div class=\"swiper-slide\">\\n         <a class=\"fresco\" data-fresco-group=\"id716638\" data-fresco-group-options=\"thumbnails: false\" href=\"https://cache.apolloduck.com/image_bin/x/7297779.jpg\">\\n          <img class=\"swiper-lazy\" data-src=\"https://ics.apolloduck.com/inQLcbhxac-oxjivRCQQr_aKViA=/733x550/irs/image_bin/x/7297779.jpg\" height=\"550\" width=\"733\"/>\\n         </a>\\n         <div class=\"swiper-lazy-preloader\">\\n         </div>\\n        </div>\\n        <div class=\"swiper-slide\">\\n         <a class=\"fresco\" data-fresco-group=\"id716638\" data-fresco-group-options=\"thumbnails: false\" href=\"https://cache.apolloduck.com/image_bin/x/7297780.jpg\">\\n          <img class=\"swiper-lazy\" data-src=\"https://ics.apolloduck.com/sXk6SI0vp-Y1ZVXd40fsNu1n3aE=/733x550/irs/image_bin/x/7297780.jpg\" height=\"550\" width=\"733\"/>\\n         </a>\\n         <div class=\"swiper-lazy-preloader\">\\n         </div>\\n        </div>\\n        <div class=\"swiper-slide\">\\n         <a class=\"fresco\" data-fresco-group=\"id716638\" data-fresco-group-options=\"thumbnails: false\" href=\"https://cache.apolloduck.com/image_bin/x/7297781.jpg\">\\n          <img class=\"swiper-lazy\" data-src=\"https://ics.apolloduck.com/f5nqvaIuCdY6VymCSsxPCwfm4dw=/733x550/irs/image_bin/x/7297781.jpg\" height=\"550\" width=\"733\"/>\\n         </a>\\n         <div class=\"swiper-lazy-preloader\">\\n         </div>\\n        </div>\\n        <div class=\"swiper-slide\">\\n         <a class=\"fresco\" data-fresco-group=\"id716638\" data-fresco-group-options=\"thumbnails: false\" href=\"https://cache.apolloduck.com/image_bin/x/7297782.jpg\">\\n          <img class=\"swiper-lazy\" data-src=\"https://ics.apolloduck.com/acLJ8By6i5voRFBp7raAYQStKgs=/733x977/irs/image_bin/x/7297782.jpg\" height=\"977\" width=\"733\"/>\\n         </a>\\n         <div class=\"swiper-lazy-preloader\">\\n         </div>\\n        </div>\\n        <div class=\"swiper-slide\">\\n         <a class=\"fresco\" data-fresco-group=\"id716638\" data-fresco-group-options=\"thumbnails: false\" href=\"https://cache.apolloduck.com/image_bin/x/7297783.jpg\">\\n          <img class=\"swiper-lazy\" data-src=\"https://ics.apolloduck.com/skS1exvcQYxtcI4nvGgT8ONkF7s=/733x550/irs/image_bin/x/7297783.jpg\" height=\"550\" width=\"733\"/>\\n         </a>\\n         <div class=\"swiper-lazy-preloader\">\\n         </div>\\n        </div>\\n        <div class=\"swiper-slide\">\\n         <a class=\"fresco\" data-fresco-group=\"id716638\" data-fresco-group-options=\"thumbnails: false\" href=\"https://cache.apolloduck.com/image_bin/x/7297784.jpg\">\\n          <img class=\"swiper-lazy\" data-src=\"https://ics.apolloduck.com/HsUG5vEV8T0F5GI-7s2_7ZHRw04=/733x977/irs/image_bin/x/7297784.jpg\" height=\"977\" width=\"733\"/>\\n         </a>\\n         <div class=\"swiper-lazy-preloader\">\\n         </div>\\n        </div>\\n        <div class=\"swiper-slide\">\\n         <a class=\"fresco\" data-fresco-group=\"id716638\" data-fresco-group-options=\"thumbnails: false\" href=\"https://cache.apolloduck.com/image_bin/x/7297785.jpg\">\\n          <img class=\"swiper-lazy\" data-src=\"https://ics.apolloduck.com/mOvQYOdS0tODsjvuek6QchHEQ6g=/733x550/irs/image_bin/x/7297785.jpg\" height=\"550\" width=\"733\"/>\\n         </a>\\n         <div class=\"swiper-lazy-preloader\">\\n         </div>\\n        </div>\\n       </div>\\n       <div class=\"swiper-pagination\">\\n       </div>\\n       <div class=\"swiper-button-prev\">\\n       </div>\\n       <div class=\"swiper-button-next\">\\n       </div>\\n      </div>\\n      <br/>\\n      <div id=\"contactSection\">\\n       <div class=\"_halfSection cp\">\\n        <table class=\"_pcl\">\\n         <tr class=\"_pclLine\">\\n          <td class=\"_pclPrice\" colspan=\"2\">\\n           <span id=\"nativePrice\">\\n            £54,995\\xa0\\xa0|\\n           </span>\\n           <span id=\"conversionPrice\">\\n            <select class=\"ssp\" id=\"fxMenu\" name=\"fx\">\\n             <option value=\"AED\">\\n              AED\\n             </option>\\n             <option value=\"ALL\">\\n              ALL\\n             </option>\\n             <option value=\"AMD\">\\n              AMD\\n             </option>\\n             <option value=\"ANG\">\\n              ANG\\n             </option>\\n             <option value=\"ARS\">\\n              ARS\\n             </option>\\n             <option value=\"AUD\">\\n              AUD\\n             </option>\\n             <option value=\"AZN\">\\n              AZN\\n             </option>\\n             <option value=\"BBD\">\\n              BBD\\n             </option>\\n             <option value=\"BDT\">\\n              BDT\\n             </option>\\n             <option value=\"BGN\">\\n              BGN\\n             </option>\\n             <option value=\"BHD\">\\n              BHD\\n             </option>\\n             <option value=\"BIF\">\\n              BIF\\n             </option>\\n             <option value=\"BMD\">\\n              BMD\\n             </option>\\n             <option value=\"BND\">\\n              BND\\n             </option>\\n             <option value=\"BOB\">\\n              BOB\\n             </option>\\n             <option value=\"BRL\">\\n              BRL\\n             </option>\\n             <option value=\"BSD\">\\n              BSD\\n             </option>\\n             <option value=\"BWP\">\\n              BWP\\n             </option>\\n             <option value=\"BYR\">\\n              BYR\\n             </option>\\n             <option value=\"BZD\">\\n              BZD\\n             </option>\\n             <option value=\"CAD\">\\n              CAD\\n             </option>\\n             <option value=\"CDF\">\\n              CDF\\n             </option>\\n             <option value=\"CHF\">\\n              CHF\\n             </option>\\n             <option value=\"CLP\">\\n              CLP\\n             </option>\\n             <option value=\"CNY\">\\n              CNY\\n             </option>\\n             <option value=\"COP\">\\n              COP\\n             </option>\\n             <option value=\"CRC\">\\n              CRC\\n             </option>\\n             <option value=\"CVE\">\\n              CVE\\n             </option>\\n             <option value=\"CYP\">\\n              CYP\\n             </option>\\n             <option value=\"CZK\">\\n              CZK\\n             </option>\\n             <option value=\"DJF\">\\n              DJF\\n             </option>\\n             <option value=\"DKK\">\\n              DKK\\n             </option>\\n             <option value=\"DOP\">\\n              DOP\\n             </option>\\n             <option value=\"DZD\">\\n              DZD\\n             </option>\\n             <option value=\"ECS\">\\n              ECS\\n             </option>\\n             <option value=\"EGP\">\\n              EGP\\n             </option>\\n             <option value=\"ERN\">\\n              ERN\\n             </option>\\n             <option value=\"ETB\">\\n              ETB\\n             </option>\\n             <option value=\"EUR\">\\n              EUR\\n             </option>\\n             <option value=\"FJD\">\\n              FJD\\n             </option>\\n             <option value=\"FKP\">\\n              FKP\\n             </option>\\n             <option selected=\"selected\" value=\"GBP\">\\n              GBP\\n             </option>\\n             <option value=\"GEL\">\\n              GEL\\n             </option>\\n             <option value=\"GHS\">\\n              GHS\\n             </option>\\n             <option value=\"GIP\">\\n              GIP\\n             </option>\\n             <option value=\"GMD\">\\n              GMD\\n             </option>\\n             <option value=\"GNF\">\\n              GNF\\n             </option>\\n             <option value=\"GTQ\">\\n              GTQ\\n             </option>\\n             <option value=\"GYD\">\\n              GYD\\n             </option>\\n             <option value=\"HKD\">\\n              HKD\\n             </option>\\n             <option value=\"HNL\">\\n              HNL\\n             </option>\\n             <option value=\"HRK\">\\n              HRK\\n             </option>\\n             <option value=\"HTG\">\\n              HTG\\n             </option>\\n             <option value=\"HUF\">\\n              HUF\\n             </option>\\n             <option value=\"IDR\">\\n              IDR\\n             </option>\\n             <option value=\"ILS\">\\n              ILS\\n             </option>\\n             <option value=\"INR\">\\n              INR\\n             </option>\\n             <option value=\"IQD\">\\n              IQD\\n             </option>\\n             <option value=\"IRR\">\\n              IRR\\n             </option>\\n             <option value=\"ISK\">\\n              ISK\\n             </option>\\n             <option value=\"JMD\">\\n              JMD\\n             </option>\\n             <option value=\"JOD\">\\n              JOD\\n             </option>\\n             <option value=\"JPY\">\\n              JPY\\n             </option>\\n             <option value=\"KES\">\\n              KES\\n             </option>\\n             <option value=\"KGS\">\\n              KGS\\n             </option>\\n             <option value=\"KHR\">\\n              KHR\\n             </option>\\n             <option value=\"KMF\">\\n              KMF\\n             </option>\\n             <option value=\"KRW\">\\n              KRW\\n             </option>\\n             <option value=\"KRW\">\\n              KRW\\n             </option>\\n             <option value=\"KYD\">\\n              KYD\\n             </option>\\n             <option value=\"KZT\">\\n              KZT\\n             </option>\\n             <option value=\"LAK\">\\n              LAK\\n             </option>\\n             <option value=\"LBP\">\\n              LBP\\n             </option>\\n             <option value=\"LKR\">\\n              LKR\\n             </option>\\n             <option value=\"LSL\">\\n              LSL\\n             </option>\\n             <option value=\"LTL\">\\n              LTL\\n             </option>\\n             <option value=\"LVL\">\\n              LVL\\n             </option>\\n             <option value=\"LYD\">\\n              LYD\\n             </option>\\n             <option value=\"MAD\">\\n              MAD\\n             </option>\\n             <option value=\"MDL\">\\n              MDL\\n             </option>\\n             <option value=\"MGA\">\\n              MGA\\n             </option>\\n             <option value=\"MKD\">\\n              MKD\\n             </option>\\n             <option value=\"MMK\">\\n              MMK\\n             </option>\\n             <option value=\"MNT\">\\n              MNT\\n             </option>\\n             <option value=\"MOP\">\\n              MOP\\n             </option>\\n             <option value=\"MRO\">\\n              MRO\\n             </option>\\n             <option value=\"MUR\">\\n              MUR\\n             </option>\\n             <option value=\"MVR\">\\n              MVR\\n             </option>\\n             <option value=\"MWK\">\\n              MWK\\n             </option>\\n             <option value=\"MXN\">\\n              MXN\\n             </option>\\n             <option value=\"MYR\">\\n              MYR\\n             </option>\\n             <option value=\"MZN\">\\n              MZN\\n             </option>\\n             <option value=\"NAD\">\\n              NAD\\n             </option>\\n             <option value=\"NGN\">\\n              NGN\\n             </option>\\n             <option value=\"NIO\">\\n              NIO\\n             </option>\\n             <option value=\"NOK\">\\n              NOK\\n             </option>\\n             <option value=\"NPR\">\\n              NPR\\n             </option>\\n             <option value=\"NZD\">\\n              NZD\\n             </option>\\n             <option value=\"OMR\">\\n              OMR\\n             </option>\\n             <option value=\"PAB\">\\n              PAB\\n             </option>\\n             <option value=\"PEN\">\\n              PEN\\n             </option>\\n             <option value=\"PHP\">\\n              PHP\\n             </option>\\n             <option value=\"PKR\">\\n              PKR\\n             </option>\\n             <option value=\"PLN\">\\n              PLN\\n             </option>\\n             <option value=\"PYG\">\\n              PYG\\n             </option>\\n             <option value=\"QAR\">\\n              QAR\\n             </option>\\n             <option value=\"RON\">\\n              RON\\n             </option>\\n             <option value=\"RSD\">\\n              RSD\\n             </option>\\n             <option value=\"RWF\">\\n              RWF\\n             </option>\\n             <option value=\"SAR\">\\n              SAR\\n             </option>\\n             <option value=\"SBD\">\\n              SBD\\n             </option>\\n             <option value=\"SCR\">\\n              SCR\\n             </option>\\n             <option value=\"SDG\">\\n              SDG\\n             </option>\\n             <option value=\"SEK\">\\n              SEK\\n             </option>\\n             <option value=\"SGD\">\\n              SGD\\n             </option>\\n             <option value=\"SHP\">\\n              SHP\\n             </option>\\n             <option value=\"SIT\">\\n              SIT\\n             </option>\\n             <option value=\"SOS\">\\n              SOS\\n             </option>\\n             <option value=\"SRD\">\\n              SRD\\n             </option>\\n             <option value=\"STD\">\\n              STD\\n             </option>\\n             <option value=\"SYP\">\\n              SYP\\n             </option>\\n             <option value=\"THB\">\\n              THB\\n             </option>\\n             <option value=\"TND\">\\n              TND\\n             </option>\\n             <option value=\"TOP\">\\n              TOP\\n             </option>\\n             <option value=\"TRY\">\\n              TRY\\n             </option>\\n             <option value=\"TWD\">\\n              TWD\\n             </option>\\n             <option value=\"TZS\">\\n              TZS\\n             </option>\\n             <option value=\"UAH\">\\n              UAH\\n             </option>\\n             <option value=\"UGX\">\\n              UGX\\n             </option>\\n             <option value=\"USD\">\\n              USD\\n             </option>\\n             <option value=\"UYU\">\\n              UYU\\n             </option>\\n             <option value=\"VEF\">\\n              VEF\\n             </option>\\n             <option value=\"VND\">\\n              VND\\n             </option>\\n             <option value=\"WST\">\\n              WST\\n             </option>\\n             <option value=\"XCD\">\\n              XCD\\n             </option>\\n             <option value=\"XOF\">\\n              XOF\\n             </option>\\n             <option value=\"XPF\">\\n              XPF\\n             </option>\\n             <option value=\"YER\">\\n              YER\\n             </option>\\n             <option value=\"ZAR\">\\n              ZAR\\n             </option>\\n             <option value=\"ZMK\">\\n              ZMK\\n             </option>\\n            </select>\\n           </span>\\n           <span id=\"fxConversion\">\\n           </span>\\n          </td>\\n         </tr>\\n         <tr class=\"_pclLine\">\\n          <td class=\"_pclLabel\">\\n          </td>\\n          <td class=\"_pclData\">\\n          </td>\\n         </tr>\\n         <tr class=\"_pclLine\">\\n          <td class=\"_pclLabel\">\\n           Status:\\n          </td>\\n          <td class=\"_pclData\">\\n           Available\\n          </td>\\n         </tr>\\n         <tr class=\"_pclLine\">\\n          <td class=\"_pclLabel\">\\n           Tax Status:\\n          </td>\\n          <td class=\"_pclData\">\\n           Tax Paid\\n          </td>\\n         </tr>\\n         <tr class=\"_pclLine\">\\n          <td class=\"_pclLabel\">\\n           Location:\\n          </td>\\n          <td class=\"_pclData\">\\n           Ardrossan North Ayrshire UK\\n           <br/>\\n           [\\n           <a href=\"#map\">\\n            View Map\\n           </a>\\n           ]\\n          </td>\\n         </tr>\\n         <tr class=\"_pclLine\">\\n          <td class=\"_pclLabel\">\\n           Reference:\\n          </td>\\n          <td class=\"_pclData\">\\n           2378959\\n          </td>\\n         </tr>\\n         <tr class=\"_pclLine\">\\n          <td class=\"_pclLabel\">\\n           Website:\\n          </td>\\n          <td class=\"_pclData\">\\n           <a href=\"https://apolloduck.net/716638\" target=\"_blank\">\\n            https://apolloduck.net/716638\\n           </a>\\n          </td>\\n         </tr>\\n        </table>\\n        <div class=\"callNowButton\" id=\"iP1\">\\n         <a class=\"phoneReveal\" href=\"javascript:void(0);\" id=\"rP1\">\\n          Call Now\\n         </a>\\n        </div>\\n       </div>\\n       <div class=\"_halfSection\">\\n        <div id=\"contactForm\">\\n         <div id=\"contactLegend\">\\n          Contact Seller\\n         </div>\\n         <br/>\\n         <form action=\"https://yachts.apolloduck.co.uk/boat.phtml?id=716638\" method=\"post\">\\n          <table border=\"0\" cellpadding=\"3\" cellspacing=\"0\" width=\"100%\">\\n           <tr>\\n            <td align=\"left\" class=\"sp\">\\n             Optional: Sign in to save this enquiry in your account\\n            </td>\\n           </tr>\\n           <tr>\\n            <td align=\"left\" class=\"cp\" width=\"100%\">\\n             <input autocomplete=\"off\" maxlength=\"20\" name=\"u\" ondrop=\"return false;\" onpaste=\"return false;\" placeholder=\"Username\" size=\"10\" type=\"text\"/>\\n             <input autocomplete=\"off\" maxlength=\"120\" name=\"p\" ondrop=\"return false;\" onpaste=\"return false;\" placeholder=\"Password\" size=\"10\" type=\"password\"/>\\n             <input type=\"submit\" value=\"Login\"/>\\n            </td>\\n           </tr>\\n          </table>\\n          <input name=\"l\" type=\"hidden\" value=\"1\"/>\\n          <input name=\"id\" type=\"hidden\" value=\"716638\"/>\\n         </form>\\n         <form accept-charset=\"utf-8\" action=\"https://yachts.apolloduck.co.uk/boat.phtml?id=716638#contactForm\" method=\"post\">\\n          <div class=\"contactPair\">\\n           <input autocomplete=\"off\" class=\"contactData\" id=\"contactName\" maxlength=\"50\" name=\"name\" ondrop=\"return false;\" onpaste=\"return false;\" placeholder=\"Your Name\" required=\"required\" size=\"15\" type=\"text\"/>\\n           <span class=\"error\" id=\"nameNotice\">\\n           </span>\\n          </div>\\n          <div class=\"contactPair\">\\n           <input autocomplete=\"off\" class=\"contactData\" id=\"contactPhone\" maxlength=\"50\" name=\"phone\" ondrop=\"return false;\" onpaste=\"return false;\" placeholder=\"Your Phone\" required=\"required\" size=\"15\" type=\"tel\"/>\\n           <span class=\"error\" id=\"phoneNotice\">\\n           </span>\\n           <span class=\"error\" id=\"validPhoneNotice\">\\n           </span>\\n          </div>\\n          <div class=\"contactPair\">\\n           <input autocomplete=\"off\" class=\"contactData\" id=\"contactEmail\" maxlength=\"120\" name=\"email\" ondrop=\"return false;\" onpaste=\"return false;\" placeholder=\"Your Email\" required=\"required\" size=\"15\" type=\"email\"/>\\n           <span class=\"error\" id=\"emailNotice\">\\n           </span>\\n           <span class=\"error\" id=\"validEmailNotice\">\\n           </span>\\n          </div>\\n          <div class=\"contactPair\">\\n           <textarea autocomplete=\"off\" class=\"contactData\" cols=\"10\" id=\"contactMessage\" name=\"message\" ondrop=\"return false;\" onpaste=\"return false;\" placeholder=\"Message (Max 350 characters)\" required=\"required\" rows=\"3\"></textarea>\\n           <div id=\"charCount\">\\n            Characters:\\n            <span id=\"charCounter\">\\n             0\\n            </span>\\n            <span class=\"error\" id=\"messageNotice\">\\n            </span>\\n            <span class=\"error\" id=\"validMessageNotice\">\\n            </span>\\n           </div>\\n          </div>\\n          <div class=\"contactPair\">\\n           <input class=\"emailButton\" type=\"submit\" value=\"Send Email\"/>\\n          </div>\\n          <input name=\"id\" type=\"hidden\" value=\"716638\"/>\\n          <input name=\"referer\" type=\"hidden\" value=\"\"/>\\n          <input name=\"send\" type=\"hidden\" value=\"1\"/>\\n          <input name=\"MTAgTWF5IDIwMjM=\" type=\"hidden\" value=\"1\"/>\\n         </form>\\n         <br/>\\n        </div>\\n       </div>\\n      </div>\\n      <div class=\"relatedServiceSection cp\" id=\"insurance\">\\n       <h3>\\n        Insurance\\n       </h3>\\n       <script>\\n        $(function () {\\n                        $(\"a#ip1\").click(function () {\\n                            $.get(\"/js/i.phtml\", {\\n                                tp: \\'MQ==\\',\\n                                aid: 716638});\\n                        });\\n                    });\\n       </script>\\n       <script>\\n        $(function () {\\n                        $(\"a#ip86\").click(function () {\\n                            $.get(\"/js/i.phtml\", {\\n                                tp: \\'ODY=\\',\\n                                aid: 716638});\\n                        });\\n                    });\\n       </script>\\n       <div class=\"relatedServicePanel\">\\n        <a href=\"http://craftinsure.com/index.asp\" id=\"sp169\" rel=\"nofollow\">\\n         <img alt=\"craftinsure.com\" height=\"110\" loading=\"lazy\" src=\"https://cache.apolloduck.com/logos/sidebar_169.jpg\" width=\"125\"/>\\n        </a>\\n        <br/>\\n        <span class=\"relatedServiceSpan\">\\n         <a class=\"grey\" href=\"http://craftinsure.com/index.asp\">\\n          craftinsure.com\\n         </a>\\n        </span>\\n       </div>\\n       <script>\\n        $(function () {\\n                        $(\"a#ip169\").click(function () {\\n                            $.get(\"/js/i.phtml\", {\\n                                tp: \\'MTY5\\',\\n                                aid: 716638});\\n                        });\\n                    });\\n       </script>\\n       <p id=\"serviceClose\">\\n        [\\n        <a href=\"javascript:void();\" id=\"closeService\">\\n         Close\\n        </a>\\n        ]\\n       </p>\\n      </div>\\n      <div class=\"relatedServiceSection cp\" id=\"finance\">\\n       <h3>\\n        Finance\\n       </h3>\\n       <div class=\"relatedServicePanel\">\\n        <a href=\"https://www.marine-finance.org/apollo-duck/\" id=\"sp285\" rel=\"nofollow\">\\n         <img alt=\"Promarine Finance\" height=\"180\" loading=\"lazy\" src=\"https://cache.apolloduck.com/logos/sidebar_285.jpg\" width=\"125\"/>\\n        </a>\\n        <br/>\\n        <span class=\"relatedServiceSpan\">\\n         <a class=\"grey\" href=\"https://www.marine-finance.org/apollo-duck/\">\\n          Promarine Finance\\n         </a>\\n        </span>\\n       </div>\\n       <script>\\n        $(function () {\\n                        $(\"a#fp285\").click(function () {\\n                            $.get(\"/js/i.phtml\", {\\n                                tp: \\'Mjg1\\',\\n                                aid: 716638});\\n                        });\\n                    });\\n       </script>\\n       <p id=\"serviceClose\">\\n        [\\n        <a href=\"javascript:void();\" id=\"closeService\">\\n         Close\\n        </a>\\n        ]\\n       </p>\\n      </div>\\n      <div class=\"relatedServiceSection cp\" id=\"transport\">\\n       <h3>\\n        Transport\\n       </h3>\\n       <script>\\n        $(function () {\\n                        $(\"a#tp275\").click(function () {\\n                            $.get(\"/js/i.phtml\", {\\n                                tp: \\'Mjc1\\',\\n                                aid: 716638});\\n                        });\\n                    });\\n       </script>\\n       <p id=\"serviceClose\">\\n        [\\n        <a href=\"javascript:void();\" id=\"closeService\">\\n         Close\\n        </a>\\n        ]\\n       </p>\\n      </div>\\n      <div class=\"relatedServiceSection cp\" id=\"survey\">\\n       <h3>\\n        Survey\\n       </h3>\\n       <script>\\n        $(function () {\\n                        $(\"a#sp286\").click(function () {\\n                            $.get(\"/js/i.phtml\", {\\n                                tp: \\'Mjg2\\',\\n                                aid: 716638});\\n                        });\\n                    });\\n       </script>\\n       <p id=\"serviceClose\">\\n        [\\n        <a href=\"javascript:void();\" id=\"closeService\">\\n         Close\\n        </a>\\n        ]\\n       </p>\\n      </div>\\n      <div class=\"inlineRelatedServices cp\">\\n       <a class=\"service\" href=\"javascript:void();\" id=\"insuranceButton\">\\n        <div class=\"_inlineService\">\\n         Insure this Boat\\n        </div>\\n       </a>\\n       <a class=\"service\" href=\"javascript:void();\" id=\"financeButton\">\\n        <div class=\"_inlineService\">\\n         Finance this Boat\\n        </div>\\n       </a>\\n      </div>\\n      <div class=\"_featureSection cp\">\\n       <h3>\\n        Description\\n       </h3>\\n       <p>\\n        <br/>\\n        Mascot 35DS Deck Saloon built with renowned Danish build quality and sea keeping abilities.\\n        <br/>\\n        <br/>\\n        <br/>\\n        Sleeping six across three cabins\\xa0spacious and very comfortable. The main saloon is superbly light and has fantastic visibility all round thanks to large wrap around windows.\\n        <br/>\\n        <br/>\\n        <br/>\\n        With a helm station forward in the main saloon. she is a true all weather cruiser that will look after you what ever the conditions.\\n        <br/>\\n        <br/>\\n        <br/>\\n        Oriana benefits from Diesel heating a 43 Hp Volvo engine, bow thruster and good electronics.\\n        <br/>\\n        <br/>\\n        <br/>\\n        Great boat for cruising in the UK view highly recommended.\\n        <br/>\\n        <br/>\\n        <br/>\\n        <br/>\\n        <br/>\\n        Construction\\n        <br/>\\n        <br/>\\n        <br/>\\n        <br/>\\n        White GRP hull and deck mouldings\\n        <br/>\\n        <br/>\\n        <br/>\\n        Long Fin keel\\n        <br/>\\n        <br/>\\n        <br/>\\n        Skeg hung GRP rudder\\n        <br/>\\n        <br/>\\n        <br/>\\n        Teak in cockpit seats\\n        <br/>\\n        <br/>\\n        <br/>\\n        Wheel steering in two position inside and cockpit.\\n        <br/>\\n        <br/>\\n        <br/>\\n        Antifouled summer 2022 and anodes replaced.\\n        <br/>\\n        <br/>\\n        <br/>\\n        <br/>\\n        <br/>\\n        <br/>\\n        <br/>\\n        <br/>\\n        <br/>\\n        <br/>\\n        Mechanicals\\n        <br/>\\n        <br/>\\n        <br/>\\n        <br/>\\n        Engine\\n        <br/>\\n        <br/>\\n        <br/>\\n        <br/>\\n        43hp Volvo Penta Turbo 2003T\\n        <br/>\\n        <br/>\\n        <br/>\\n        1785 Hours fully serviced.\\n        <br/>\\n        <br/>\\n        <br/>\\n        Duel engine start positions\\n        <br/>\\n        <br/>\\n        <br/>\\n        Shaft driven shaft replaced 2022\\n        <br/>\\n        <br/>\\n        <br/>\\n        3 bladed prop New Summer\\xa0 2022\\n        <br/>\\n        <br/>\\n        <br/>\\n        Tunnel bowthruster\\n        <br/>\\n        <br/>\\n        <br/>\\n        Electrical\\n        <br/>\\n        <br/>\\n        <br/>\\n        <br/>\\n        Xantrex Tru charge 2battery charger\\n        <br/>\\n        <br/>\\n        <br/>\\n        4x Banner 12v K20 115ah batteries\\n        <br/>\\n        <br/>\\n        <br/>\\n        BMI battery monitor\\n        <br/>\\n        <br/>\\n        <br/>\\n        LED lighting throughout\\n        <br/>\\n        <br/>\\n        <br/>\\n        Deck mounted solar panel\\n        <br/>\\n        <br/>\\n        <br/>\\n        BM-1 Clipper battery monitor\\n        <br/>\\n        <br/>\\n        <br/>\\n        Water System and Tankage\\n        <br/>\\n        <br/>\\n        <br/>\\n        <br/>\\n        Hot and cold pressurized water system to galley and heads taps\\n        <br/>\\n        <br/>\\n        <br/>\\n        Hot Water via engine and shore power.\\n        <br/>\\n        <br/>\\n        <br/>\\n        250Lwater tank\\n        <br/>\\n        <br/>\\n        <br/>\\n        250Lfuel tank\\n        <br/>\\n        <br/>\\n        <br/>\\n        Parafin Heater and Eberspacher Diesel Air Heater\\n        <br/>\\n        <br/>\\n        <br/>\\n        <br/>\\n        <br/>\\n        <br/>\\n        <br/>\\n        Mast, Rigging, Sails and Deck Gear\\n        <br/>\\n        <br/>\\n        <br/>\\n        <br/>\\n        Mast and Spars\\n        <br/>\\n        <br/>\\n        <br/>\\n        <br/>\\n        John Mast alluminium spars\\n        <br/>\\n        <br/>\\n        <br/>\\n        John Mast vang strut\\n        <br/>\\n        <br/>\\n        <br/>\\n        Mast mounted steps\\n        <br/>\\n        <br/>\\n        <br/>\\n        John Mast spinnaker pole\\n        <br/>\\n        <br/>\\n        <br/>\\n        Prosail C320 roller furling unit (2019)\\n        <br/>\\n        <br/>\\n        <br/>\\n        Sails\\n        <br/>\\n        <br/>\\n        <br/>\\n        <br/>\\n        Dacron cruising fully battened main sail with Fredrikson cars\\n        <br/>\\n        <br/>\\n        <br/>\\n        Dacron self tacking headsail\\n        <br/>\\n        <br/>\\n        <br/>\\n        Cuisader Genoa (2010 )with new UVstrip 2018\\n        <br/>\\n        <br/>\\n        <br/>\\n        Spinnaker /snuffer (1990)\\n        <br/>\\n        <br/>\\n        <br/>\\n        Winches and Clutches\\n        <br/>\\n        <br/>\\n        <br/>\\n        <br/>\\n        Primary Lewmar 44 electric self-tailing winches\\n        <br/>\\n        <br/>\\n        <br/>\\n        4 x Meissner 18 easy lock midi clutches on Portside\\n        <br/>\\n        <br/>\\n        <br/>\\n        5 x Lewmar 30 easy lock midi clutches on Starboard side\\n        <br/>\\n        <br/>\\n        <br/>\\n        Deck Gear\\n        <br/>\\n        <br/>\\n        <br/>\\n        <br/>\\n        Self tacking heads ail track\\n        <br/>\\n        <br/>\\n        <br/>\\n        Stainless steel pushpit and pullpit\\n        <br/>\\n        <br/>\\n        <br/>\\n        Pushpit mounted life raft rack\\n        <br/>\\n        <br/>\\n        <br/>\\n        Folding cockpit table\\n        <br/>\\n        <br/>\\n        <br/>\\n        Mooring and Anchoring\\n        <br/>\\n        <br/>\\n        <br/>\\n        <br/>\\n        Electric anchor windlass with remote extension and foot controls\\n        <br/>\\n        <br/>\\n        <br/>\\n        33Ib Bruce anchor with chain\\n        <br/>\\n        <br/>\\n        <br/>\\n        Forward Midship and Aft mooring cleats\\n        <br/>\\n        <br/>\\n        <br/>\\n        Various Warps and Fenders\\n        <br/>\\n        <br/>\\n        <br/>\\n        <br/>\\n        Accommodation\\n        <br/>\\n        <br/>\\n        <br/>\\n        <br/>\\n        Sleeping six across three cabins (including the saloon) with forward and aft separate heads compartments. Light and spacious main saloon with dinning table to port and a linear galley to starboard with helm station forward. LED lighting throughout.\\n        <br/>\\n        <br/>\\n        <br/>\\n        Saloon\\n        <br/>\\n        <br/>\\n        <br/>\\n        <br/>\\n        Large u-shaped seating and dinning area to\\n        <br/>\\n        <br/>\\n        <br/>\\n        Port\\xa0Table\\xa0drops to form double berth with cushion insets\\n        <br/>\\n        <br/>\\n        <br/>\\n        Linear galley to port with ample storage and work surfaces.\\n        <br/>\\n        <br/>\\n        <br/>\\n        Forward helm station to Port\\n        <br/>\\n        <br/>\\n        <br/>\\n        Voluminous storage behind and under saloon seating\\n        <br/>\\n        <br/>\\n        <br/>\\n        Galley\\n        <br/>\\n        <br/>\\n        <br/>\\n        <br/>\\n        Eno3 ring gas with oven and grill\\n        <br/>\\n        <br/>\\n        <br/>\\n        Eno Fridge\\n        <br/>\\n        <br/>\\n        <br/>\\n        Double /Single stainless steel galley sink\\n        <br/>\\n        <br/>\\n        <br/>\\n        Alba Microwave\\n        <br/>\\n        <br/>\\n        <br/>\\n        Chart Table\\n        <br/>\\n        <br/>\\n        <br/>\\n        <br/>\\n        Separate Navigation station aft of the galley\\n        <br/>\\n        <br/>\\n        <br/>\\n        Forward cabin\\n        <br/>\\n        <br/>\\n        <br/>\\n        <br/>\\n        Forward double cabin\\n        <br/>\\n        <br/>\\n        <br/>\\n        V-berth with infill\\n        <br/>\\n        <br/>\\n        <br/>\\n        Storage cupboards above berths\\n        <br/>\\n        <br/>\\n        <br/>\\n        Under bunk stowage\\n        <br/>\\n        <br/>\\n        <br/>\\n        Aft Cabin\\n        <br/>\\n        <br/>\\n        <br/>\\n        <br/>\\n        Double aft cabin\\n        <br/>\\n        <br/>\\n        <br/>\\n        Under bunk stowage\\n        <br/>\\n        <br/>\\n        <br/>\\n        Forward Heads\\n        <br/>\\n        <br/>\\n        <br/>\\n        <br/>\\n        Jabsco electric toilet unit\\n        <br/>\\n        <br/>\\n        <br/>\\n        Sink unit with shower head-tap\\n        <br/>\\n        <br/>\\n        <br/>\\n        Aft Heads\\n        <br/>\\n        <br/>\\n        <br/>\\n        Jabasco manual toilet\\n        <br/>\\n        <br/>\\n        <br/>\\n        Washbasin\\n        <br/>\\n        <br/>\\n        <br/>\\n        Wood lined through-out\\n        <br/>\\n        <br/>\\n        <br/>\\n        <br/>\\n        Inventory\\n        <br/>\\n        <br/>\\n        <br/>\\n        <br/>\\n        Navigation\\n        <br/>\\n        <br/>\\n        <br/>\\n        <br/>\\n        Plastimo contest 130 compass\\n        <br/>\\n        <br/>\\n        <br/>\\n        M6 Saloon Compass inside helm\\n        <br/>\\n        <br/>\\n        <br/>\\n        Koden MD3404 Radar\\n        <br/>\\n        <br/>\\n        <br/>\\n        Shipmate RS 1800\\n        <br/>\\n        <br/>\\n        <br/>\\n        VHF Shipmate 8100\\n        <br/>\\n        <br/>\\n        <br/>\\n        Corus wheelpilot WP300cx\\n        <br/>\\n        <br/>\\n        <br/>\\n        GPS Garmin Map 750\\n        <br/>\\n        <br/>\\n        <br/>\\n        Navico Cory\\'s handset\\n        <br/>\\n        <br/>\\n        <br/>\\n        Wheel pilot\\n        <br/>\\n        <br/>\\n        <br/>\\n        Silva Mag Compass\\n        <br/>\\n        <br/>\\n        <br/>\\n        Autohelm ST30 S/0/W\\n        <br/>\\n        <br/>\\n        <br/>\\n        Echopolot FLS Silver II\\n        <br/>\\n        <br/>\\n        <br/>\\n        Forward looking sonar\\n        <br/>\\n        <br/>\\n        <br/>\\n        General\\n        <br/>\\n        <br/>\\n        <br/>\\n        <br/>\\n        Canvas Work\\n        <br/>\\n        <br/>\\n        <br/>\\n        <br/>\\n        Blue canvas sprayhood with PVC windows\\n        <br/>\\n        <br/>\\n        <br/>\\n        Blue canvas stack-pack\\n        <br/>\\n        <br/>\\n        <br/>\\n        Blue canvas fully enclosed cockpit tent\\n        <br/>\\n        <br/>\\n        <br/>\\n        Safety Equipment\\n        <br/>\\n        <br/>\\n        <br/>\\n        <br/>\\n        3 x automatic fire extinguishers\\n        <br/>\\n        <br/>\\n        <br/>\\n        1 x 1kg powder fire extinguisher in saloon\\n        <br/>\\n        <br/>\\n        <br/>\\n        Offshore flare pack\\n        <br/>\\n        <br/>\\n        <br/>\\n        Gusher 10 manual bilge pump\\n        <br/>\\n        <br/>\\n        <br/>\\n        Seago6 man life-raft\\n        <br/>\\n        <br/>\\n        <br/>\\n        Entertainment\\n        <br/>\\n        <br/>\\n        <br/>\\n        <br/>\\n        Grundig McD10 CD player\\n        <br/>\\n        <br/>\\n        <br/>\\n        Masthead VHF/TV aerial\\n        <br/>\\n        <br/>\\n        <br/>\\n        Samsung TV\\n        <br/>\\n        <br/>\\n        <br/>\\n        <br/>\\n        Resent Service History\\n        <br/>\\n        <br/>\\n        <br/>\\n        <br/>\\n        Work carried out 2018/19 Hull epoxied 2 coats Jotun - Antifoul 2 coats Hempel\\n        <br/>\\n        <br/>\\n        <br/>\\n        New anodes .\\n        <br/>\\n        <br/>\\n        <br/>\\n        Re Step Mast - New Forestay/ Prosail C320 / Halyard -\\n        <br/>\\n        <br/>\\n        <br/>\\n        Domestic water system pipes Shurflo pump - accumulater tank,\\n        <br/>\\n        <br/>\\n        <br/>\\n        Electrics 4 Banner Batteries, New charger ,New Ardverc system ,\\n        <br/>\\n        <br/>\\n        <br/>\\n        Carpet’s and curtains replaced .\\n        <br/>\\n        <br/>\\n        <br/>\\n        Work 2022\\n        <br/>\\n        <br/>\\n        <br/>\\n        Cockpit Morse controls and cables removed / replacements fitted, all mast head items replaced aerials VHF - TV - Tri colour\\n        <br/>\\n        <br/>\\n        <br/>\\n        <br/>\\n        Features\\n        <br/>\\n        <br/>\\n        <br/>\\n        <br/>\\n        <br/>\\n        - Electric head\\n        <br/>\\n        <br/>\\n        - Liferaft\\n        <br/>\\n        <br/>\\n        - Solar panel\\n        <br/>\\n        <br/>\\n        - Cd player\\n        <br/>\\n        <br/>\\n        - Swimming ladder\\n        <br/>\\n        <br/>\\n        - Spinnaker\\n        <br/>\\n        <br/>\\n        - Teak cockpit\\n        <br/>\\n        <br/>\\n        - Steering wheel\\n        <br/>\\n        <br/>\\n        - Lazy bag\\n        <br/>\\n        <br/>\\n        - Radar\\n        <br/>\\n        <br/>\\n        - Plotter\\n        <br/>\\n        <br/>\\n        - Compass\\n        <br/>\\n        <br/>\\n        - Navigation center\\n        <br/>\\n        <br/>\\n        - Battery charger\\n        <br/>\\n        <br/>\\n        - Battened mainsail\\n        <br/>\\n        <br/>\\n        - Oven\\n        <br/>\\n        <br/>\\n        - Spinnaker pole\\n        <br/>\\n        <br/>\\n        - Cockpit table\\n        <br/>\\n        <br/>\\n        - Autopilot\\n        <br/>\\n        <br/>\\n        - Marine head\\n        <br/>\\n        <br/>\\n        - Radio\\n        <br/>\\n        <br/>\\n        - Vhf\\n        <br/>\\n        <br/>\\n        - Bow thruster\\n        <br/>\\n        <br/>\\n        - Log speedometer\\n        <br/>\\n        <br/>\\n        - Hot water\\n        <br/>\\n        <br/>\\n        - Gps\\n        <br/>\\n        <br/>\\n        - Depthsounder\\n        <br/>\\n        <br/>\\n        - Tv set\\n        <br/>\\n        <br/>\\n        - Lazyjacks\\n        <br/>\\n        <br/>\\n        - Manual bilge pump\\n        <br/>\\n        <br/>\\n        - Microwave oven\\n        <br/>\\n        <br/>\\n        - Refrigerator\\n        <br/>\\n        <br/>\\n        - Heating\\n        <br/>\\n        <br/>\\n        - Shore power inlet\\n        <br/>\\n        <br/>\\n        - Wind speed and direction\\n        <br/>\\n        <br/>\\n        - Spray hood\\n        <br/>\\n        <br/>\\n        - Furling genoa\\n        <br/>\\n        <br/>\\n        <br/>\\n        In this case we are acting as brokers only.\\xa0 The Vendor is not selling in the course of a business.\\xa0 Whilst every care has been taken in their preparation, the correctness of these particulars is not guaranteed.\\xa0 The particulars are intended only as a guide and they do not constitute a term of any contract.\\xa0 A prospective buyer is strongly advised to check the particulars and where appropriate at his own expense to employ a qualified Marine Surveyor to carry out a survey and / or to have an engine trial conducted, which if carried out by us shall not imply any liability for such engine on our part.\\n        <br/>\\n        <br/>\\n        <br/>\\n        <br/>\\n        <br/>\\n        <br/>\\n        Note to seller and purchaser:\\xa0 If the boat you are selling or purchasing is registered, please ensure that the registration is completed after the sale of the boat.\\xa0 If the purchaser wishes to cancel the registration is the duty of the seller to contact the Registry and inform them that the registration is to be cancelled.\\xa0 If the purchaser wishes to continue with the registration, it is the duty of the purchaser to complete the relevant forms and post off the bill of sale to the Registrar.\\n        <br/>\\n        <br/>\\n        <br/>\\n       </p>\\n      </div>\\n      <div class=\"_featureSection cp\">\\n       <h3>\\n        Specifications\\n       </h3>\\n       <table class=\"featureSpecifications\">\\n        <tr class=\"featureSpecLine\">\\n         <td class=\"featureSpecLabel\">\\n          Builder:\\n         </td>\\n         <td class=\"featureSpecData\">\\n          Mascot\\n         </td>\\n        </tr>\\n        <tr class=\"featureSpecLine\">\\n         <td class=\"featureSpecLabel\">\\n          Make:\\n         </td>\\n         <td class=\"featureSpecData\">\\n          Mascot\\n         </td>\\n        </tr>\\n        <tr class=\"featureSpecLine\">\\n         <td class=\"featureSpecLabel\">\\n          Model:\\n         </td>\\n         <td class=\"featureSpecData\">\\n          35 DS\\n         </td>\\n        </tr>\\n        <tr class=\"featureSpecLine\">\\n         <td class=\"featureSpecLabel\">\\n          Constructed:\\n         </td>\\n         <td class=\"featureSpecData\">\\n          1992\\n         </td>\\n        </tr>\\n        <tr class=\"featureSpecLine\">\\n         <td class=\"featureSpecLabel\">\\n          Berths:\\n         </td>\\n         <td class=\"featureSpecData\">\\n          6\\n         </td>\\n        </tr>\\n        <tr class=\"featureSpecLine\">\\n         <td class=\"featureSpecLabel\">\\n          Cabins:\\n         </td>\\n         <td class=\"featureSpecData\">\\n          2\\n         </td>\\n        </tr>\\n        <tr class=\"featureSpecLine\">\\n         <td class=\"featureSpecLabel\">\\n          No. of engines:\\n         </td>\\n         <td class=\"featureSpecData\">\\n          1\\n         </td>\\n        </tr>\\n        <tr class=\"featureSpecLine\">\\n         <td class=\"featureSpecLabel\">\\n          Engine model:\\n         </td>\\n         <td class=\"featureSpecData\">\\n          1 x Volvo Penta  2003T\\n         </td>\\n        </tr>\\n        <tr class=\"featureSpecLine\">\\n         <td class=\"featureSpecLabel\">\\n          Engine power:\\n         </td>\\n         <td class=\"featureSpecData\">\\n          43\\n         </td>\\n        </tr>\\n        <tr class=\"featureSpecLine\">\\n         <td class=\"featureSpecLabel\">\\n          Engine hours:\\n         </td>\\n         <td class=\"featureSpecData\">\\n          1785\\n         </td>\\n        </tr>\\n        <tr class=\"featureSpecLine\">\\n         <td class=\"featureSpecLabel\">\\n          Fuel type:\\n         </td>\\n         <td class=\"featureSpecData\">\\n          Diesel\\n         </td>\\n        </tr>\\n        <tr class=\"featureSpecLine\">\\n         <td class=\"featureSpecLabel\">\\n          Drive type:\\n         </td>\\n         <td class=\"featureSpecData\">\\n          Other\\n         </td>\\n        </tr>\\n        <tr class=\"featureSpecLine\">\\n         <td class=\"featureSpecLabel\">\\n          Length over all:\\n         </td>\\n         <td class=\"featureSpecData\">\\n          11.300m\\n         </td>\\n        </tr>\\n        <tr class=\"featureSpecLine\">\\n         <td class=\"featureSpecLabel\">\\n          Length at waterline:\\n         </td>\\n         <td class=\"featureSpecData\">\\n          9.100m\\n         </td>\\n        </tr>\\n        <tr class=\"featureSpecLine\">\\n         <td class=\"featureSpecLabel\">\\n          Beam:\\n         </td>\\n         <td class=\"featureSpecData\">\\n          3.400m\\n         </td>\\n        </tr>\\n        <tr class=\"featureSpecLine\">\\n         <td class=\"featureSpecLabel\">\\n          Maximum draft:\\n         </td>\\n         <td class=\"featureSpecData\">\\n          1.600m\\n         </td>\\n        </tr>\\n        <tr class=\"featureSpecLine\">\\n         <td class=\"featureSpecLabel\">\\n          Hull material:\\n         </td>\\n         <td class=\"featureSpecData\">\\n          Other\\n         </td>\\n        </tr>\\n        <tr class=\"featureSpecLine\">\\n         <td class=\"featureSpecLabel\">\\n          Hull type:\\n         </td>\\n         <td class=\"featureSpecData\">\\n          Other\\n         </td>\\n        </tr>\\n        <tr class=\"featureSpecLine\">\\n         <td class=\"featureSpecLabel\">\\n          Keel type:\\n         </td>\\n         <td class=\"featureSpecData\">\\n          Fin Keel\\n         </td>\\n        </tr>\\n        <tr class=\"featureSpecLine\">\\n         <td class=\"featureSpecLabel\">\\n          Displacement:\\n         </td>\\n         <td class=\"featureSpecData\">\\n          6500 kg\\n         </td>\\n        </tr>\\n        <tr class=\"featureSpecLine\">\\n         <td class=\"featureSpecLabel\">\\n          Fuel capacity:\\n         </td>\\n         <td class=\"featureSpecData\">\\n          250 Litres\\n         </td>\\n        </tr>\\n       </table>\\n      </div>\\n      <div class=\"_featureSection cp\">\\n       <div class=\"_featureImages\">\\n        <div class=\"_featureImage\">\\n         <a href=\"/boat/mascot-35-ds-for-sale/716638/7297786\">\\n          <picture>\\n           <source srcset=\"https://ics.apolloduck.com/6gIfmvmOVvHZ7eo82_7NMm3oUuU=/290x218/filters:format(webp)/irs/image_bin/x/7297786.jpg\" type=\"image/webp\"/>\\n           <source srcset=\"https://ics.apolloduck.com/SM7Xua0ZzLInF4aaexeWzuHpekE=/290x218/irs/image_bin/x/7297786.jpg\" type=\"image/jpeg\"/>\\n           <img alt=\"\" height=\"218\" loading=\"lazy\" src=\"https://ics.apolloduck.com/SM7Xua0ZzLInF4aaexeWzuHpekE=/290x218/irs/image_bin/x/7297786.jpg\" width=\"290\"/>\\n          </picture>\\n         </a>\\n         <br/>\\n        </div>\\n        <div class=\"_featureImage\">\\n         <a href=\"/boat/mascot-35-ds-for-sale/716638/7297769\">\\n          <picture>\\n           <source srcset=\"https://ics.apolloduck.com/rtl9ZGXE5b3_9LpbbedlMTYgQEg=/290x218/filters:format(webp)/irs/image_bin/x/7297769.jpg\" type=\"image/webp\"/>\\n           <source srcset=\"https://ics.apolloduck.com/OCBFfLnN42HNoSFvGd73agshS2k=/290x218/irs/image_bin/x/7297769.jpg\" type=\"image/jpeg\"/>\\n           <img alt=\"\" height=\"218\" loading=\"lazy\" src=\"https://ics.apolloduck.com/OCBFfLnN42HNoSFvGd73agshS2k=/290x218/irs/image_bin/x/7297769.jpg\" width=\"290\"/>\\n          </picture>\\n         </a>\\n         <br/>\\n        </div>\\n        <div class=\"_featureImage\">\\n         <a href=\"/boat/mascot-35-ds-for-sale/716638/7297770\">\\n          <picture>\\n           <source srcset=\"https://ics.apolloduck.com/FZoHT9paT3eJXADUpeSfCqxFn8U=/290x218/filters:format(webp)/irs/image_bin/x/7297770.jpg\" type=\"image/webp\"/>\\n           <source srcset=\"https://ics.apolloduck.com/IhlssRMqAtcnhAAhhh1Hca17deE=/290x218/irs/image_bin/x/7297770.jpg\" type=\"image/jpeg\"/>\\n           <img alt=\"\" height=\"218\" loading=\"lazy\" src=\"https://ics.apolloduck.com/IhlssRMqAtcnhAAhhh1Hca17deE=/290x218/irs/image_bin/x/7297770.jpg\" width=\"290\"/>\\n          </picture>\\n         </a>\\n         <br/>\\n        </div>\\n        <div class=\"_featureImage\">\\n         <a href=\"/boat/mascot-35-ds-for-sale/716638/7297771\">\\n          <picture>\\n           <source srcset=\"https://ics.apolloduck.com/lGXC85SZDXDsrQqX8DiewyC1bMI=/290x218/filters:format(webp)/irs/image_bin/x/7297771.jpg\" type=\"image/webp\"/>\\n           <source srcset=\"https://ics.apolloduck.com/CYEXJUbxnl_2klmzbBtcElgA2c4=/290x218/irs/image_bin/x/7297771.jpg\" type=\"image/jpeg\"/>\\n           <img alt=\"\" height=\"218\" loading=\"lazy\" src=\"https://ics.apolloduck.com/CYEXJUbxnl_2klmzbBtcElgA2c4=/290x218/irs/image_bin/x/7297771.jpg\" width=\"290\"/>\\n          </picture>\\n         </a>\\n         <br/>\\n        </div>\\n        <div class=\"_featureImage\">\\n         <a href=\"/boat/mascot-35-ds-for-sale/716638/7297772\">\\n          <picture>\\n           <source srcset=\"https://ics.apolloduck.com/KM4euhhpRkEfRC0ZoCp3IUEYug8=/290x218/filters:format(webp)/irs/image_bin/x/7297772.jpg\" type=\"image/webp\"/>\\n           <source srcset=\"https://ics.apolloduck.com/FcoSxf-PyYAeJMsbs6q5Q78Mb54=/290x218/irs/image_bin/x/7297772.jpg\" type=\"image/jpeg\"/>\\n           <img alt=\"\" height=\"218\" loading=\"lazy\" src=\"https://ics.apolloduck.com/FcoSxf-PyYAeJMsbs6q5Q78Mb54=/290x218/irs/image_bin/x/7297772.jpg\" width=\"290\"/>\\n          </picture>\\n         </a>\\n         <br/>\\n        </div>\\n        <div class=\"_featureImage\">\\n         <a href=\"/boat/mascot-35-ds-for-sale/716638/7297773\">\\n          <picture>\\n           <source srcset=\"https://ics.apolloduck.com/eIKb2Rmqw8qKVBo23jE3zpzFOPQ=/290x218/filters:format(webp)/irs/image_bin/x/7297773.jpg\" type=\"image/webp\"/>\\n           <source srcset=\"https://ics.apolloduck.com/kKAA1FHACoM3LGRrflTRA0-mwYo=/290x218/irs/image_bin/x/7297773.jpg\" type=\"image/jpeg\"/>\\n           <img alt=\"\" height=\"218\" loading=\"lazy\" src=\"https://ics.apolloduck.com/kKAA1FHACoM3LGRrflTRA0-mwYo=/290x218/irs/image_bin/x/7297773.jpg\" width=\"290\"/>\\n          </picture>\\n         </a>\\n         <br/>\\n        </div>\\n        <div class=\"_featureImage\">\\n         <a href=\"/boat/mascot-35-ds-for-sale/716638/7297774\">\\n          <picture>\\n           <source srcset=\"https://ics.apolloduck.com/noLR4M5aCi0svzRFrRtKu7tTVdA=/290x218/filters:format(webp)/irs/image_bin/x/7297774.jpg\" type=\"image/webp\"/>\\n           <source srcset=\"https://ics.apolloduck.com/F6ukA3C31A6umEcgKNkl2JaybcE=/290x218/irs/image_bin/x/7297774.jpg\" type=\"image/jpeg\"/>\\n           <img alt=\"\" height=\"218\" loading=\"lazy\" src=\"https://ics.apolloduck.com/F6ukA3C31A6umEcgKNkl2JaybcE=/290x218/irs/image_bin/x/7297774.jpg\" width=\"290\"/>\\n          </picture>\\n         </a>\\n         <br/>\\n        </div>\\n        <div class=\"_featureImage\">\\n         <a href=\"/boat/mascot-35-ds-for-sale/716638/7297775\">\\n          <picture>\\n           <source srcset=\"https://ics.apolloduck.com/AVsWKgP6xXiXk1Avc3uAqLj3tvA=/290x218/filters:format(webp)/irs/image_bin/x/7297775.jpg\" type=\"image/webp\"/>\\n           <source srcset=\"https://ics.apolloduck.com/mkTIwuckXGGIDaFWy0Nzitve68I=/290x218/irs/image_bin/x/7297775.jpg\" type=\"image/jpeg\"/>\\n           <img alt=\"\" height=\"218\" loading=\"lazy\" src=\"https://ics.apolloduck.com/mkTIwuckXGGIDaFWy0Nzitve68I=/290x218/irs/image_bin/x/7297775.jpg\" width=\"290\"/>\\n          </picture>\\n         </a>\\n         <br/>\\n        </div>\\n        <div class=\"_featureImage\">\\n         <a href=\"/boat/mascot-35-ds-for-sale/716638/7297776\">\\n          <picture>\\n           <source srcset=\"https://ics.apolloduck.com/Amn2zZXIX1DtgHxloSiLFdnbAkk=/290x218/filters:format(webp)/irs/image_bin/x/7297776.jpg\" type=\"image/webp\"/>\\n           <source srcset=\"https://ics.apolloduck.com/ucVGW5cK-IOxPQJi6sXUKnXoIyM=/290x218/irs/image_bin/x/7297776.jpg\" type=\"image/jpeg\"/>\\n           <img alt=\"\" height=\"218\" loading=\"lazy\" src=\"https://ics.apolloduck.com/ucVGW5cK-IOxPQJi6sXUKnXoIyM=/290x218/irs/image_bin/x/7297776.jpg\" width=\"290\"/>\\n          </picture>\\n         </a>\\n         <br/>\\n        </div>\\n        <div class=\"_featureImage\">\\n         <a href=\"/boat/mascot-35-ds-for-sale/716638/7297777\">\\n          <picture>\\n           <source srcset=\"https://ics.apolloduck.com/ICSDfbhJivl87aEUp0eeawisVcQ=/290x218/filters:format(webp)/irs/image_bin/x/7297777.jpg\" type=\"image/webp\"/>\\n           <source srcset=\"https://ics.apolloduck.com/vIhV3UQE1Lih6OcOIrKovbVW9QU=/290x218/irs/image_bin/x/7297777.jpg\" type=\"image/jpeg\"/>\\n           <img alt=\"\" height=\"218\" loading=\"lazy\" src=\"https://ics.apolloduck.com/vIhV3UQE1Lih6OcOIrKovbVW9QU=/290x218/irs/image_bin/x/7297777.jpg\" width=\"290\"/>\\n          </picture>\\n         </a>\\n         <br/>\\n        </div>\\n        <div class=\"_featureImage\">\\n         <a href=\"/boat/mascot-35-ds-for-sale/716638/7297778\">\\n          <picture>\\n           <source srcset=\"https://ics.apolloduck.com/4hikPiLHU6-g0UHKhXoTOq-Xs-I=/290x218/filters:format(webp)/irs/image_bin/x/7297778.jpg\" type=\"image/webp\"/>\\n           <source srcset=\"https://ics.apolloduck.com/I5pf7YZrGrXHvD6ULCaR_JTXPM8=/290x218/irs/image_bin/x/7297778.jpg\" type=\"image/jpeg\"/>\\n           <img alt=\"\" height=\"218\" loading=\"lazy\" src=\"https://ics.apolloduck.com/I5pf7YZrGrXHvD6ULCaR_JTXPM8=/290x218/irs/image_bin/x/7297778.jpg\" width=\"290\"/>\\n          </picture>\\n         </a>\\n         <br/>\\n        </div>\\n        <div class=\"_featureImage\">\\n         <a href=\"/boat/mascot-35-ds-for-sale/716638/7297779\">\\n          <picture>\\n           <source srcset=\"https://ics.apolloduck.com/8Tu-qJxgay0X30cYxzJUZY4bDhU=/290x218/filters:format(webp)/irs/image_bin/x/7297779.jpg\" type=\"image/webp\"/>\\n           <source srcset=\"https://ics.apolloduck.com/WE0d4VJclVdO_7iocV-jrKH5Qsg=/290x218/irs/image_bin/x/7297779.jpg\" type=\"image/jpeg\"/>\\n           <img alt=\"\" height=\"218\" loading=\"lazy\" src=\"https://ics.apolloduck.com/WE0d4VJclVdO_7iocV-jrKH5Qsg=/290x218/irs/image_bin/x/7297779.jpg\" width=\"290\"/>\\n          </picture>\\n         </a>\\n         <br/>\\n        </div>\\n        <div class=\"_featureImage\">\\n         <a href=\"/boat/mascot-35-ds-for-sale/716638/7297780\">\\n          <picture>\\n           <source srcset=\"https://ics.apolloduck.com/HBu9yA-CWPeQQT56HGxZvSWG460=/290x218/filters:format(webp)/irs/image_bin/x/7297780.jpg\" type=\"image/webp\"/>\\n           <source srcset=\"https://ics.apolloduck.com/_rm782HigG7vSPozjAx-o_e1Hro=/290x218/irs/image_bin/x/7297780.jpg\" type=\"image/jpeg\"/>\\n           <img alt=\"\" height=\"218\" loading=\"lazy\" src=\"https://ics.apolloduck.com/_rm782HigG7vSPozjAx-o_e1Hro=/290x218/irs/image_bin/x/7297780.jpg\" width=\"290\"/>\\n          </picture>\\n         </a>\\n         <br/>\\n        </div>\\n        <div class=\"_featureImage\">\\n         <a href=\"/boat/mascot-35-ds-for-sale/716638/7297781\">\\n          <picture>\\n           <source srcset=\"https://ics.apolloduck.com/TOjXk1sAJhAcHmNqzqiRXYXss08=/290x218/filters:format(webp)/irs/image_bin/x/7297781.jpg\" type=\"image/webp\"/>\\n           <source srcset=\"https://ics.apolloduck.com/k3iN3ImjUoRLWMSxmxtJpy6h_ho=/290x218/irs/image_bin/x/7297781.jpg\" type=\"image/jpeg\"/>\\n           <img alt=\"\" height=\"218\" loading=\"lazy\" src=\"https://ics.apolloduck.com/k3iN3ImjUoRLWMSxmxtJpy6h_ho=/290x218/irs/image_bin/x/7297781.jpg\" width=\"290\"/>\\n          </picture>\\n         </a>\\n         <br/>\\n        </div>\\n        <div class=\"_featureImage\">\\n         <a href=\"/boat/mascot-35-ds-for-sale/716638/7297782\">\\n          <picture>\\n           <source srcset=\"https://ics.apolloduck.com/Y_f0GwwHQ_01yFzrx9d67fIt_PY=/290x387/filters:format(webp)/irs/image_bin/x/7297782.jpg\" type=\"image/webp\"/>\\n           <source srcset=\"https://ics.apolloduck.com/r8KVy04fq_undGWlFoF9K8dA7Zs=/290x387/irs/image_bin/x/7297782.jpg\" type=\"image/jpeg\"/>\\n           <img alt=\"\" height=\"387\" loading=\"lazy\" src=\"https://ics.apolloduck.com/r8KVy04fq_undGWlFoF9K8dA7Zs=/290x387/irs/image_bin/x/7297782.jpg\" width=\"290\"/>\\n          </picture>\\n         </a>\\n         <br/>\\n        </div>\\n        <div class=\"_featureImage\">\\n         <a href=\"/boat/mascot-35-ds-for-sale/716638/7297783\">\\n          <picture>\\n           <source srcset=\"https://ics.apolloduck.com/rCS8ykt9AAcf13M7IlU1x7dEZuI=/290x218/filters:format(webp)/irs/image_bin/x/7297783.jpg\" type=\"image/webp\"/>\\n           <source srcset=\"https://ics.apolloduck.com/n7W1SKR-EGGNuV7FsqlEQIM2tGw=/290x218/irs/image_bin/x/7297783.jpg\" type=\"image/jpeg\"/>\\n           <img alt=\"\" height=\"218\" loading=\"lazy\" src=\"https://ics.apolloduck.com/n7W1SKR-EGGNuV7FsqlEQIM2tGw=/290x218/irs/image_bin/x/7297783.jpg\" width=\"290\"/>\\n          </picture>\\n         </a>\\n         <br/>\\n        </div>\\n        <div class=\"_featureImage\">\\n         <a href=\"/boat/mascot-35-ds-for-sale/716638/7297784\">\\n          <picture>\\n           <source srcset=\"https://ics.apolloduck.com/N5fDmEnaZ9M74cwVuKv3rZleOwo=/290x387/filters:format(webp)/irs/image_bin/x/7297784.jpg\" type=\"image/webp\"/>\\n           <source srcset=\"https://ics.apolloduck.com/8wZdZ0EmvEHn54ZrVNprbSgUvTY=/290x387/irs/image_bin/x/7297784.jpg\" type=\"image/jpeg\"/>\\n           <img alt=\"\" height=\"387\" loading=\"lazy\" src=\"https://ics.apolloduck.com/8wZdZ0EmvEHn54ZrVNprbSgUvTY=/290x387/irs/image_bin/x/7297784.jpg\" width=\"290\"/>\\n          </picture>\\n         </a>\\n         <br/>\\n        </div>\\n        <div class=\"_featureImage\">\\n         <a href=\"/boat/mascot-35-ds-for-sale/716638/7297785\">\\n          <picture>\\n           <source srcset=\"https://ics.apolloduck.com/02AnqSMcMwgnZ2IXJN0C7_9EFts=/290x218/filters:format(webp)/irs/image_bin/x/7297785.jpg\" type=\"image/webp\"/>\\n           <source srcset=\"https://ics.apolloduck.com/L4dhbZKY9SK9iltlILxvp48_ar8=/290x218/irs/image_bin/x/7297785.jpg\" type=\"image/jpeg\"/>\\n           <img alt=\"\" height=\"218\" loading=\"lazy\" src=\"https://ics.apolloduck.com/L4dhbZKY9SK9iltlILxvp48_ar8=/290x218/irs/image_bin/x/7297785.jpg\" width=\"290\"/>\\n          </picture>\\n         </a>\\n         <br/>\\n        </div>\\n       </div>\\n      </div>\\n      <br/>\\n      <div class=\"PanelFoot\">\\n       <div class=\"PanelAdID sp\">\\n        ID: 716638\\n       </div>\\n       <div class=\"PanelAdTime sp\">\\n        2023-05-10 15:05:03\\n       </div>\\n       <div class=\"PanelAdWatch sp\">\\n        <a href=\"javascript:watch(\\'716638\\')\">\\n         Watch this Advert\\n        </a>\\n       </div>\\n      </div>\\n     </div>\\n     <br/>\\n     <br/>\\n     <br/>\\n     <br/>\\n     <div>\\n      <script async=\"\" src=\"https://pagead2.googlesyndication.com/pagead/js/adsbygoogle.js\">\\n      </script>\\n      <ins class=\"adsbygoogle\" data-ad-client=\"ca-pub-0772979757688407\" data-ad-format=\"auto\" data-ad-region=\"test\" data-ad-slot=\"2938524031\" style=\"display:block\">\\n      </ins>\\n      <script>\\n       (adsbygoogle = window.adsbygoogle || []).push({});\\n      </script>\\n     </div>\\n     <script type=\"text/javascript\">\\n      $(function () {\\n        $(\"a#insuranceButton\").click(function () {\\n            $(\"div#insurance\").show(\"blind\", 300);\\n            $(\"div#transport\").hide(\"blind\", 300);\\n            $(\"div#finance\").hide(\"blind\", 300);\\n            $(\"div#survey\").hide(\"blind\", 300);\\n            $(\"div#warranty\").hide(\"blind\", 300);\\n            $.get(\"/js/b.phtml\", {\\n                b: \\'YToxOntpOjA7aToxNjk7fQ==\\',\\n                aid: 716638});\\n        });\\n    });\\n    $(function () {\\n        $(\"a#transportButton\").click(function () {\\n            $(\"div#insurance\").hide(\"blind\", 300);\\n            $(\"div#transport\").show(\"blind\", 300);\\n            $(\"div#finance\").hide(\"blind\", 300);\\n            $(\"div#survey\").hide(\"blind\", 300);\\n            $(\"div#warranty\").hide(\"blind\", 300);\\n            $.get(\"/js/b.phtml\", {\\n                b: \\'YTowOnt9\\',\\n                aid: 716638});\\n        });\\n    });\\n    $(function () {\\n        $(\"a#financeButton\").click(function () {\\n            $(\"div#insurance\").hide(\"blind\", 300);\\n            $(\"div#transport\").hide(\"blind\", 300);\\n            $(\"div#finance\").show(\"blind\", 300);\\n            $(\"div#survey\").hide(\"blind\", 300);\\n            $(\"div#warranty\").hide(\"blind\", 300);\\n            $.get(\"/js/b.phtml\", {\\n                b: \\'YToxOntpOjA7aToyODU7fQ==\\',\\n                aid: 716638});\\n        });\\n    });\\n    $(function () {\\n        $(\"a#surveyButton\").click(function () {\\n            $(\"div#insurance\").hide(\"blind\", 300);\\n            $(\"div#transport\").hide(\"blind\", 300);\\n            $(\"div#finance\").hide(\"blind\", 300);\\n            $(\"div#survey\").show(\"blind\", 300);\\n            $(\"div#warranty\").hide(\"blind\", 300);\\n            $.get(\"/js/b.phtml\", {\\n                b: \\'YTowOnt9\\',\\n                aid: 716638});\\n        });\\n    });\\n    \\n    $(function () {\\n        $(\"a#closeService\").click(function () {\\n            $(\"div#insurance\").hide(\"blind\", 300);\\n            $(\"div#transport\").hide(\"blind\", 300);\\n            $(\"div#finance\").hide(\"blind\", 300);\\n            $(\"div#survey\").hide(\"blind\", 300);\\n            $(\"div#warranty\").hide(\"blind\", 300);\\n        });\\n    });\\n     </script>\\n     <script>\\n      var mySwiper = new Swiper(\\'.swiper-container\\', {\\n        // Disable preloading of all images\\n        preloadImages: false,\\n        // Enable lazy loading\\n        lazyLoading: true,\\n        lazyLoadingInPrevNext: true,\\n        lazyLoadingOnTransitionStart: true,\\n        // Optional parameters\\n        direction: \\'horizontal\\',\\n        loop: true,\\n        // If we need pagination\\n        pagination: \\'.swiper-pagination\\',\\n        // Navigation arrows\\n        nextButton: \\'.swiper-button-next\\',\\n        prevButton: \\'.swiper-button-prev\\'\\n    });\\n     </script>\\n     <script>\\n      function updateCount() {\\n            var cs = $(this).val().length;\\n            $(\\'#charCounter\\').text(cs);\\n        }\\n\\n        $(\\'#contactMessage\\').on(\\'input\\', updateCount);\\n        $(\"#contactSubmit\").click(function () {\\n            error = 0;\\n            if (!$(\"#contactName\").val()) {\\n                $(\"#nameNotice\").text(\"Your Name is Required\");\\n                error = 1;\\n            } else {\\n                $(\"#nameNotice\").text(\"\");\\n            }\\n            if (!$(\"#contactEmail\").val()) {\\n                $(\"#emailNotice\").text(\"Email Address Required\");\\n                error = 1;\\n            } else {\\n                $(\"#emailNotice\").text(\"\");\\n            }\\n            if (!$(\"#contactPhone\").val()) {\\n                $(\"#phoneNotice\").text(\"Telephone Number Required\");\\n                error = 1;\\n            } else {\\n                $(\"#phoneNotice\").text(\"\");\\n            }\\n            if (!$(\"#contactMessage\").val()) {\\n                $(\"#messageNotice\").text(\"Message Required\");\\n                error = 1;\\n            } else {\\n                $(\"#messageNotice\").text(\"\");\\n            }\\n            if (error == 0) {\\n\\n                var opts = {\\n                    lines: 13 // The number of lines to draw\\n                    , length: 14 // The length of each line\\n                    , width: 7 // The line thickness\\n                    , radius: 21 // The radius of the inner circle\\n                    , scale: 1 // Scales overall size of the spinner\\n                    , corners: 1 // Corner roundness (0..1)\\n                    , color: \\'#000\\' // #rgb or #rrggbb or array of colors\\n                    , opacity: 0.25 // Opacity of the lines\\n                    , rotate: 0 // The rotation offset\\n                    , direction: 1 // 1: clockwise, -1: counterclockwise\\n                    , speed: 1 // Rounds per second\\n                    , trail: 60 // Afterglow percentage\\n                    , fps: 20 // Frames per second when using setTimeout() as a fallback for CSS\\n                    , zIndex: 2e9 // The z-index (defaults to 2000000000)\\n                    , className: \\'spinner\\' // The CSS class to assign to the spinner\\n                    , top: \\'50%\\' // Top position relative to parent\\n                    , left: \\'50%\\' // Left position relative to parent\\n                    , shadow: false // Whether to render a shadow\\n                    , hwaccel: false // Whether to use hardware acceleration\\n                    , position: \\'relative\\' // Element positioning\\n                };\\n                var target = document.getElementById(\\'contactSending\\');\\n                var spinner = new Spinner(opts).spin(target);\\n\\n                $(\"#contactForm\").hide(\"blind\", 0);\\n                $(\"#contactSending\").show(\"blind\", 500);\\n                $.getJSON(\"/js/e.phtml\", {\\n                    send: \\'1\\',\\n                    eid: 716638,\\n                    name: $(\"#contactName\").val(),\\n                    email: $(\"#contactEmail\").val(),\\n                    phone: $(\"#contactPhone\").val(),\\n                    message: $(\"#contactMessage\").val()\\n                }).done(function (i) {\\n                    if (i.serviceAvailable == \"0\") {\\n                        $(\"#serviceNotice\").text(\"Service Unavailable\");\\n                    } else {\\n                        $(\"#serviceNotice\").text(\"\");\\n                    }\\n                    if (i.validRequest == \"0\") {\\n                        $(\"#serviceNotice\").text(\"Invalid Request\");\\n                    } else {\\n                        $(\"#serviceNotice\").text(\"\");\\n                    }\\n                    if (i.name == \"0\") {\\n                        $(\"#nameNotice\").text(\"Your Name is Required\");\\n                    } else {\\n                        $(\"#nameNotice\").text(\"\");\\n                    }\\n                    if (i.validEmail == \"0\") {\\n                        $(\"#validEmailNotice\").text(\"Invalid Email Address\");\\n                    } else {\\n                        $(\"#validEmailNotice\").text(\"\");\\n                    }\\n                    if (i.email == \"0\") {\\n                        $(\"#emailNotice\").text(\"Email Address Required\");\\n                    } else {\\n                        $(\"#emailNotice\").text(\"\");\\n                    }\\n                    if (i.phone == \"0\") {\\n                        $(\"#phoneNotice\").text(\"Telephone Number Required\");\\n                    } else {\\n                        $(\"#phoneNotice\").text(\"\");\\n                    }\\n                    if (i.validPhone == \"0\") {\\n                        $(\"#validPhoneNotice\").text(\"Invalid Phone Number Entered\");\\n                    } else {\\n                        $(\"#validPhoneNotice\").text(\"\");\\n                    }\\n                    if (i.messageText == \"0\") {\\n                        $(\"#messageNotice\").text(\"Message Required\");\\n                    } else {\\n                        $(\"#messageNotice\").text(\"\");\\n                    }\\n                    if (i.messageLength == \"0\") {\\n                        $(\"#validMessageNotice\").text(\"Message Text Too Long\");\\n                    } else {\\n                        $(\"#validMessageNotice\").text(\"\");\\n                    }\\n                    if (i.messageSent == \"1\") {\\n                        $(\"#serviceNotice\").text(\"Message Sent\");\\n                        $(\"#contactSending\").hide(\"blind\", 0);\\n                        $(\"#contactResult\").show(\"blind\", 500);\\n                        spinner.stop();\\n                    }\\n                })\\n            }\\n        });\\n     </script>\\n     <script>\\n      var t1 = \\'<img src=\"/js/t.phtml?tp=NzE2NjM4\" width=\"300\" height=\"14\" alt=\"\"/>\\';\\n        $(function () {\\n            $(\"a#rP1\").click(function () {\\n                $(\"a#rP1\").replaceWith(t1);\\n                $(\"#iP1\").css({\"background-color\": \"#f6f6f6\", \"color\": \"#000000\"});\\n            });\\n        });\\n     </script>\\n     <script>\\n      var t5 = \\'<img src=\"/js/t.phtml?tp5=NzE2NjM4&u=MTAxNQ==\" width=\"250\" height=\"14\" alt=\"\"/>\\';\\n        $(function () {\\n            $(\"a#rP2\").click(function () {\\n                $(\"a#rP2\").replaceWith(t5);\\n                $(\"#iP2\").css({\"background-color\": \"white\", \"color\": \"#000000\"});\\n            });\\n        });\\n     </script>\\n     <script>\\n      $(function () {\\n            $(\"select#fxMenu\").change(function () {\\n                $.get(\"/js/fx.phtml\", {aid: 716638, code: $(this).val()})\\n                    .done(function (conv) {\\n                        $(\"span#fxConversion\").text(window.atob(conv.fx));\\n                    })\\n            });\\n        });\\n     </script>\\n     <script>\\n      if (window.indexedDB) {\\n\\n        var request = window.indexedDB.open(\"ApolloDuck\");\\n\\n        request.onupgradeneeded = function () {\\n            var db = request.result;\\n            var store = db.createObjectStore(\"viewed\", {keyPath: \"aid\"});\\n            var userIndex = store.createIndex(\"by_aid\", \"aid\");\\n        };\\n\\n        request.onsuccess = function () {\\n            db = request.result;\\n            var tx = db.transaction(\"viewed\", \"readwrite\");\\n            var store = tx.objectStore(\"viewed\");\\n            store.put({aid: \\'716638\\', title: \\'1992 Mascot 35DS\\'});\\n        };\\n    }\\n     </script>\\n    </div>\\n    <div id=\"_rightSidebar\">\\n     <div class=\"eastSDFPPanel\">\\n      <div class=\"eastSDFPImage\">\\n       <a href=\"/boat/pegasus-700-for-sale/687659\">\\n        <picture>\\n         <source srcset=\"https://ics.apolloduck.com/Whw_w7sPJuroadmV3i56AkmZ0dM=/190x181/filters:format(webp)/irs/image_bin/x/7410333.jpg\" type=\"image/webp\">\\n          <source srcset=\"https://ics.apolloduck.com/2BzTyIqq66XdRx4lg__UEJCP1EY=/190x181/irs/image_bin/x/7410333.jpg\" type=\"image/jpeg\">\\n           <img alt=\"Pegasus 700  23\\' sailing cruiser \" height=\"181\" loading=\"lazy\" src=\"https://ics.apolloduck.com/2BzTyIqq66XdRx4lg__UEJCP1EY=/190x181/irs/image_bin/x/7410333.jpg\" width=\"190\"/>\\n          </source>\\n         </source>\\n        </picture>\\n       </a>\\n      </div>\\n      <div class=\"eastSDFPHead\">\\n       <a class=\"SidebarTitle\" href=\"/boat/pegasus-700-for-sale/687659\">\\n        Pegasus 700  23\\' Sail...\\n       </a>\\n      </div>\\n      <div class=\"eastSDFPFooter\">\\n       <a class=\"SidebarPrice\" href=\"/boat/pegasus-700-for-sale/687659\">\\n        £2,500\\n       </a>\\n      </div>\\n     </div>\\n     <div class=\"eastSDFPPanel\">\\n      <div class=\"eastSDFPImage\">\\n       <a href=\"/boat/beneteau-first-305-for-sale/730162\">\\n        <picture>\\n         <source srcset=\"https://ics.apolloduck.com/6VkvMJX7uz-Fpv_Vm9R7kfV8FRo=/190x143/filters:format(webp)/irs/image_bin/x/7398907.jpg\" type=\"image/webp\">\\n          <source srcset=\"https://ics.apolloduck.com/hDah34HhlXAAOVyGVNk5ZpG2h48=/190x143/irs/image_bin/x/7398907.jpg\" type=\"image/jpeg\">\\n           <img alt=\"BENETEAU First 305 - Top Condition.\" height=\"143\" loading=\"lazy\" src=\"https://ics.apolloduck.com/hDah34HhlXAAOVyGVNk5ZpG2h48=/190x143/irs/image_bin/x/7398907.jpg\" width=\"190\"/>\\n          </source>\\n         </source>\\n        </picture>\\n       </a>\\n      </div>\\n      <div class=\"eastSDFPHead\">\\n       <a class=\"SidebarTitle\" href=\"/boat/beneteau-first-305-for-sale/730162\">\\n        Beneteau First 305 - Top C...\\n       </a>\\n      </div>\\n      <div class=\"eastSDFPFooter\">\\n       <a class=\"SidebarPrice\" href=\"/boat/beneteau-first-305-for-sale/730162\">\\n        £36,000\\n       </a>\\n      </div>\\n     </div>\\n     <div class=\"eastSDFPPanel\">\\n      <div class=\"eastSDFPImage\">\\n       <a href=\"/boat/westerly-centaur-for-sale/730207\">\\n        <picture>\\n         <source srcset=\"https://ics.apolloduck.com/oa7PKODi-q5G-tJecdcC-ADwul0=/190x253/filters:format(webp)/irs/image_bin/x/7399280.jpg\" type=\"image/webp\">\\n          <source srcset=\"https://ics.apolloduck.com/kbr73WMaTNRcVNgaQnriDoQ9ll0=/190x253/irs/image_bin/x/7399280.jpg\" type=\"image/jpeg\">\\n           <img alt=\"Westerly Centaur\" height=\"253\" loading=\"lazy\" src=\"https://ics.apolloduck.com/kbr73WMaTNRcVNgaQnriDoQ9ll0=/190x253/irs/image_bin/x/7399280.jpg\" width=\"190\"/>\\n          </source>\\n         </source>\\n        </picture>\\n       </a>\\n      </div>\\n      <div class=\"eastSDFPHead\">\\n       <a class=\"SidebarTitle\" href=\"/boat/westerly-centaur-for-sale/730207\">\\n        Westerly Centaur\\n       </a>\\n      </div>\\n      <div class=\"eastSDFPFooter\">\\n       <a class=\"SidebarPrice\" href=\"/boat/westerly-centaur-for-sale/730207\">\\n        £4,500\\n       </a>\\n      </div>\\n     </div>\\n     <div class=\"eastSDFPPanel\">\\n      <div class=\"eastSDFPImage\">\\n       <a href=\"/boat/moody-31-mki-for-sale/730382\">\\n        <picture>\\n         <source srcset=\"https://ics.apolloduck.com/z5PeTyVvPPQv6yE7LRoFlgb1qtc=/190x127/filters:format(webp)/irs/image_bin/x/7404824.jpg\" type=\"image/webp\">\\n          <source srcset=\"https://ics.apolloduck.com/HGilHGzEvUt-6J_1ms7Kvc3IsVw=/190x127/irs/image_bin/x/7404824.jpg\" type=\"image/jpeg\">\\n           <img alt=\"Moody 31 1990\" height=\"127\" loading=\"lazy\" src=\"https://ics.apolloduck.com/HGilHGzEvUt-6J_1ms7Kvc3IsVw=/190x127/irs/image_bin/x/7404824.jpg\" width=\"190\"/>\\n          </source>\\n         </source>\\n        </picture>\\n       </a>\\n      </div>\\n      <div class=\"eastSDFPHead\">\\n       <a class=\"SidebarTitle\" href=\"/boat/moody-31-mki-for-sale/730382\">\\n        Moody 31 1990\\n       </a>\\n      </div>\\n      <div class=\"eastSDFPFooter\">\\n       <a class=\"SidebarPrice\" href=\"/boat/moody-31-mki-for-sale/730382\">\\n        £29,000\\n       </a>\\n      </div>\\n     </div>\\n     <div class=\"eastSDFPPanel\">\\n      <div class=\"eastSDFPImage\">\\n       <a href=\"/boat/kite-21-for-sale/708133\">\\n        <picture>\\n         <source srcset=\"https://ics.apolloduck.com/JCdMWFDkbzTtC1E4Erx3PXPIwyM=/190x106/filters:format(webp)/irs/image_bin/x/7406483.jpg\" type=\"image/webp\">\\n          <source srcset=\"https://ics.apolloduck.com/bLVVwVFi1NXu4ISOY3ABcjBDMn8=/190x106/irs/image_bin/x/7406483.jpg\" type=\"image/jpeg\">\\n           <img alt=\"~ Ruby ~ Kite Trailer Sailer from Demon Yachts\" height=\"106\" loading=\"lazy\" src=\"https://ics.apolloduck.com/bLVVwVFi1NXu4ISOY3ABcjBDMn8=/190x106/irs/image_bin/x/7406483.jpg\" width=\"190\"/>\\n          </source>\\n         </source>\\n        </picture>\\n       </a>\\n      </div>\\n      <div class=\"eastSDFPHead\">\\n       <a class=\"SidebarTitle\" href=\"/boat/kite-21-for-sale/708133\">\\n        ~ Ruby ~ Kite Trailer Sail...\\n       </a>\\n      </div>\\n      <div class=\"eastSDFPFooter\">\\n       <a class=\"SidebarPrice\" href=\"/boat/kite-21-for-sale/708133\">\\n        £30,500\\n       </a>\\n      </div>\\n     </div>\\n     <div class=\"eastSDFPPanel\">\\n      <div class=\"eastSDFPImage\">\\n       <a href=\"/boat/seahawk-17-for-sale/730449\">\\n        <picture>\\n         <source srcset=\"https://ics.apolloduck.com/VDCab3LIOzPncpnWTKsa8D-Er4I=/190x253/filters:format(webp)/irs/image_bin/x/7406529.jpg\" type=\"image/webp\">\\n          <source srcset=\"https://ics.apolloduck.com/V1CT8zqsYNfZe1zlJQO2mqbMS2s=/190x253/irs/image_bin/x/7406529.jpg\" type=\"image/jpeg\">\\n           <img alt=\"Seahawk 17 ft Sailing Cruiser\" height=\"253\" loading=\"lazy\" src=\"https://ics.apolloduck.com/V1CT8zqsYNfZe1zlJQO2mqbMS2s=/190x253/irs/image_bin/x/7406529.jpg\" width=\"190\"/>\\n          </source>\\n         </source>\\n        </picture>\\n       </a>\\n      </div>\\n      <div class=\"eastSDFPHead\">\\n       <a class=\"SidebarTitle\" href=\"/boat/seahawk-17-for-sale/730449\">\\n        Seahawk 17 Ft Sailing Cruiser\\n       </a>\\n      </div>\\n      <div class=\"eastSDFPFooter\">\\n       <a class=\"SidebarPrice\" href=\"/boat/seahawk-17-for-sale/730449\">\\n        £1,200\\n       </a>\\n      </div>\\n     </div>\\n     <div class=\"eastSDFPPanel\">\\n      <div class=\"eastSDFPImage\">\\n       <a href=\"/boat/reflex-38-for-sale/724882\">\\n        <picture>\\n         <source srcset=\"https://ics.apolloduck.com/yTgH9keVdJwepIjbkDJaJpLbL4A=/190x143/filters:format(webp)/irs/image_bin/x/7255273.jpg\" type=\"image/webp\">\\n          <source srcset=\"https://ics.apolloduck.com/PsiR_1qf6PYmTiLh1ZMqdMTpLNw=/190x143/irs/image_bin/x/7255273.jpg\" type=\"image/jpeg\">\\n           <img alt=\"Reflex 38\" height=\"143\" loading=\"lazy\" src=\"https://ics.apolloduck.com/PsiR_1qf6PYmTiLh1ZMqdMTpLNw=/190x143/irs/image_bin/x/7255273.jpg\" width=\"190\"/>\\n          </source>\\n         </source>\\n        </picture>\\n       </a>\\n      </div>\\n      <div class=\"eastSDFPHead\">\\n       <a class=\"SidebarTitle\" href=\"/boat/reflex-38-for-sale/724882\">\\n        Reflex 38\\n       </a>\\n      </div>\\n      <div class=\"eastSDFPFooter\">\\n       <a class=\"SidebarPrice\" href=\"/boat/reflex-38-for-sale/724882\">\\n        £47,995\\n       </a>\\n      </div>\\n     </div>\\n     <div class=\"eastSDFPPanel\">\\n      <div class=\"eastSDFPImage\">\\n       <a href=\"/boat/sailing-yachts-classic-yacht-for-sale/727950\">\\n        <picture>\\n         <source srcset=\"https://ics.apolloduck.com/fQ8kBv7uYHJKLuaRND1DxkxLeMw=/190x143/filters:format(webp)/irs/image_bin/x/7342190.jpg\" type=\"image/webp\">\\n          <source srcset=\"https://ics.apolloduck.com/aJ9NeXuRRnoB85H5jd9OQVZe_Ho=/190x143/irs/image_bin/x/7342190.jpg\" type=\"image/jpeg\">\\n           <img alt=\"Chesford 18ft clinker sailing cruiser\" height=\"143\" loading=\"lazy\" src=\"https://ics.apolloduck.com/aJ9NeXuRRnoB85H5jd9OQVZe_Ho=/190x143/irs/image_bin/x/7342190.jpg\" width=\"190\"/>\\n          </source>\\n         </source>\\n        </picture>\\n       </a>\\n      </div>\\n      <div class=\"eastSDFPHead\">\\n       <a class=\"SidebarTitle\" href=\"/boat/sailing-yachts-classic-yacht-for-sale/727950\">\\n        Chesford 18ft Clinker Sail...\\n       </a>\\n      </div>\\n      <div class=\"eastSDFPFooter\">\\n       <a class=\"SidebarPrice\" href=\"/boat/sailing-yachts-classic-yacht-for-sale/727950\">\\n        £1,000\\n       </a>\\n      </div>\\n     </div>\\n     <div class=\"eastSDFPPanel\">\\n      <div class=\"eastSDFPImage\">\\n       <a href=\"/boat/jeanneau-sun-odyssey-39-ds-for-sale/730545\">\\n        <picture>\\n         <source srcset=\"https://ics.apolloduck.com/QPswDLhBb3u21-WSmXxnuww0kbU=/190x143/filters:format(webp)/irs/image_bin/x/7408107.jpg\" type=\"image/webp\">\\n          <source srcset=\"https://ics.apolloduck.com/qUfrgj8OusE_HSPUclqkHE9j9CY=/190x143/irs/image_bin/x/7408107.jpg\" type=\"image/jpeg\">\\n           <img alt=\"Sun Odyssey 39DS\" height=\"143\" loading=\"lazy\" src=\"https://ics.apolloduck.com/qUfrgj8OusE_HSPUclqkHE9j9CY=/190x143/irs/image_bin/x/7408107.jpg\" width=\"190\"/>\\n          </source>\\n         </source>\\n        </picture>\\n       </a>\\n      </div>\\n      <div class=\"eastSDFPHead\">\\n       <a class=\"SidebarTitle\" href=\"/boat/jeanneau-sun-odyssey-39-ds-for-sale/730545\">\\n        Sun Odyssey 39ds\\n       </a>\\n      </div>\\n      <div class=\"eastSDFPFooter\">\\n       <a class=\"SidebarPrice\" href=\"/boat/jeanneau-sun-odyssey-39-ds-for-sale/730545\">\\n        £98,550\\n       </a>\\n      </div>\\n     </div>\\n     <div class=\"eastSDFPPanel\">\\n      <div class=\"eastSDFPImage\">\\n       <a href=\"/boat/moody-29-for-sale/696444\">\\n        <picture>\\n         <source srcset=\"https://ics.apolloduck.com/BR4pxL_GxbEMriLZjjlJwyI5qVY=/190x177/filters:format(webp)/irs/image_bin/x/6015201.jpg\" type=\"image/webp\">\\n          <source srcset=\"https://ics.apolloduck.com/8W7BJoMHCCR5CMK3FZGn-NI9da0=/190x177/irs/image_bin/x/6015201.jpg\" type=\"image/jpeg\">\\n           <img alt=\"Moody 29\" height=\"177\" loading=\"lazy\" src=\"https://ics.apolloduck.com/8W7BJoMHCCR5CMK3FZGn-NI9da0=/190x177/irs/image_bin/x/6015201.jpg\" width=\"190\"/>\\n          </source>\\n         </source>\\n        </picture>\\n       </a>\\n      </div>\\n      <div class=\"eastSDFPHead\">\\n       <a class=\"SidebarTitle\" href=\"/boat/moody-29-for-sale/696444\">\\n        Moody 29\\n       </a>\\n      </div>\\n      <div class=\"eastSDFPFooter\">\\n       <a class=\"SidebarPrice\" href=\"/boat/moody-29-for-sale/696444\">\\n        £12,995\\n       </a>\\n      </div>\\n     </div>\\n     <div class=\"eastSDFPPanel\">\\n      <div class=\"eastSDFPImage\">\\n       <a href=\"/boat/offshore-8-metre-for-sale/730548\">\\n        <picture>\\n         <source srcset=\"https://ics.apolloduck.com/jycbJyDFdsMq0CJhldlzYWe3vXw=/190x143/filters:format(webp)/irs/image_bin/x/7408053.jpg\" type=\"image/webp\">\\n          <source srcset=\"https://ics.apolloduck.com/LwFDXNhxZJH2VZjnqsQt-albsX8=/190x143/irs/image_bin/x/7408053.jpg\" type=\"image/jpeg\">\\n           <img alt=\"Offshore 8 Meter - Van de Stadt, Suffolk\" height=\"143\" loading=\"lazy\" src=\"https://ics.apolloduck.com/LwFDXNhxZJH2VZjnqsQt-albsX8=/190x143/irs/image_bin/x/7408053.jpg\" width=\"190\"/>\\n          </source>\\n         </source>\\n        </picture>\\n       </a>\\n      </div>\\n      <div class=\"eastSDFPHead\">\\n       <a class=\"SidebarTitle\" href=\"/boat/offshore-8-metre-for-sale/730548\">\\n        Offshore 8 Meter - Van De ...\\n       </a>\\n      </div>\\n      <div class=\"eastSDFPFooter\">\\n       <a class=\"SidebarPrice\" href=\"/boat/offshore-8-metre-for-sale/730548\">\\n        £6,000\\n       </a>\\n      </div>\\n     </div>\\n     <div class=\"eastSDFPPanel\">\\n      <div class=\"eastSDFPImage\">\\n       <a href=\"/boat/hunter-boats-pilot-27-for-sale/730574\">\\n        <picture>\\n         <source srcset=\"https://ics.apolloduck.com/GvtCP8jeCsv67XPgAwgYGV4xhBg=/190x143/filters:format(webp)/irs/image_bin/x/7408335.jpg\" type=\"image/webp\">\\n          <source srcset=\"https://ics.apolloduck.com/LDx9f3K1KUmjchNPo4C1d1DRRuE=/190x143/irs/image_bin/x/7408335.jpg\" type=\"image/jpeg\">\\n           <img alt=\"Hunter 27 with accessible London mooring\" height=\"143\" loading=\"lazy\" src=\"https://ics.apolloduck.com/LDx9f3K1KUmjchNPo4C1d1DRRuE=/190x143/irs/image_bin/x/7408335.jpg\" width=\"190\"/>\\n          </source>\\n         </source>\\n        </picture>\\n       </a>\\n      </div>\\n      <div class=\"eastSDFPHead\">\\n       <a class=\"SidebarTitle\" href=\"/boat/hunter-boats-pilot-27-for-sale/730574\">\\n        Hunter 27 With Accessible ...\\n       </a>\\n      </div>\\n      <div class=\"eastSDFPFooter\">\\n       <a class=\"SidebarPrice\" href=\"/boat/hunter-boats-pilot-27-for-sale/730574\">\\n        £25,000\\n       </a>\\n      </div>\\n     </div>\\n     <div class=\"eastSDFPPanel\">\\n      <div class=\"eastSDFPImage\">\\n       <a href=\"/boat/parker-boats-super-seal-for-sale/710072\">\\n        <picture>\\n         <source srcset=\"https://ics.apolloduck.com/reQ5MUCKsF1H1auGr7QttMxh86U=/190x145/filters:format(webp)/irs/image_bin/x/7205431.png\" type=\"image/webp\">\\n          <source srcset=\"https://ics.apolloduck.com/JIrOOTkzcEq65n1CJhc4DSsSjJQ=/190x145/irs/image_bin/x/7205431.png\" type=\"image/jpeg\">\\n           <img alt=\"Parker 27 lift keel yacht\" height=\"145\" loading=\"lazy\" src=\"https://ics.apolloduck.com/JIrOOTkzcEq65n1CJhc4DSsSjJQ=/190x145/irs/image_bin/x/7205431.png\" width=\"190\"/>\\n          </source>\\n         </source>\\n        </picture>\\n       </a>\\n      </div>\\n      <div class=\"eastSDFPHead\">\\n       <a class=\"SidebarTitle\" href=\"/boat/parker-boats-super-seal-for-sale/710072\">\\n        Parker 27 Lift Keel Yacht\\n       </a>\\n      </div>\\n      <div class=\"eastSDFPFooter\">\\n       <a class=\"SidebarPrice\" href=\"/boat/parker-boats-super-seal-for-sale/710072\">\\n        £11,000\\n       </a>\\n      </div>\\n     </div>\\n     <div class=\"eastSDFPPanel\">\\n      <div class=\"eastSDFPImage\">\\n       <a href=\"/boat/iain-oughtred-sooty-tern-for-sale/730645\">\\n        <picture>\\n         <source srcset=\"https://ics.apolloduck.com/g8XFUfAAaHuKKN_k-5nDwVaK6vw=/190x285/filters:format(webp)/irs/image_bin/x/7410335.jpg\" type=\"image/webp\">\\n          <source srcset=\"https://ics.apolloduck.com/l178Jk-35TaFSDY0SYtl7njeRz4=/190x285/irs/image_bin/x/7410335.jpg\" type=\"image/jpeg\">\\n           <img alt=\"2016 Sooty Tern\" height=\"285\" loading=\"lazy\" src=\"https://ics.apolloduck.com/l178Jk-35TaFSDY0SYtl7njeRz4=/190x285/irs/image_bin/x/7410335.jpg\" width=\"190\"/>\\n          </source>\\n         </source>\\n        </picture>\\n       </a>\\n      </div>\\n      <div class=\"eastSDFPHead\">\\n       <a class=\"SidebarTitle\" href=\"/boat/iain-oughtred-sooty-tern-for-sale/730645\">\\n        2016 Sooty Tern\\n       </a>\\n      </div>\\n      <div class=\"eastSDFPFooter\">\\n       <a class=\"SidebarPrice\" href=\"/boat/iain-oughtred-sooty-tern-for-sale/730645\">\\n        £7,000\\n       </a>\\n      </div>\\n     </div>\\n     <div class=\"eastSDFPPanel\">\\n      <div class=\"eastSDFPImage\">\\n       <a href=\"/boat/hanse-301-for-sale/726937\">\\n        <picture>\\n         <source srcset=\"https://ics.apolloduck.com/yVM4Y9JDfXECXNbMB6sOEnQlHaI=/190x143/filters:format(webp)/irs/image_bin/x/7313967.jpg\" type=\"image/webp\">\\n          <source srcset=\"https://ics.apolloduck.com/cZdqZNRrJJ55xt_O7fdxeNN4g9g=/190x143/irs/image_bin/x/7313967.jpg\" type=\"image/jpeg\">\\n           <img alt=\"HANSE 301 ,lovely cruising yacht, well updated, ready. £28500\" height=\"143\" loading=\"lazy\" src=\"https://ics.apolloduck.com/cZdqZNRrJJ55xt_O7fdxeNN4g9g=/190x143/irs/image_bin/x/7313967.jpg\" width=\"190\"/>\\n          </source>\\n         </source>\\n        </picture>\\n       </a>\\n      </div>\\n      <div class=\"eastSDFPHead\">\\n       <a class=\"SidebarTitle\" href=\"/boat/hanse-301-for-sale/726937\">\\n        Hanse 301 ,lovely Cruising...\\n       </a>\\n      </div>\\n      <div class=\"eastSDFPFooter\">\\n       <a class=\"SidebarPrice\" href=\"/boat/hanse-301-for-sale/726937\">\\n        £28,500\\n       </a>\\n      </div>\\n     </div>\\n     <div class=\"eastSDFPPanel\">\\n      <div class=\"eastSDFPImage\">\\n       <a href=\"/boat/scampi-30-for-sale/725062\">\\n        <picture>\\n         <source srcset=\"https://ics.apolloduck.com/yaD7vxi3C6fILC4mYv1EzuDFycE=/190x199/filters:format(webp)/irs/image_bin/x/7260547.jpg\" type=\"image/webp\">\\n          <source srcset=\"https://ics.apolloduck.com/gw4hEzYs8bWyXOzohuzn3h1Pu3k=/190x199/irs/image_bin/x/7260547.jpg\" type=\"image/jpeg\">\\n           <img alt=\"Alvdalspast Scampi 30\" height=\"199\" loading=\"lazy\" src=\"https://ics.apolloduck.com/gw4hEzYs8bWyXOzohuzn3h1Pu3k=/190x199/irs/image_bin/x/7260547.jpg\" width=\"190\"/>\\n          </source>\\n         </source>\\n        </picture>\\n       </a>\\n      </div>\\n      <div class=\"eastSDFPHead\">\\n       <a class=\"SidebarTitle\" href=\"/boat/scampi-30-for-sale/725062\">\\n        Alvdalspast Scampi 30\\n       </a>\\n      </div>\\n      <div class=\"eastSDFPFooter\">\\n       <a class=\"SidebarPrice\" href=\"/boat/scampi-30-for-sale/725062\">\\n        £10,995\\n       </a>\\n      </div>\\n     </div>\\n     <div class=\"eastSDFPPanel\">\\n      <div class=\"eastSDFPImage\">\\n       <a href=\"/boat/sailing-yachts-classic-yacht-for-sale/725178\">\\n        <picture>\\n         <source srcset=\"https://ics.apolloduck.com/DP81AK1ANeg0jh_W3QbXd25Ep6c=/190x143/filters:format(webp)/irs/image_bin/x/7263004.jpg\" type=\"image/webp\">\\n          <source srcset=\"https://ics.apolloduck.com/aJ5J4zyByGE_mMcnBh70Vws7PKY=/190x143/irs/image_bin/x/7263004.jpg\" type=\"image/jpeg\">\\n           <img alt=\"ARCADIA\" height=\"143\" loading=\"lazy\" src=\"https://ics.apolloduck.com/aJ5J4zyByGE_mMcnBh70Vws7PKY=/190x143/irs/image_bin/x/7263004.jpg\" width=\"190\"/>\\n          </source>\\n         </source>\\n        </picture>\\n       </a>\\n      </div>\\n      <div class=\"eastSDFPHead\">\\n       <a class=\"SidebarTitle\" href=\"/boat/sailing-yachts-classic-yacht-for-sale/725178\">\\n        Arcadia\\n       </a>\\n      </div>\\n      <div class=\"eastSDFPFooter\">\\n       <a class=\"SidebarPrice\" href=\"/boat/sailing-yachts-classic-yacht-for-sale/725178\">\\n        £10,000\\n       </a>\\n      </div>\\n     </div>\\n     <div class=\"eastSDFPPanel\">\\n      <div class=\"eastSDFPImage\">\\n       <a href=\"/boat/stag-28-for-sale/727844\">\\n        <picture>\\n         <source srcset=\"https://ics.apolloduck.com/1rr7Df-wzmh7wfgLiQTARHoi0lQ=/190x190/filters:format(webp)/irs/image_bin/x/7340030.jpg\" type=\"image/webp\">\\n          <source srcset=\"https://ics.apolloduck.com/wrFKgR4cytbVwFAtuLwikjQxcVo=/190x190/irs/image_bin/x/7340030.jpg\" type=\"image/jpeg\">\\n           <img alt=\"Stag 28\" height=\"190\" loading=\"lazy\" src=\"https://ics.apolloduck.com/wrFKgR4cytbVwFAtuLwikjQxcVo=/190x190/irs/image_bin/x/7340030.jpg\" width=\"190\"/>\\n          </source>\\n         </source>\\n        </picture>\\n       </a>\\n      </div>\\n      <div class=\"eastSDFPHead\">\\n       <a class=\"SidebarTitle\" href=\"/boat/stag-28-for-sale/727844\">\\n        Stag 28\\n       </a>\\n      </div>\\n      <div class=\"eastSDFPFooter\">\\n       <a class=\"SidebarPrice\" href=\"/boat/stag-28-for-sale/727844\">\\n        £11,750\\n       </a>\\n      </div>\\n     </div>\\n     <br/>\\n     <div class=\"navbg5\">\\n      <p class=\"menulabel\">\\n       UK specialty\\n       <br/>\\n       boat sales\\n      </p>\\n      <ul class=\"menu\">\\n       <li class=\"menuitem\">\\n        <a href=\"https://barges.apolloduck.co.uk/\">\\n         Barges\\n        </a>\\n       </li>\\n       <li class=\"menuitem\">\\n        <a href=\"https://classicboats.apolloduck.co.uk/\">\\n         Classic Boats\\n        </a>\\n       </li>\\n       <li class=\"menuitem\">\\n        <a href=\"https://commercial.apolloduck.co.uk/\">\\n         Commercial\\n        </a>\\n       </li>\\n       <li class=\"menuitem\">\\n        <a href=\"https://fishingboats.apolloduck.co.uk/\">\\n         Fishing Boats\\n        </a>\\n       </li>\\n       <li class=\"menuitem\">\\n        <a href=\"https://houseboats.apolloduck.co.uk/\">\\n         House Boats\\n        </a>\\n       </li>\\n       <li class=\"menuitem\">\\n        <a href=\"https://inflatables.apolloduck.co.uk/\">\\n         Inflatable Boats\\n        </a>\\n       </li>\\n       <li class=\"menuitem\">\\n        <a href=\"https://engines.apolloduck.co.uk/\">\\n         Marine Engines\\n        </a>\\n       </li>\\n       <li class=\"menuitem\">\\n        <a href=\"https://motorboats.apolloduck.co.uk/\">\\n         Motor Boats\\n        </a>\\n       </li>\\n       <li class=\"menuitem\">\\n        <a href=\"https://narrowboats.apolloduck.co.uk/\">\\n         Narrowboats\\n        </a>\\n       </li>\\n       <li class=\"menuitem\">\\n        <a href=\"https://sailingdinghies.apolloduck.co.uk/\">\\n         Sailing Dinghies\\n        </a>\\n       </li>\\n       <li class=\"menuitem\">\\n        <strong>\\n         <span class=\"redtext\">\\n          Sailing Yachts\\n         </span>\\n        </strong>\\n       </li>\\n       <li class=\"menuitem\">\\n        <a href=\"https://sportboats.apolloduck.co.uk/\">\\n         Sport Boats\\n        </a>\\n       </li>\\n      </ul>\\n     </div>\\n     <div class=\"navbg5\">\\n      <p class=\"menulabel\">\\n       Boats for sale\\n       <br/>\\n       by continent\\n      </p>\\n      <ul class=\"menu\">\\n       <li class=\"menuitem\">\\n        <a href=\"https://africa.apolloduck.com/\">\\n         Africa\\n        </a>\\n       </li>\\n       <li class=\"menuitem\">\\n        <a href=\"https://www.apolloduck.asia/\">\\n         Asia\\n        </a>\\n       </li>\\n       <li class=\"menuitem\">\\n        <a href=\"https://www.apolloduck.eu/\">\\n         Europe\\n        </a>\\n       </li>\\n       <li class=\"menuitem\">\\n        <a href=\"https://northamerica.apolloduck.com/\">\\n         North America\\n        </a>\\n       </li>\\n       <li class=\"menuitem\">\\n        <a href=\"https://oceania.apolloduck.com/\">\\n         Oceania\\n        </a>\\n       </li>\\n      </ul>\\n     </div>\\n     <div class=\"navbg5\">\\n      <p class=\"menulabel\">\\n       Boats for sale\\n       <br/>\\n       by country\\n      </p>\\n      <ul class=\"menu\">\\n       <li class=\"menuitem\">\\n        <a href=\"https://au.apolloduck.com/\">\\n         Australia\\n        </a>\\n       </li>\\n       <li class=\"menuitem\">\\n        <a href=\"https://www.apolloduck.be/\">\\n         Belgium\\n        </a>\\n       </li>\\n       <li class=\"menuitem\">\\n        <a href=\"https://ca.apolloduck.com/\">\\n         Canada\\n        </a>\\n       </li>\\n       <li class=\"menuitem\">\\n        <a href=\"https://cn.apolloduck.com/\">\\n         China\\n        </a>\\n       </li>\\n       <li class=\"menuitem\">\\n        <a href=\"https://hr.apolloduck.com/\">\\n         Croatia\\n        </a>\\n       </li>\\n       <li class=\"menuitem\">\\n        <a href=\"https://www.apolloduck.fr/\">\\n         France\\n        </a>\\n       </li>\\n       <li class=\"menuitem\">\\n        <a href=\"https://www.apolloduck.de/\">\\n         Germany\\n        </a>\\n       </li>\\n       <li class=\"menuitem\">\\n        <a href=\"https://www.apolloduck.gr/\">\\n         Greece\\n        </a>\\n       </li>\\n       <li class=\"menuitem\">\\n        <a href=\"https://www.apolloduck.com/\">\\n         International\\n        </a>\\n       </li>\\n       <li class=\"menuitem\">\\n        <a href=\"https://www.apolloduck.ie/\">\\n         Ireland\\n        </a>\\n       </li>\\n       <li class=\"menuitem\">\\n        <a href=\"https://www.apolloduck.it/\">\\n         Italy\\n        </a>\\n       </li>\\n       <li class=\"menuitem\">\\n        <a href=\"https://jp.apolloduck.com/\">\\n         Japan\\n        </a>\\n       </li>\\n       <li class=\"menuitem\">\\n        <a href=\"https://my.apolloduck.com/\">\\n         Malaysia\\n        </a>\\n       </li>\\n       <li class=\"menuitem\">\\n        <a href=\"https://www.apolloduck.com.mt/\">\\n         Malta\\n        </a>\\n       </li>\\n       <li class=\"menuitem\">\\n        <a href=\"https://www.apolloduck.nl/\">\\n         Netherlands\\n        </a>\\n       </li>\\n       <li class=\"menuitem\">\\n        <a href=\"https://www.apolloduck.co.nz/\">\\n         New Zealand\\n        </a>\\n       </li>\\n       <li class=\"menuitem\">\\n        <a href=\"https://no.apolloduck.com/\">\\n         Norway\\n        </a>\\n       </li>\\n       <li class=\"menuitem\">\\n        <a href=\"https://www.apolloduck.pt/\">\\n         Portugal\\n        </a>\\n       </li>\\n       <li class=\"menuitem\">\\n        <a href=\"https://sg.apolloduck.com/\">\\n         Singapore\\n        </a>\\n       </li>\\n       <li class=\"menuitem\">\\n        <a href=\"https://www.apolloduck.co.za/\">\\n         South Africa\\n        </a>\\n       </li>\\n       <li class=\"menuitem\">\\n        <a href=\"https://kr.apolloduck.com/\">\\n         South Korea\\n        </a>\\n       </li>\\n       <li class=\"menuitem\">\\n        <a href=\"https://es.apolloduck.com/\">\\n         Spain\\n        </a>\\n       </li>\\n       <li class=\"menuitem\">\\n        <a href=\"https://www.apolloduck.se/\">\\n         Sweden\\n        </a>\\n       </li>\\n       <li class=\"menuitem\">\\n        <a href=\"https://th.apolloduck.com/\">\\n         Thailand\\n        </a>\\n       </li>\\n       <li class=\"menuitem\">\\n        <a href=\"https://www.apolloduck.web.tr/\">\\n         Turkey\\n        </a>\\n       </li>\\n       <li class=\"menuitem\">\\n        <a href=\"https://www.apolloduck.ae/\">\\n         UAE\\n        </a>\\n       </li>\\n       <li class=\"menuitem\">\\n        <a href=\"https://www.apolloduck.co.uk/\">\\n         UK\\n        </a>\\n       </li>\\n       <li class=\"menuitem\">\\n        <a href=\"https://www.apolloduck.us/\">\\n         USA\\n        </a>\\n       </li>\\n      </ul>\\n     </div>\\n    </div>\\n   </div>\\n   <div id=\"footerNavigation\">\\n    <a href=\"https://members.apolloduck.com/submissions/index.phtml\">\\n     Place an Advert\\n    </a>\\n    |\\n    <a href=\"https://members.apolloduck.com/members/home.phtml\">\\n     My Account\\n    </a>\\n    |\\n    <a href=\"https://members.apolloduck.com/members/register.phtml\">\\n     Register\\n    </a>\\n   </div>\\n   <div id=\"footer\">\\n    <div id=\"disclaimer\">\\n     <p>\\n      <strong>\\n       Caveat Emptor. Verify\\n       <u>\\n        before\\n       </u>\\n       you buy.\\n      </strong>\\n     </p>\\n     <p>\\n      Your use of this website constitutes your acceptance of the\\n      <a href=\"/legal/index.phtml\">\\n       Apollo Duck User Agreement\\n      </a>\\n     </p>\\n     <p>\\n      We use cookies to enhance the functionality of this service. Read more in our\\n      <a href=\"/legal/privacy.phtml\">\\n       Privacy &amp; Cookie Policy\\n      </a>\\n      .\\n     </p>\\n     <p>\\n      <strong>\\n       Apollo Duck\\n      </strong>\\n      is a Registered Trademark |\\n      <a href=\"/legal/copyright.phtml\">\\n       Copyright Notice\\n      </a>\\n      |\\n      <a href=\"/legal/terms.phtml\">\\n       Advertising Terms &amp; Conditions\\n      </a>\\n     </p>\\n    </div>\\n    <br/>\\n    <br/>\\n   </div>\\n  </div>\\n  <script type=\"text/javascript\">\\n   document.querySelector(\"a#_openmenu\").addEventListener(\"click\", (e) => {\\n            document.querySelector(\"div#_leftSidebar\").style.display = \"block\";\\n        });\\n        document.querySelector(\"a#_closemenu\").addEventListener(\"click\", (e) => {\\n            document.querySelector(\"div#_leftSidebar\").style.display = \"none\";\\n        });\\n  </script>\\n </body>\\n</html>\\n'"
            ]
          },
          "execution_count": 178,
          "metadata": {},
          "output_type": "execute_result"
        }
      ],
      "source": [
        "soup.prettify()"
      ]
    },
    {
      "cell_type": "code",
      "execution_count": null,
      "metadata": {
        "colab": {
          "base_uri": "https://localhost:8080/"
        },
        "id": "6XIFvGMPXJhF",
        "outputId": "6221e8e4-9a55-483b-e8b1-6fe2c338016e"
      },
      "outputs": [
        {
          "name": "stdout",
          "output_type": "stream",
          "text": [
            "                                                   id  \\\n",
            "10  https://yachts.apolloduck.co.uk/boat.phtml?id=...   \n",
            "11  https://yachts.apolloduck.co.uk/boat.phtml?id=...   \n",
            "12  https://yachts.apolloduck.co.uk/boat.phtml?id=...   \n",
            "13  https://yachts.apolloduck.co.uk/boat.phtml?id=...   \n",
            "14  https://yachts.apolloduck.co.uk/boat.phtml?id=...   \n",
            "\n",
            "                                   title  \\\n",
            "10     For Sale: 2005 Bavaria 30 Cruiser   \n",
            "11                       For Sale: UFO34   \n",
            "12     For Sale: Heavy Duty Motor Sailor   \n",
            "13    For Sale: C  amp  C 40   C amp C40   \n",
            "14  For Sale: 45ft  HISTORIC LOOE LUGGER   \n",
            "\n",
            "                                              summary  \\\n",
            "10  In my opinion  the Bavaria 30 yacht has to be ...   \n",
            "11  Classic cruiser racer UFO34  Great condition w...   \n",
            "12  30 rsquo   8 ton Ketch  Fully enclosed  6 bert...   \n",
            "13  Manitou is a special cruiser racer  She was de...   \n",
            "14  OUR DADDY was built in Looe  Cornwall in 1921 ...   \n",
            "\n",
            "                                     Description_Long  \\\n",
            "10  \\n                DescriptionIn my opinion, th...   \n",
            "11  \\n                DescriptionClassic cruiser r...   \n",
            "12  \\n                Description30’, 8 ton Ketch....   \n",
            "13  \\n                DescriptionManitou is a spec...   \n",
            "14  \\n                DescriptionOUR DADDY was bui...   \n",
            "\n",
            "                             Price  \\\n",
            "10   \\n            £42,500           \n",
            "11   \\n            £19,000           \n",
            "12   \\n            £29,995           \n",
            "13   \\n            £29,500           \n",
            "14  \\n            £135,000           \n",
            "\n",
            "                                               Status  Tax_status  \\\n",
            "10  \\n                        Available           ...               \n",
            "11  \\n                        Available           ...               \n",
            "12  \\n                        Available           ...  Tax Exempt   \n",
            "13  \\n                        Available           ...               \n",
            "14                                   \\nPrice Reduced   Tax Exempt   \n",
            "\n",
            "                                             Location Year  \\\n",
            "10  \\n                            Dartmouth Area U...        \n",
            "11  \\n                            England Devon UK...        \n",
            "12  \\n                            Kishorn  Highlan...        \n",
            "13  \\n                            River Exe  Devon...        \n",
            "14  \\n                            Devon UK[View Ma...        \n",
            "\n",
            "                                               Length  \\\n",
            "10  \\n                            9.45m           ...   \n",
            "11  \\n                            34'             ...   \n",
            "12  \\n                            30'             ...   \n",
            "13  \\n                            40'             ...   \n",
            "14  \\n                            45'             ...   \n",
            "\n",
            "                                    Description_Short  \\\n",
            "10  Sailing Yachts: For Sale: 2005 Bavaria 30 Crui...   \n",
            "11      Sailing Yachts: For Sale: UFO34 England Devon   \n",
            "12  Sailing Yachts: For Sale: Heavy Duty Motor Sai...   \n",
            "13  Sailing Yachts: For Sale: C  amp  C 40   C amp...   \n",
            "14  Sailing Yachts: For Sale: 45ft  HISTORIC LOOE ...   \n",
            "\n",
            "                                             Keywords  \n",
            "10  Sailing Yachts, For Sale, 2005 Bavaria 30 Crui...  \n",
            "11  Sailing Yachts, For Sale, UFO34, UFO, Landimor...  \n",
            "12  Sailing Yachts, For Sale, Heavy Duty Motor Sai...  \n",
            "13  Sailing Yachts, For Sale, C  amp  C 40   C amp...  \n",
            "14  Sailing Yachts, For Sale, 45ft  HISTORIC LOOE ...  \n"
          ]
        }
      ],
      "source": [
        "print(df.tail())"
      ]
    },
    {
      "cell_type": "code",
      "execution_count": null,
      "metadata": {
        "colab": {
          "base_uri": "https://localhost:8080/"
        },
        "id": "sRSPG2DLXMNd",
        "outputId": "ca5f0c08-51fe-47d0-ce78-f3df42628402"
      },
      "outputs": [
        {
          "name": "stdout",
          "output_type": "stream",
          "text": [
            "['https://yachts.apolloduck.co.uk/boat.phtml?id=727846', 'https://yachts.apolloduck.co.uk/boat.phtml?id=727844', 'https://yachts.apolloduck.co.uk/boat.phtml?id=725187', 'https://yachts.apolloduck.co.uk/boat.phtml?id=642843', 'https://yachts.apolloduck.co.uk/boat.phtml?id=725178', 'https://yachts.apolloduck.co.uk/boat.phtml?id=716632', 'https://yachts.apolloduck.co.uk/boat.phtml?id=687715', 'https://yachts.apolloduck.co.uk/boat.phtml?id=730709', 'https://yachts.apolloduck.co.uk/boat.phtml?id=730708', 'https://yachts.apolloduck.co.uk/boat.phtml?id=730684', 'https://yachts.apolloduck.co.uk/boat.phtml?id=730682', 'https://yachts.apolloduck.co.uk/boat.phtml?id=728854', 'https://yachts.apolloduck.co.uk/boat.phtml?id=698002', 'https://yachts.apolloduck.co.uk/boat.phtml?id=687186', 'https://yachts.apolloduck.co.uk/boat.phtml?id=617310']\n"
          ]
        }
      ],
      "source": [
        "print(df['id'].tolist())"
      ]
    },
    {
      "cell_type": "code",
      "execution_count": null,
      "metadata": {
        "colab": {
          "base_uri": "https://localhost:8080/",
          "height": 166
        },
        "id": "OG27PvByXi8_",
        "outputId": "c3bf1fc7-2887-471b-f376-60e96916d39e"
      },
      "outputs": [
        {
          "ename": "NameError",
          "evalue": "ignored",
          "output_type": "error",
          "traceback": [
            "\u001b[0;31m---------------------------------------------------------------------------\u001b[0m",
            "\u001b[0;31mNameError\u001b[0m                                 Traceback (most recent call last)",
            "\u001b[0;32m<ipython-input-194-435db6718c46>\u001b[0m in \u001b[0;36m<cell line: 1>\u001b[0;34m()\u001b[0m\n\u001b[0;32m----> 1\u001b[0;31m \u001b[0mdescriptions\u001b[0m\u001b[0;34m=\u001b[0m\u001b[0mdata\u001b[0m\u001b[0;34m[\u001b[0m\u001b[0;34m'combined'\u001b[0m\u001b[0;34m]\u001b[0m\u001b[0;34m.\u001b[0m\u001b[0mtolist\u001b[0m\u001b[0;34m(\u001b[0m\u001b[0;34m)\u001b[0m\u001b[0;34m\u001b[0m\u001b[0;34m\u001b[0m\u001b[0m\n\u001b[0m",
            "\u001b[0;31mNameError\u001b[0m: name 'data' is not defined"
          ]
        }
      ],
      "source": [
        "descriptions=data['combined'].tolist()"
      ]
    },
    {
      "cell_type": "code",
      "execution_count": null,
      "metadata": {
        "id": "bQNG3-nPXz__"
      },
      "outputs": [],
      "source": [
        "df.to_csv('yacht_rss.csv')"
      ]
    },
    {
      "cell_type": "code",
      "execution_count": null,
      "metadata": {
        "id": "CVxrLT2kczi_"
      },
      "outputs": [],
      "source": [
        "data['combined']=\"This is \"+data['Title']+\" yacht. It is located in \"+data['Location']+\". Tax status is \"+data['Tax Status']+\". It was built in \"+data['Year'].astype(str)+\". It has a length of \"+data['Length_combined'].astype(str)+\" meters. \"+data['Description']bb"
      ]
    },
    {
      "cell_type": "code",
      "execution_count": null,
      "metadata": {
        "id": "qqfh8WmEdJEO"
      },
      "outputs": [],
      "source": [
        "print(df['Keywords'].tolist)"
      ]
    },
    {
      "cell_type": "code",
      "execution_count": null,
      "metadata": {
        "id": "WhCIEfapd6y6"
      },
      "outputs": [],
      "source": [
        "df['Keywords'] ="
      ]
    }
  ],
  "metadata": {
    "accelerator": "GPU",
    "colab": {
      "provenance": [],
      "authorship_tag": "ABX9TyMG6zVWZf7LpKWjkZhRDOvk",
      "include_colab_link": true
    },
    "kernelspec": {
      "display_name": "Python 3",
      "name": "python3"
    },
    "language_info": {
      "name": "python"
    },
    "widgets": {
      "application/vnd.jupyter.widget-state+json": {
        "033de491befc47d48f2c68701f44221a": {
          "model_module": "@jupyter-widgets/controls",
          "model_module_version": "1.5.0",
          "model_name": "HTMLModel",
          "state": {
            "_dom_classes": [],
            "_model_module": "@jupyter-widgets/controls",
            "_model_module_version": "1.5.0",
            "_model_name": "HTMLModel",
            "_view_count": null,
            "_view_module": "@jupyter-widgets/controls",
            "_view_module_version": "1.5.0",
            "_view_name": "HTMLView",
            "description": "",
            "description_tooltip": null,
            "layout": "IPY_MODEL_379dd5066b45441484ce5746446314cc",
            "placeholder": "​",
            "style": "IPY_MODEL_ed40f96e1c034662b0b66ff3e0a4e00d",
            "value": "Downloading model.safetensors: 100%"
          }
        },
        "087af77049e7498c991fca5061ea6397": {
          "model_module": "@jupyter-widgets/controls",
          "model_module_version": "1.5.0",
          "model_name": "DescriptionStyleModel",
          "state": {
            "_model_module": "@jupyter-widgets/controls",
            "_model_module_version": "1.5.0",
            "_model_name": "DescriptionStyleModel",
            "_view_count": null,
            "_view_module": "@jupyter-widgets/base",
            "_view_module_version": "1.2.0",
            "_view_name": "StyleView",
            "description_width": ""
          }
        },
        "09469acc49104283a475f7638835b57d": {
          "model_module": "@jupyter-widgets/controls",
          "model_module_version": "1.5.0",
          "model_name": "HBoxModel",
          "state": {
            "_dom_classes": [],
            "_model_module": "@jupyter-widgets/controls",
            "_model_module_version": "1.5.0",
            "_model_name": "HBoxModel",
            "_view_count": null,
            "_view_module": "@jupyter-widgets/controls",
            "_view_module_version": "1.5.0",
            "_view_name": "HBoxView",
            "box_style": "",
            "children": [
              "IPY_MODEL_033de491befc47d48f2c68701f44221a",
              "IPY_MODEL_81d139888d6244d9a3482b9c823524ca",
              "IPY_MODEL_8d6532d991f442e3ba9d949215068759"
            ],
            "layout": "IPY_MODEL_f983cc7da7184532bee9a33c5550aa21"
          }
        },
        "0add89f7bebd4ab4b1679f79873bfd1c": {
          "model_module": "@jupyter-widgets/base",
          "model_module_version": "1.2.0",
          "model_name": "LayoutModel",
          "state": {
            "_model_module": "@jupyter-widgets/base",
            "_model_module_version": "1.2.0",
            "_model_name": "LayoutModel",
            "_view_count": null,
            "_view_module": "@jupyter-widgets/base",
            "_view_module_version": "1.2.0",
            "_view_name": "LayoutView",
            "align_content": null,
            "align_items": null,
            "align_self": null,
            "border": null,
            "bottom": null,
            "display": null,
            "flex": null,
            "flex_flow": null,
            "grid_area": null,
            "grid_auto_columns": null,
            "grid_auto_flow": null,
            "grid_auto_rows": null,
            "grid_column": null,
            "grid_gap": null,
            "grid_row": null,
            "grid_template_areas": null,
            "grid_template_columns": null,
            "grid_template_rows": null,
            "height": null,
            "justify_content": null,
            "justify_items": null,
            "left": null,
            "margin": null,
            "max_height": null,
            "max_width": null,
            "min_height": null,
            "min_width": null,
            "object_fit": null,
            "object_position": null,
            "order": null,
            "overflow": null,
            "overflow_x": null,
            "overflow_y": null,
            "padding": null,
            "right": null,
            "top": null,
            "visibility": null,
            "width": null
          }
        },
        "2243342a84d7436dbf5a0bed6254321f": {
          "model_module": "@jupyter-widgets/controls",
          "model_module_version": "1.5.0",
          "model_name": "DescriptionStyleModel",
          "state": {
            "_model_module": "@jupyter-widgets/controls",
            "_model_module_version": "1.5.0",
            "_model_name": "DescriptionStyleModel",
            "_view_count": null,
            "_view_module": "@jupyter-widgets/base",
            "_view_module_version": "1.2.0",
            "_view_name": "StyleView",
            "description_width": ""
          }
        },
        "22b345a1b84f46938ede77d643b46294": {
          "model_module": "@jupyter-widgets/base",
          "model_module_version": "1.2.0",
          "model_name": "LayoutModel",
          "state": {
            "_model_module": "@jupyter-widgets/base",
            "_model_module_version": "1.2.0",
            "_model_name": "LayoutModel",
            "_view_count": null,
            "_view_module": "@jupyter-widgets/base",
            "_view_module_version": "1.2.0",
            "_view_name": "LayoutView",
            "align_content": null,
            "align_items": null,
            "align_self": null,
            "border": null,
            "bottom": null,
            "display": null,
            "flex": null,
            "flex_flow": null,
            "grid_area": null,
            "grid_auto_columns": null,
            "grid_auto_flow": null,
            "grid_auto_rows": null,
            "grid_column": null,
            "grid_gap": null,
            "grid_row": null,
            "grid_template_areas": null,
            "grid_template_columns": null,
            "grid_template_rows": null,
            "height": null,
            "justify_content": null,
            "justify_items": null,
            "left": null,
            "margin": null,
            "max_height": null,
            "max_width": null,
            "min_height": null,
            "min_width": null,
            "object_fit": null,
            "object_position": null,
            "order": null,
            "overflow": null,
            "overflow_x": null,
            "overflow_y": null,
            "padding": null,
            "right": null,
            "top": null,
            "visibility": null,
            "width": null
          }
        },
        "34d9ca58ffe44226b9d684b80cfd1497": {
          "model_module": "@jupyter-widgets/controls",
          "model_module_version": "1.5.0",
          "model_name": "DescriptionStyleModel",
          "state": {
            "_model_module": "@jupyter-widgets/controls",
            "_model_module_version": "1.5.0",
            "_model_name": "DescriptionStyleModel",
            "_view_count": null,
            "_view_module": "@jupyter-widgets/base",
            "_view_module_version": "1.2.0",
            "_view_name": "StyleView",
            "description_width": ""
          }
        },
        "379dd5066b45441484ce5746446314cc": {
          "model_module": "@jupyter-widgets/base",
          "model_module_version": "1.2.0",
          "model_name": "LayoutModel",
          "state": {
            "_model_module": "@jupyter-widgets/base",
            "_model_module_version": "1.2.0",
            "_model_name": "LayoutModel",
            "_view_count": null,
            "_view_module": "@jupyter-widgets/base",
            "_view_module_version": "1.2.0",
            "_view_name": "LayoutView",
            "align_content": null,
            "align_items": null,
            "align_self": null,
            "border": null,
            "bottom": null,
            "display": null,
            "flex": null,
            "flex_flow": null,
            "grid_area": null,
            "grid_auto_columns": null,
            "grid_auto_flow": null,
            "grid_auto_rows": null,
            "grid_column": null,
            "grid_gap": null,
            "grid_row": null,
            "grid_template_areas": null,
            "grid_template_columns": null,
            "grid_template_rows": null,
            "height": null,
            "justify_content": null,
            "justify_items": null,
            "left": null,
            "margin": null,
            "max_height": null,
            "max_width": null,
            "min_height": null,
            "min_width": null,
            "object_fit": null,
            "object_position": null,
            "order": null,
            "overflow": null,
            "overflow_x": null,
            "overflow_y": null,
            "padding": null,
            "right": null,
            "top": null,
            "visibility": null,
            "width": null
          }
        },
        "3b6277741ecf4df1a62d7616c52e87b4": {
          "model_module": "@jupyter-widgets/base",
          "model_module_version": "1.2.0",
          "model_name": "LayoutModel",
          "state": {
            "_model_module": "@jupyter-widgets/base",
            "_model_module_version": "1.2.0",
            "_model_name": "LayoutModel",
            "_view_count": null,
            "_view_module": "@jupyter-widgets/base",
            "_view_module_version": "1.2.0",
            "_view_name": "LayoutView",
            "align_content": null,
            "align_items": null,
            "align_self": null,
            "border": null,
            "bottom": null,
            "display": null,
            "flex": null,
            "flex_flow": null,
            "grid_area": null,
            "grid_auto_columns": null,
            "grid_auto_flow": null,
            "grid_auto_rows": null,
            "grid_column": null,
            "grid_gap": null,
            "grid_row": null,
            "grid_template_areas": null,
            "grid_template_columns": null,
            "grid_template_rows": null,
            "height": null,
            "justify_content": null,
            "justify_items": null,
            "left": null,
            "margin": null,
            "max_height": null,
            "max_width": null,
            "min_height": null,
            "min_width": null,
            "object_fit": null,
            "object_position": null,
            "order": null,
            "overflow": null,
            "overflow_x": null,
            "overflow_y": null,
            "padding": null,
            "right": null,
            "top": null,
            "visibility": null,
            "width": null
          }
        },
        "5e25075dfec84a878843aa129f976286": {
          "model_module": "@jupyter-widgets/controls",
          "model_module_version": "1.5.0",
          "model_name": "HTMLModel",
          "state": {
            "_dom_classes": [],
            "_model_module": "@jupyter-widgets/controls",
            "_model_module_version": "1.5.0",
            "_model_name": "HTMLModel",
            "_view_count": null,
            "_view_module": "@jupyter-widgets/controls",
            "_view_module_version": "1.5.0",
            "_view_name": "HTMLView",
            "description": "",
            "description_tooltip": null,
            "layout": "IPY_MODEL_8a5d2b8dd32b4b63b40cca990cf17672",
            "placeholder": "​",
            "style": "IPY_MODEL_087af77049e7498c991fca5061ea6397",
            "value": " 570/570 [00:00&lt;00:00, 35.1kB/s]"
          }
        },
        "5f4cd13f475e429db88b8ac82416267a": {
          "model_module": "@jupyter-widgets/controls",
          "model_module_version": "1.5.0",
          "model_name": "HBoxModel",
          "state": {
            "_dom_classes": [],
            "_model_module": "@jupyter-widgets/controls",
            "_model_module_version": "1.5.0",
            "_model_name": "HBoxModel",
            "_view_count": null,
            "_view_module": "@jupyter-widgets/controls",
            "_view_module_version": "1.5.0",
            "_view_name": "HBoxView",
            "box_style": "",
            "children": [
              "IPY_MODEL_c35a5d92b39148e299202902c6c1f68a",
              "IPY_MODEL_fda75b1669a2432a901e3a5bb0675c34",
              "IPY_MODEL_5e25075dfec84a878843aa129f976286"
            ],
            "layout": "IPY_MODEL_983ed1969dbd45b7ade6880788ca7f4b"
          }
        },
        "81d139888d6244d9a3482b9c823524ca": {
          "model_module": "@jupyter-widgets/controls",
          "model_module_version": "1.5.0",
          "model_name": "FloatProgressModel",
          "state": {
            "_dom_classes": [],
            "_model_module": "@jupyter-widgets/controls",
            "_model_module_version": "1.5.0",
            "_model_name": "FloatProgressModel",
            "_view_count": null,
            "_view_module": "@jupyter-widgets/controls",
            "_view_module_version": "1.5.0",
            "_view_name": "ProgressView",
            "bar_style": "success",
            "description": "",
            "description_tooltip": null,
            "layout": "IPY_MODEL_3b6277741ecf4df1a62d7616c52e87b4",
            "max": 435755784,
            "min": 0,
            "orientation": "horizontal",
            "style": "IPY_MODEL_c4af5e1bfa3a4440bf56a98427cdb155",
            "value": 435755784
          }
        },
        "887c95fb192b47b1a3df78974208e08f": {
          "model_module": "@jupyter-widgets/controls",
          "model_module_version": "1.5.0",
          "model_name": "ProgressStyleModel",
          "state": {
            "_model_module": "@jupyter-widgets/controls",
            "_model_module_version": "1.5.0",
            "_model_name": "ProgressStyleModel",
            "_view_count": null,
            "_view_module": "@jupyter-widgets/base",
            "_view_module_version": "1.2.0",
            "_view_name": "StyleView",
            "bar_color": null,
            "description_width": ""
          }
        },
        "8a5d2b8dd32b4b63b40cca990cf17672": {
          "model_module": "@jupyter-widgets/base",
          "model_module_version": "1.2.0",
          "model_name": "LayoutModel",
          "state": {
            "_model_module": "@jupyter-widgets/base",
            "_model_module_version": "1.2.0",
            "_model_name": "LayoutModel",
            "_view_count": null,
            "_view_module": "@jupyter-widgets/base",
            "_view_module_version": "1.2.0",
            "_view_name": "LayoutView",
            "align_content": null,
            "align_items": null,
            "align_self": null,
            "border": null,
            "bottom": null,
            "display": null,
            "flex": null,
            "flex_flow": null,
            "grid_area": null,
            "grid_auto_columns": null,
            "grid_auto_flow": null,
            "grid_auto_rows": null,
            "grid_column": null,
            "grid_gap": null,
            "grid_row": null,
            "grid_template_areas": null,
            "grid_template_columns": null,
            "grid_template_rows": null,
            "height": null,
            "justify_content": null,
            "justify_items": null,
            "left": null,
            "margin": null,
            "max_height": null,
            "max_width": null,
            "min_height": null,
            "min_width": null,
            "object_fit": null,
            "object_position": null,
            "order": null,
            "overflow": null,
            "overflow_x": null,
            "overflow_y": null,
            "padding": null,
            "right": null,
            "top": null,
            "visibility": null,
            "width": null
          }
        },
        "8d6532d991f442e3ba9d949215068759": {
          "model_module": "@jupyter-widgets/controls",
          "model_module_version": "1.5.0",
          "model_name": "HTMLModel",
          "state": {
            "_dom_classes": [],
            "_model_module": "@jupyter-widgets/controls",
            "_model_module_version": "1.5.0",
            "_model_name": "HTMLModel",
            "_view_count": null,
            "_view_module": "@jupyter-widgets/controls",
            "_view_module_version": "1.5.0",
            "_view_name": "HTMLView",
            "description": "",
            "description_tooltip": null,
            "layout": "IPY_MODEL_9ec6bae00a2a4e6c92473ecaf660fd9d",
            "placeholder": "​",
            "style": "IPY_MODEL_34d9ca58ffe44226b9d684b80cfd1497",
            "value": " 436M/436M [00:01&lt;00:00, 301MB/s]"
          }
        },
        "983ed1969dbd45b7ade6880788ca7f4b": {
          "model_module": "@jupyter-widgets/base",
          "model_module_version": "1.2.0",
          "model_name": "LayoutModel",
          "state": {
            "_model_module": "@jupyter-widgets/base",
            "_model_module_version": "1.2.0",
            "_model_name": "LayoutModel",
            "_view_count": null,
            "_view_module": "@jupyter-widgets/base",
            "_view_module_version": "1.2.0",
            "_view_name": "LayoutView",
            "align_content": null,
            "align_items": null,
            "align_self": null,
            "border": null,
            "bottom": null,
            "display": null,
            "flex": null,
            "flex_flow": null,
            "grid_area": null,
            "grid_auto_columns": null,
            "grid_auto_flow": null,
            "grid_auto_rows": null,
            "grid_column": null,
            "grid_gap": null,
            "grid_row": null,
            "grid_template_areas": null,
            "grid_template_columns": null,
            "grid_template_rows": null,
            "height": null,
            "justify_content": null,
            "justify_items": null,
            "left": null,
            "margin": null,
            "max_height": null,
            "max_width": null,
            "min_height": null,
            "min_width": null,
            "object_fit": null,
            "object_position": null,
            "order": null,
            "overflow": null,
            "overflow_x": null,
            "overflow_y": null,
            "padding": null,
            "right": null,
            "top": null,
            "visibility": null,
            "width": null
          }
        },
        "9ec6bae00a2a4e6c92473ecaf660fd9d": {
          "model_module": "@jupyter-widgets/base",
          "model_module_version": "1.2.0",
          "model_name": "LayoutModel",
          "state": {
            "_model_module": "@jupyter-widgets/base",
            "_model_module_version": "1.2.0",
            "_model_name": "LayoutModel",
            "_view_count": null,
            "_view_module": "@jupyter-widgets/base",
            "_view_module_version": "1.2.0",
            "_view_name": "LayoutView",
            "align_content": null,
            "align_items": null,
            "align_self": null,
            "border": null,
            "bottom": null,
            "display": null,
            "flex": null,
            "flex_flow": null,
            "grid_area": null,
            "grid_auto_columns": null,
            "grid_auto_flow": null,
            "grid_auto_rows": null,
            "grid_column": null,
            "grid_gap": null,
            "grid_row": null,
            "grid_template_areas": null,
            "grid_template_columns": null,
            "grid_template_rows": null,
            "height": null,
            "justify_content": null,
            "justify_items": null,
            "left": null,
            "margin": null,
            "max_height": null,
            "max_width": null,
            "min_height": null,
            "min_width": null,
            "object_fit": null,
            "object_position": null,
            "order": null,
            "overflow": null,
            "overflow_x": null,
            "overflow_y": null,
            "padding": null,
            "right": null,
            "top": null,
            "visibility": null,
            "width": null
          }
        },
        "c35a5d92b39148e299202902c6c1f68a": {
          "model_module": "@jupyter-widgets/controls",
          "model_module_version": "1.5.0",
          "model_name": "HTMLModel",
          "state": {
            "_dom_classes": [],
            "_model_module": "@jupyter-widgets/controls",
            "_model_module_version": "1.5.0",
            "_model_name": "HTMLModel",
            "_view_count": null,
            "_view_module": "@jupyter-widgets/controls",
            "_view_module_version": "1.5.0",
            "_view_name": "HTMLView",
            "description": "",
            "description_tooltip": null,
            "layout": "IPY_MODEL_0add89f7bebd4ab4b1679f79873bfd1c",
            "placeholder": "​",
            "style": "IPY_MODEL_2243342a84d7436dbf5a0bed6254321f",
            "value": "Downloading (…)lve/main/config.json: 100%"
          }
        },
        "c4af5e1bfa3a4440bf56a98427cdb155": {
          "model_module": "@jupyter-widgets/controls",
          "model_module_version": "1.5.0",
          "model_name": "ProgressStyleModel",
          "state": {
            "_model_module": "@jupyter-widgets/controls",
            "_model_module_version": "1.5.0",
            "_model_name": "ProgressStyleModel",
            "_view_count": null,
            "_view_module": "@jupyter-widgets/base",
            "_view_module_version": "1.2.0",
            "_view_name": "StyleView",
            "bar_color": null,
            "description_width": ""
          }
        },
        "ed40f96e1c034662b0b66ff3e0a4e00d": {
          "model_module": "@jupyter-widgets/controls",
          "model_module_version": "1.5.0",
          "model_name": "DescriptionStyleModel",
          "state": {
            "_model_module": "@jupyter-widgets/controls",
            "_model_module_version": "1.5.0",
            "_model_name": "DescriptionStyleModel",
            "_view_count": null,
            "_view_module": "@jupyter-widgets/base",
            "_view_module_version": "1.2.0",
            "_view_name": "StyleView",
            "description_width": ""
          }
        },
        "f983cc7da7184532bee9a33c5550aa21": {
          "model_module": "@jupyter-widgets/base",
          "model_module_version": "1.2.0",
          "model_name": "LayoutModel",
          "state": {
            "_model_module": "@jupyter-widgets/base",
            "_model_module_version": "1.2.0",
            "_model_name": "LayoutModel",
            "_view_count": null,
            "_view_module": "@jupyter-widgets/base",
            "_view_module_version": "1.2.0",
            "_view_name": "LayoutView",
            "align_content": null,
            "align_items": null,
            "align_self": null,
            "border": null,
            "bottom": null,
            "display": null,
            "flex": null,
            "flex_flow": null,
            "grid_area": null,
            "grid_auto_columns": null,
            "grid_auto_flow": null,
            "grid_auto_rows": null,
            "grid_column": null,
            "grid_gap": null,
            "grid_row": null,
            "grid_template_areas": null,
            "grid_template_columns": null,
            "grid_template_rows": null,
            "height": null,
            "justify_content": null,
            "justify_items": null,
            "left": null,
            "margin": null,
            "max_height": null,
            "max_width": null,
            "min_height": null,
            "min_width": null,
            "object_fit": null,
            "object_position": null,
            "order": null,
            "overflow": null,
            "overflow_x": null,
            "overflow_y": null,
            "padding": null,
            "right": null,
            "top": null,
            "visibility": null,
            "width": null
          }
        },
        "fda75b1669a2432a901e3a5bb0675c34": {
          "model_module": "@jupyter-widgets/controls",
          "model_module_version": "1.5.0",
          "model_name": "FloatProgressModel",
          "state": {
            "_dom_classes": [],
            "_model_module": "@jupyter-widgets/controls",
            "_model_module_version": "1.5.0",
            "_model_name": "FloatProgressModel",
            "_view_count": null,
            "_view_module": "@jupyter-widgets/controls",
            "_view_module_version": "1.5.0",
            "_view_name": "ProgressView",
            "bar_style": "success",
            "description": "",
            "description_tooltip": null,
            "layout": "IPY_MODEL_22b345a1b84f46938ede77d643b46294",
            "max": 570,
            "min": 0,
            "orientation": "horizontal",
            "style": "IPY_MODEL_887c95fb192b47b1a3df78974208e08f",
            "value": 570
          }
        }
      }
    }
  },
  "nbformat": 4,
  "nbformat_minor": 0
}